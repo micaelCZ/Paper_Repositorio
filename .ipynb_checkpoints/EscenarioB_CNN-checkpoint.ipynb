{
 "cells": [
  {
   "cell_type": "markdown",
   "metadata": {
    "colab_type": "text",
    "id": "view-in-github"
   },
   "source": [
    "<a href=\"https://colab.research.google.com/github/micaelCZ/Paper_Repositorio/blob/main/EscenarioB_CNN.ipynb\" target=\"_parent\"><img src=\"https://colab.research.google.com/assets/colab-badge.svg\" alt=\"Open In Colab\"/></a>"
   ]
  },
  {
   "cell_type": "code",
   "execution_count": 2,
   "metadata": {
    "colab": {
     "base_uri": "https://localhost:8080/"
    },
    "id": "r_UClIvH49bU",
    "outputId": "e245c6d0-08fe-43b1-dc9e-1c2cc640835d"
   },
   "outputs": [],
   "source": [
    "import pandas as pd\n",
    "import numpy as np\n",
    "from sklearn.model_selection import train_test_split\n",
    "from tensorflow import keras\n",
    "from sklearn.metrics import roc_curve, auc\n",
    "import matplotlib.pyplot as plt\n",
    "from tensorflow.keras.utils import to_categorical\n",
    "from tensorflow.keras.metrics import Precision, Recall\n",
    "from keras.callbacks import EarlyStopping\n",
    "from tensorflow.keras.wrappers.scikit_learn import KerasClassifier\n",
    "from sklearn.model_selection import GridSearchCV\n",
    "from tensorflow_addons.metrics import F1Score"
   ]
  },
  {
   "cell_type": "code",
   "execution_count": 3,
   "metadata": {
    "id": "l4N_OJbK5EAR"
   },
   "outputs": [],
   "source": [
    "# Load the data\n",
    "url = 'https://raw.githubusercontent.com/micaelCZ/Paper_Repositorio/main/dataset/datasetPreprocesado/Escenario2.csv'\n",
    "df = pd.read_csv(url)\n",
    "df = pd.read_csv(url,low_memory=False)\n",
    "dataframe = pd.read_csv(url,low_memory=False)"
   ]
  },
  {
   "cell_type": "code",
   "execution_count": 4,
   "metadata": {
    "id": "0xubayyt5FsQ"
   },
   "outputs": [],
   "source": [
    "# Normalise the data\n",
    "def dfNormalize(df):\n",
    "    for feature_name in df.columns:\n",
    "        df.loc[:,feature_name]= pd.to_numeric(df.loc[:,feature_name], errors='coerce').fillna(0)\n",
    "        max_value = df[feature_name].max()\n",
    "        min_value = df[feature_name].min()   \n",
    "        if (max_value - min_value) > 0:\n",
    "            df.loc[:,feature_name] = (df.loc[:,feature_name] - min_value) / (max_value - min_value)\n",
    "        else:\n",
    "            df.loc[:,feature_name] = (df.loc[:,feature_name]- min_value)    \n",
    "    return df"
   ]
  },
  {
   "cell_type": "code",
   "execution_count": 5,
   "metadata": {
    "id": "TfQXYcnU5FuP"
   },
   "outputs": [],
   "source": [
    "# Split the data into train and test sets\n",
    "y = df['label']\n",
    "label_map = {'AUDIO': 0, 'BROWSING': 1, 'CHAT': 2, 'FILE-TRANSFER' : 3, 'MAIL' : 4, 'P2P' : 5, 'VIDEO' : 6, 'VOIP' : 7}\n",
    "change_labels = lambda x: label_map[x] if x in label_map else -1\n",
    "y = df['label'].apply(change_labels)"
   ]
  },
  {
   "cell_type": "code",
   "execution_count": 6,
   "metadata": {
    "id": "XhrwIREY5Fwg"
   },
   "outputs": [],
   "source": [
    "X = df.iloc[:, 4:-1]\n",
    "X = dfNormalize(X)\n",
    "X_train, X_test, y_train, y_test = train_test_split(X, y, test_size=0.2, random_state=42, stratify=y)"
   ]
  },
  {
   "cell_type": "code",
   "execution_count": 7,
   "metadata": {
    "id": "ls1NXPeA5Fyw"
   },
   "outputs": [],
   "source": [
    "# Reshape the data for Conv1D\n",
    "X_train = X_train.values.reshape((X_train.shape[0], X_train.shape[1], 1))\n",
    "X_test = X_test.values.reshape((X_test.shape[0], X_test.shape[1], 1))\n"
   ]
  },
  {
   "cell_type": "code",
   "execution_count": 8,
   "metadata": {
    "id": "1q5JXDf95F1A"
   },
   "outputs": [],
   "source": [
    "# One-hot encode the labels\n",
    "y_train = to_categorical(y_train)\n",
    "y_test = to_categorical(y_test)\n"
   ]
  },
  {
   "cell_type": "code",
   "execution_count": 9,
   "metadata": {
    "id": "LMD55l_p5F6J"
   },
   "outputs": [],
   "source": [
    "def create_model(optimizer='adam', dropout_rate=0.5):\n",
    "    model = keras.models.Sequential([\n",
    "        keras.layers.Conv1D(filters=64, kernel_size=3, activation='relu', input_shape=(X_train.shape[1], 1)),\n",
    "        keras.layers.MaxPool1D(pool_size=2),\n",
    "        keras.layers.Conv1D(filters=128, kernel_size=3, activation='relu'),\n",
    "        keras.layers.MaxPool1D(pool_size=2),\n",
    "        keras.layers.Flatten(),\n",
    "        keras.layers.Dense(256, activation='relu'),\n",
    "        keras.layers.Dropout(dropout_rate),\n",
    "        keras.layers.Dense(128, activation='relu'),\n",
    "        keras.layers.Dropout(dropout_rate),\n",
    "        keras.layers.Dense(8, activation='softmax')\n",
    "    ])\n",
    "    model.compile(optimizer=optimizer, loss='categorical_crossentropy', \n",
    "                  metrics=['accuracy', Precision(), Recall(), F1Score(num_classes=8, average='macro')])\n",
    "    return model"
   ]
  },
  {
   "cell_type": "code",
   "execution_count": 10,
   "metadata": {
    "id": "4HHCnbFX5MRQ"
   },
   "outputs": [
    {
     "name": "stderr",
     "output_type": "stream",
     "text": [
      "C:\\Users\\Holger\\AppData\\Local\\Temp\\ipykernel_13032\\109082367.py:2: DeprecationWarning: KerasClassifier is deprecated, use Sci-Keras (https://github.com/adriangb/scikeras) instead. See https://www.adriangb.com/scikeras/stable/migration.html for help migrating.\n",
      "  model = KerasClassifier(build_fn=create_model, verbose=0)\n"
     ]
    }
   ],
   "source": [
    "# Create the KerasClassifier for GridSearchCV\n",
    "model = KerasClassifier(build_fn=create_model, verbose=0)\n",
    "\n",
    "\n",
    "\n"
   ]
  },
  {
   "cell_type": "code",
   "execution_count": 11,
   "metadata": {
    "id": "qnaZWr685MS3"
   },
   "outputs": [],
   "source": [
    "# Define the hyperparameters to search\n",
    "param_grid = {\n",
    "    'optimizer': ['adam', 'sgd'],\n",
    "    'dropout_rate': [0.5, 0.6, 0.7, 0.8, 0.9], # Aumentar el rango de valores de dropout_rate\n",
    "    'epochs': [30, 40, 50] # Aumentar el número de épocas de entrenamiento\n",
    "}"
   ]
  },
  {
   "cell_type": "code",
   "execution_count": 12,
   "metadata": {
    "colab": {
     "base_uri": "https://localhost:8080/"
    },
    "id": "02N0fkID5MU_",
    "outputId": "35aaf75c-a6d8-47c2-ed6e-584f570d694e"
   },
   "outputs": [
    {
     "name": "stdout",
     "output_type": "stream",
     "text": [
      "Epoch 1/50\n",
      "181/181 [==============================] - 4s 15ms/step - loss: 1.6550 - accuracy: 0.3923 - precision_92: 0.5241 - recall_92: 0.1090 - f1_score: 0.1636 - val_loss: 1.4988 - val_accuracy: 0.4720 - val_precision_92: 0.0000e+00 - val_recall_92: 0.0000e+00 - val_f1_score: 0.1614\n",
      "Epoch 2/50\n",
      "181/181 [==============================] - 2s 12ms/step - loss: 1.4566 - accuracy: 0.4460 - precision_92: 0.6052 - recall_92: 0.1996 - f1_score: 0.2049 - val_loss: 1.4146 - val_accuracy: 0.4814 - val_precision_92: 0.7540 - val_recall_92: 0.1475 - val_f1_score: 0.2397\n",
      "Epoch 3/50\n",
      "181/181 [==============================] - 2s 12ms/step - loss: 1.3803 - accuracy: 0.4840 - precision_92: 0.6630 - recall_92: 0.2514 - f1_score: 0.2466 - val_loss: 1.3131 - val_accuracy: 0.5078 - val_precision_92: 0.8083 - val_recall_92: 0.3012 - val_f1_score: 0.2413\n",
      "Epoch 4/50\n",
      "181/181 [==============================] - 2s 10ms/step - loss: 1.3046 - accuracy: 0.5161 - precision_92: 0.7162 - recall_92: 0.2937 - f1_score: 0.3016 - val_loss: 1.2523 - val_accuracy: 0.5326 - val_precision_92: 0.6951 - val_recall_92: 0.3292 - val_f1_score: 0.3092\n",
      "Epoch 5/50\n",
      "181/181 [==============================] - 2s 12ms/step - loss: 1.2285 - accuracy: 0.5624 - precision_92: 0.7651 - recall_92: 0.3352 - f1_score: 0.3653 - val_loss: 1.1736 - val_accuracy: 0.6056 - val_precision_92: 0.7885 - val_recall_92: 0.3416 - val_f1_score: 0.4004\n",
      "Epoch 6/50\n",
      "181/181 [==============================] - 2s 14ms/step - loss: 1.1453 - accuracy: 0.6277 - precision_92: 0.8064 - recall_92: 0.3884 - f1_score: 0.4284 - val_loss: 1.0899 - val_accuracy: 0.6366 - val_precision_92: 0.7680 - val_recall_92: 0.4317 - val_f1_score: 0.4406\n",
      "Epoch 7/50\n",
      "181/181 [==============================] - 3s 15ms/step - loss: 1.0919 - accuracy: 0.6400 - precision_92: 0.7937 - recall_92: 0.4372 - f1_score: 0.4384 - val_loss: 1.1101 - val_accuracy: 0.6165 - val_precision_92: 0.7316 - val_recall_92: 0.4783 - val_f1_score: 0.4298\n",
      "Epoch 8/50\n",
      "181/181 [==============================] - 2s 13ms/step - loss: 1.0555 - accuracy: 0.6515 - precision_92: 0.7960 - recall_92: 0.4709 - f1_score: 0.4497 - val_loss: 1.0657 - val_accuracy: 0.6444 - val_precision_92: 0.7453 - val_recall_92: 0.4907 - val_f1_score: 0.4637\n",
      "Epoch 9/50\n",
      "181/181 [==============================] - 2s 12ms/step - loss: 1.0406 - accuracy: 0.6574 - precision_92: 0.7961 - recall_92: 0.4849 - f1_score: 0.4543 - val_loss: 1.0252 - val_accuracy: 0.6491 - val_precision_92: 0.7722 - val_recall_92: 0.5000 - val_f1_score: 0.4591\n",
      "Epoch 10/50\n",
      "181/181 [==============================] - 2s 11ms/step - loss: 1.0029 - accuracy: 0.6622 - precision_92: 0.7933 - recall_92: 0.5023 - f1_score: 0.4622 - val_loss: 1.0066 - val_accuracy: 0.6584 - val_precision_92: 0.7770 - val_recall_92: 0.5140 - val_f1_score: 0.4765\n",
      "Epoch 11/50\n",
      "181/181 [==============================] - 3s 14ms/step - loss: 0.9898 - accuracy: 0.6716 - precision_92: 0.7978 - recall_92: 0.5177 - f1_score: 0.4723 - val_loss: 1.0526 - val_accuracy: 0.6429 - val_precision_92: 0.7477 - val_recall_92: 0.5109 - val_f1_score: 0.4548\n",
      "Epoch 12/50\n",
      "181/181 [==============================] - 2s 13ms/step - loss: 0.9816 - accuracy: 0.6735 - precision_92: 0.7973 - recall_92: 0.5156 - f1_score: 0.4757 - val_loss: 1.0179 - val_accuracy: 0.6568 - val_precision_92: 0.7511 - val_recall_92: 0.5388 - val_f1_score: 0.4669\n",
      "Epoch 13/50\n",
      "181/181 [==============================] - 2s 13ms/step - loss: 0.9718 - accuracy: 0.6773 - precision_92: 0.7983 - recall_92: 0.5291 - f1_score: 0.4799 - val_loss: 0.9864 - val_accuracy: 0.6755 - val_precision_92: 0.7677 - val_recall_92: 0.5388 - val_f1_score: 0.4961\n",
      "Epoch 14/50\n",
      "181/181 [==============================] - 2s 12ms/step - loss: 0.9434 - accuracy: 0.6781 - precision_92: 0.7980 - recall_92: 0.5408 - f1_score: 0.4833 - val_loss: 0.9519 - val_accuracy: 0.6661 - val_precision_92: 0.7842 - val_recall_92: 0.5248 - val_f1_score: 0.4791\n",
      "Epoch 15/50\n",
      "181/181 [==============================] - 2s 12ms/step - loss: 0.9300 - accuracy: 0.6852 - precision_92: 0.8013 - recall_92: 0.5472 - f1_score: 0.4857 - val_loss: 0.9457 - val_accuracy: 0.6724 - val_precision_92: 0.7741 - val_recall_92: 0.5481 - val_f1_score: 0.4898\n",
      "Epoch 16/50\n",
      "181/181 [==============================] - 2s 13ms/step - loss: 0.9196 - accuracy: 0.6838 - precision_92: 0.8029 - recall_92: 0.5550 - f1_score: 0.4837 - val_loss: 0.9718 - val_accuracy: 0.6615 - val_precision_92: 0.7647 - val_recall_92: 0.5450 - val_f1_score: 0.4699\n",
      "Epoch 17/50\n",
      "181/181 [==============================] - 2s 11ms/step - loss: 0.8975 - accuracy: 0.6945 - precision_92: 0.8014 - recall_92: 0.5574 - f1_score: 0.4965 - val_loss: 0.9643 - val_accuracy: 0.6599 - val_precision_92: 0.7573 - val_recall_92: 0.5621 - val_f1_score: 0.4726\n",
      "Epoch 18/50\n",
      "181/181 [==============================] - 2s 10ms/step - loss: 0.8797 - accuracy: 0.7002 - precision_92: 0.8089 - recall_92: 0.5738 - f1_score: 0.5046 - val_loss: 0.9393 - val_accuracy: 0.6817 - val_precision_92: 0.7928 - val_recall_92: 0.5109 - val_f1_score: 0.4973\n",
      "Epoch 19/50\n",
      "181/181 [==============================] - 3s 15ms/step - loss: 0.8715 - accuracy: 0.7045 - precision_92: 0.8164 - recall_92: 0.5788 - f1_score: 0.5067 - val_loss: 0.8973 - val_accuracy: 0.6848 - val_precision_92: 0.7918 - val_recall_92: 0.5668 - val_f1_score: 0.4897\n",
      "Epoch 20/50\n",
      "181/181 [==============================] - 3s 15ms/step - loss: 0.8402 - accuracy: 0.7101 - precision_92: 0.8159 - recall_92: 0.5838 - f1_score: 0.5104 - val_loss: 0.8607 - val_accuracy: 0.6863 - val_precision_92: 0.7947 - val_recall_92: 0.6009 - val_f1_score: 0.4882\n",
      "Epoch 21/50\n",
      "181/181 [==============================] - 2s 13ms/step - loss: 0.8402 - accuracy: 0.7137 - precision_92: 0.8220 - recall_92: 0.5869 - f1_score: 0.5122 - val_loss: 0.8679 - val_accuracy: 0.6848 - val_precision_92: 0.7919 - val_recall_92: 0.5497 - val_f1_score: 0.4935\n",
      "Epoch 22/50\n",
      "181/181 [==============================] - 3s 16ms/step - loss: 0.8176 - accuracy: 0.7154 - precision_92: 0.8155 - recall_92: 0.5947 - f1_score: 0.5154 - val_loss: 0.8560 - val_accuracy: 0.7050 - val_precision_92: 0.8069 - val_recall_92: 0.5776 - val_f1_score: 0.5172\n",
      "Epoch 23/50\n",
      "181/181 [==============================] - 3s 15ms/step - loss: 0.7950 - accuracy: 0.7244 - precision_92: 0.8234 - recall_92: 0.6080 - f1_score: 0.5254 - val_loss: 0.8790 - val_accuracy: 0.6879 - val_precision_92: 0.7871 - val_recall_92: 0.5854 - val_f1_score: 0.4990\n",
      "Epoch 24/50\n",
      "181/181 [==============================] - 2s 11ms/step - loss: 0.7991 - accuracy: 0.7272 - precision_92: 0.8323 - recall_92: 0.6032 - f1_score: 0.5371 - val_loss: 0.8466 - val_accuracy: 0.7143 - val_precision_92: 0.8105 - val_recall_92: 0.5978 - val_f1_score: 0.5302\n",
      "Epoch 25/50\n",
      "181/181 [==============================] - 2s 11ms/step - loss: 0.7811 - accuracy: 0.7263 - precision_92: 0.8314 - recall_92: 0.6106 - f1_score: 0.5261 - val_loss: 0.8354 - val_accuracy: 0.6941 - val_precision_92: 0.7824 - val_recall_92: 0.6196 - val_f1_score: 0.5052\n",
      "Epoch 26/50\n",
      "181/181 [==============================] - 2s 12ms/step - loss: 0.7931 - accuracy: 0.7249 - precision_92: 0.8259 - recall_92: 0.6146 - f1_score: 0.5279 - val_loss: 0.8215 - val_accuracy: 0.7065 - val_precision_92: 0.7975 - val_recall_92: 0.6056 - val_f1_score: 0.5185\n",
      "Epoch 27/50\n",
      "181/181 [==============================] - 2s 14ms/step - loss: 0.7789 - accuracy: 0.7313 - precision_92: 0.8288 - recall_92: 0.6111 - f1_score: 0.5346 - val_loss: 0.8165 - val_accuracy: 0.7019 - val_precision_92: 0.7804 - val_recall_92: 0.6180 - val_f1_score: 0.5082\n",
      "Epoch 28/50\n",
      "181/181 [==============================] - 3s 17ms/step - loss: 0.7813 - accuracy: 0.7294 - precision_92: 0.8321 - recall_92: 0.6189 - f1_score: 0.5323 - val_loss: 0.8531 - val_accuracy: 0.6957 - val_precision_92: 0.7787 - val_recall_92: 0.6009 - val_f1_score: 0.5040\n",
      "Epoch 29/50\n",
      "181/181 [==============================] - 3s 15ms/step - loss: 0.7656 - accuracy: 0.7344 - precision_92: 0.8342 - recall_92: 0.6211 - f1_score: 0.5360 - val_loss: 0.8128 - val_accuracy: 0.7034 - val_precision_92: 0.8024 - val_recall_92: 0.6118 - val_f1_score: 0.5147\n",
      "Epoch 30/50\n"
     ]
    },
    {
     "name": "stdout",
     "output_type": "stream",
     "text": [
      "181/181 [==============================] - 2s 11ms/step - loss: 0.7470 - accuracy: 0.7393 - precision_92: 0.8429 - recall_92: 0.6375 - f1_score: 0.5464 - val_loss: 0.8578 - val_accuracy: 0.7096 - val_precision_92: 0.7767 - val_recall_92: 0.6211 - val_f1_score: 0.5267\n",
      "Epoch 31/50\n",
      "181/181 [==============================] - 2s 9ms/step - loss: 0.7600 - accuracy: 0.7358 - precision_92: 0.8397 - recall_92: 0.6234 - f1_score: 0.5388 - val_loss: 0.7982 - val_accuracy: 0.7189 - val_precision_92: 0.7981 - val_recall_92: 0.6568 - val_f1_score: 0.5322\n",
      "Epoch 32/50\n",
      "181/181 [==============================] - 3s 14ms/step - loss: 0.7369 - accuracy: 0.7405 - precision_92: 0.8385 - recall_92: 0.6386 - f1_score: 0.5440 - val_loss: 0.8651 - val_accuracy: 0.6894 - val_precision_92: 0.7906 - val_recall_92: 0.6273 - val_f1_score: 0.5041\n",
      "Epoch 33/50\n",
      "181/181 [==============================] - 3s 14ms/step - loss: 0.7330 - accuracy: 0.7410 - precision_92: 0.8352 - recall_92: 0.6451 - f1_score: 0.5446 - val_loss: 0.7962 - val_accuracy: 0.7174 - val_precision_92: 0.7989 - val_recall_92: 0.6475 - val_f1_score: 0.5260\n",
      "Epoch 34/50\n",
      "181/181 [==============================] - 2s 12ms/step - loss: 0.7231 - accuracy: 0.7436 - precision_92: 0.8391 - recall_92: 0.6419 - f1_score: 0.5508 - val_loss: 0.8088 - val_accuracy: 0.7174 - val_precision_92: 0.8075 - val_recall_92: 0.6320 - val_f1_score: 0.5322\n",
      "Epoch 35/50\n",
      "181/181 [==============================] - 2s 11ms/step - loss: 0.7228 - accuracy: 0.7472 - precision_92: 0.8418 - recall_92: 0.6443 - f1_score: 0.5558 - val_loss: 0.7825 - val_accuracy: 0.7298 - val_precision_92: 0.8142 - val_recall_92: 0.6398 - val_f1_score: 0.5464\n",
      "Epoch 36/50\n",
      "181/181 [==============================] - 3s 16ms/step - loss: 0.7271 - accuracy: 0.7455 - precision_92: 0.8331 - recall_92: 0.6415 - f1_score: 0.5529 - val_loss: 0.7887 - val_accuracy: 0.7236 - val_precision_92: 0.8303 - val_recall_92: 0.6304 - val_f1_score: 0.5381\n",
      "Epoch 37/50\n",
      "181/181 [==============================] - 2s 12ms/step - loss: 0.7134 - accuracy: 0.7460 - precision_92: 0.8350 - recall_92: 0.6520 - f1_score: 0.5616 - val_loss: 0.7879 - val_accuracy: 0.7205 - val_precision_92: 0.7931 - val_recall_92: 0.6429 - val_f1_score: 0.5349\n",
      "Epoch 38/50\n",
      "181/181 [==============================] - 2s 11ms/step - loss: 0.7046 - accuracy: 0.7486 - precision_92: 0.8366 - recall_92: 0.6603 - f1_score: 0.5559 - val_loss: 0.7834 - val_accuracy: 0.7236 - val_precision_92: 0.8396 - val_recall_92: 0.6258 - val_f1_score: 0.5424\n",
      "Epoch 39/50\n",
      "181/181 [==============================] - 2s 12ms/step - loss: 0.7130 - accuracy: 0.7472 - precision_92: 0.8375 - recall_92: 0.6463 - f1_score: 0.5612 - val_loss: 0.8073 - val_accuracy: 0.7189 - val_precision_92: 0.7882 - val_recall_92: 0.6413 - val_f1_score: 0.5324\n",
      "Epoch 40/50\n",
      "181/181 [==============================] - 2s 12ms/step - loss: 0.7032 - accuracy: 0.7538 - precision_92: 0.8394 - recall_92: 0.6641 - f1_score: 0.5736 - val_loss: 0.7900 - val_accuracy: 0.7283 - val_precision_92: 0.7899 - val_recall_92: 0.6832 - val_f1_score: 0.5359\n"
     ]
    },
    {
     "data": {
      "text/plain": [
       "<keras.callbacks.History at 0x1be6d7c3cd0>"
      ]
     },
     "execution_count": 12,
     "metadata": {},
     "output_type": "execute_result"
    }
   ],
   "source": [
    "# Get the best hyperparameters and fit the model with them\n",
    "best_params = grid_search.best_params_\n",
    "best_optimizer = best_params['optimizer']\n",
    "best_dropout_rate = best_params['dropout_rate']\n",
    "best_epochs = best_params['epochs']\n",
    "best_model = create_model(optimizer=best_optimizer, dropout_rate=best_dropout_rate)\n",
    "best_model.fit(X_train, y_train, epochs=best_epochs, batch_size=32, verbose=1, validation_split=0.1,\n",
    "              callbacks=[EarlyStopping(patience=5)])"
   ]
  },
  {
   "cell_type": "code",
   "execution_count": 13,
   "metadata": {
    "colab": {
     "base_uri": "https://localhost:8080/"
    },
    "id": "iNzkOikR5MXC",
    "outputId": "92a54e3d-24e9-454a-a158-3327f13533ec"
   },
   "outputs": [
    {
     "name": "stdout",
     "output_type": "stream",
     "text": [
      "Test Loss: 0.6877\n",
      "Test Accuracy: 0.7595\n",
      "Test Precision: 0.8175\n",
      "Test Recall: 0.6849\n",
      "Test F1 Score: 0.5718\n"
     ]
    }
   ],
   "source": [
    "\n",
    "# Evaluate the model on test data\n",
    "test_loss, test_acc, test_precision, test_recall, test_f1score = best_model.evaluate(X_test, y_test, verbose=0)\n",
    "print(f'Test Loss: {test_loss:.4f}')\n",
    "print(f'Test Accuracy: {test_acc:.4f}')\n",
    "print(f'Test Precision: {test_precision:.4f}')\n",
    "print(f'Test Recall: {test_recall:.4f}')\n",
    "print(f'Test F1 Score: {test_f1score:.4f}')\n"
   ]
  },
  {
   "cell_type": "code",
   "execution_count": null,
   "metadata": {},
   "outputs": [],
   "source": []
  }
 ],
 "metadata": {
  "colab": {
   "authorship_tag": "ABX9TyMhqUUufBygzmYHWW4wDCHL",
   "include_colab_link": true,
   "provenance": []
  },
  "kernelspec": {
   "display_name": "Python 3 (ipykernel)",
   "language": "python",
   "name": "python3"
  },
  "language_info": {
   "codemirror_mode": {
    "name": "ipython",
    "version": 3
   },
   "file_extension": ".py",
   "mimetype": "text/x-python",
   "name": "python",
   "nbconvert_exporter": "python",
   "pygments_lexer": "ipython3",
   "version": "3.9.13"
  }
 },
 "nbformat": 4,
 "nbformat_minor": 1
}
