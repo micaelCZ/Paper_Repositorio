{
  "cells": [
    {
      "cell_type": "markdown",
      "metadata": {
        "id": "view-in-github",
        "colab_type": "text"
      },
      "source": [
        "<a href=\"https://colab.research.google.com/github/micaelCZ/Paper_Repositorio/blob/main/CNN%2BAE%20Escenario%203.ipynb\" target=\"_parent\"><img src=\"https://colab.research.google.com/assets/colab-badge.svg\" alt=\"Open In Colab\"/></a>"
      ]
    },
    {
      "cell_type": "markdown",
      "metadata": {
        "id": "bdad0f55"
      },
      "source": [
        "<center><h1>CNN + AE - Escenario experimental 3</header1></center>"
      ],
      "id": "bdad0f55"
    },
    {
      "cell_type": "code",
      "execution_count": 49,
      "metadata": {
        "id": "b4c0f7c5"
      },
      "outputs": [],
      "source": [
        "import pandas as pd\n",
        "import numpy as np\n",
        "from sklearn.model_selection import train_test_split\n",
        "from keras.layers import Input, Dense, Conv1D, MaxPooling1D, UpSampling1D\n",
        "from keras.models import Model, Sequential\n",
        "from keras.optimizers import Adam\n",
        "from sklearn.preprocessing import LabelEncoder\n",
        "from sklearn.preprocessing import MinMaxScaler"
      ],
      "id": "b4c0f7c5"
    },
    {
      "cell_type": "code",
      "execution_count": 50,
      "metadata": {
        "id": "686167f9"
      },
      "outputs": [],
      "source": [
        "datapath = 'https://raw.githubusercontent.com/micaelCZ/Paper_Repositorio/main/dataset/datasetPreprocesado/Escenario3.csv'\n",
        "names = ['srcip', 'sport', 'dstip', 'dsport', 'proto', 'state', 'dur', 'sbytes', 'dbytes', 'sttl', 'dttl', 'sloss', 'dloss', 'service', 'Sload', 'Dload', 'Spkts', 'Dpkts', 'swin', 'dwin', 'stcpb', 'dtcpb', 'smeansz', 'dmeansz', 'trans_depth', 'res_bdy_len', 'Sjit', 'Djit', 'Stime', 'Ltime', 'Sintpkt', 'Dintpkt', 'tcprtt', 'synack', 'ackdat', 'is_sm_ips_ports', 'ct_state_ttl', 'ct_flw_http_mthd', 'is_ftp_login', 'ct_ftp_cmd', 'ct_srv_src', 'ct_srv_dst', 'ct_dst_ltm', 'ct_src_ltm', 'ct_src_dport_ltm', 'ct_dst_sport_ltm', 'ct_dst_src_ltm', 'attack_cat', 'label']\n",
        "dataframe = pd.read_csv(datapath,names=names,low_memory=False, sep=';')"
      ],
      "id": "686167f9"
    },
    {
      "cell_type": "code",
      "execution_count": 51,
      "metadata": {
        "colab": {
          "base_uri": "https://localhost:8080/",
          "height": 300
        },
        "id": "b02d5d2b",
        "outputId": "10ca6591-ddfd-4f50-fc2e-d02e8ab28571"
      },
      "outputs": [
        {
          "output_type": "execute_result",
          "data": {
            "text/plain": [
              "        srcip  sport          dstip dsport proto state        dur  sbytes  \\\n",
              "0  59.166.0.9   7045  149.171.126.7     25   tcp   FIN   0.201886   37552   \n",
              "1  59.166.0.9   9685  149.171.126.2     80   tcp   FIN  5.864.748   19410   \n",
              "2  59.166.0.2   1421  149.171.126.4     53   udp   CON   0.001391     146   \n",
              "3  59.166.0.2  21553  149.171.126.2     25   tcp   FIN   0.053948   37812   \n",
              "4  59.166.0.8  45212  149.171.126.4     53   udp   CON   0.000953     146   \n",
              "\n",
              "    dbytes  sttl  ...  ct_ftp_cmd  ct_srv_src  ct_srv_dst ct_dst_ltm  \\\n",
              "0     3380    31  ...                       2           2          7   \n",
              "1  1087890    31  ...                       3           1          4   \n",
              "2      178    31  ...                       3           5          2   \n",
              "3     3380    31  ...                       1           1          4   \n",
              "4      178    31  ...                       2           5          2   \n",
              "\n",
              "  ct_src_ltm ct_src_dport_ltm  ct_dst_sport_ltm  ct_dst_src_ltm  attack_cat  \\\n",
              "0          4                1                 1               3         NaN   \n",
              "1          4                1                 1               1         NaN   \n",
              "2          7                1                 1               4         NaN   \n",
              "3          7                1                 1               3         NaN   \n",
              "4          1                1                 1               2         NaN   \n",
              "\n",
              "   label  \n",
              "0      0  \n",
              "1      0  \n",
              "2      0  \n",
              "3      0  \n",
              "4      0  \n",
              "\n",
              "[5 rows x 49 columns]"
            ],
            "text/html": [
              "\n",
              "  <div id=\"df-1b36477f-aca8-4da2-b5b9-55a9742fbd2c\">\n",
              "    <div class=\"colab-df-container\">\n",
              "      <div>\n",
              "<style scoped>\n",
              "    .dataframe tbody tr th:only-of-type {\n",
              "        vertical-align: middle;\n",
              "    }\n",
              "\n",
              "    .dataframe tbody tr th {\n",
              "        vertical-align: top;\n",
              "    }\n",
              "\n",
              "    .dataframe thead th {\n",
              "        text-align: right;\n",
              "    }\n",
              "</style>\n",
              "<table border=\"1\" class=\"dataframe\">\n",
              "  <thead>\n",
              "    <tr style=\"text-align: right;\">\n",
              "      <th></th>\n",
              "      <th>srcip</th>\n",
              "      <th>sport</th>\n",
              "      <th>dstip</th>\n",
              "      <th>dsport</th>\n",
              "      <th>proto</th>\n",
              "      <th>state</th>\n",
              "      <th>dur</th>\n",
              "      <th>sbytes</th>\n",
              "      <th>dbytes</th>\n",
              "      <th>sttl</th>\n",
              "      <th>...</th>\n",
              "      <th>ct_ftp_cmd</th>\n",
              "      <th>ct_srv_src</th>\n",
              "      <th>ct_srv_dst</th>\n",
              "      <th>ct_dst_ltm</th>\n",
              "      <th>ct_src_ltm</th>\n",
              "      <th>ct_src_dport_ltm</th>\n",
              "      <th>ct_dst_sport_ltm</th>\n",
              "      <th>ct_dst_src_ltm</th>\n",
              "      <th>attack_cat</th>\n",
              "      <th>label</th>\n",
              "    </tr>\n",
              "  </thead>\n",
              "  <tbody>\n",
              "    <tr>\n",
              "      <th>0</th>\n",
              "      <td>59.166.0.9</td>\n",
              "      <td>7045</td>\n",
              "      <td>149.171.126.7</td>\n",
              "      <td>25</td>\n",
              "      <td>tcp</td>\n",
              "      <td>FIN</td>\n",
              "      <td>0.201886</td>\n",
              "      <td>37552</td>\n",
              "      <td>3380</td>\n",
              "      <td>31</td>\n",
              "      <td>...</td>\n",
              "      <td></td>\n",
              "      <td>2</td>\n",
              "      <td>2</td>\n",
              "      <td>7</td>\n",
              "      <td>4</td>\n",
              "      <td>1</td>\n",
              "      <td>1</td>\n",
              "      <td>3</td>\n",
              "      <td>NaN</td>\n",
              "      <td>0</td>\n",
              "    </tr>\n",
              "    <tr>\n",
              "      <th>1</th>\n",
              "      <td>59.166.0.9</td>\n",
              "      <td>9685</td>\n",
              "      <td>149.171.126.2</td>\n",
              "      <td>80</td>\n",
              "      <td>tcp</td>\n",
              "      <td>FIN</td>\n",
              "      <td>5.864.748</td>\n",
              "      <td>19410</td>\n",
              "      <td>1087890</td>\n",
              "      <td>31</td>\n",
              "      <td>...</td>\n",
              "      <td></td>\n",
              "      <td>3</td>\n",
              "      <td>1</td>\n",
              "      <td>4</td>\n",
              "      <td>4</td>\n",
              "      <td>1</td>\n",
              "      <td>1</td>\n",
              "      <td>1</td>\n",
              "      <td>NaN</td>\n",
              "      <td>0</td>\n",
              "    </tr>\n",
              "    <tr>\n",
              "      <th>2</th>\n",
              "      <td>59.166.0.2</td>\n",
              "      <td>1421</td>\n",
              "      <td>149.171.126.4</td>\n",
              "      <td>53</td>\n",
              "      <td>udp</td>\n",
              "      <td>CON</td>\n",
              "      <td>0.001391</td>\n",
              "      <td>146</td>\n",
              "      <td>178</td>\n",
              "      <td>31</td>\n",
              "      <td>...</td>\n",
              "      <td></td>\n",
              "      <td>3</td>\n",
              "      <td>5</td>\n",
              "      <td>2</td>\n",
              "      <td>7</td>\n",
              "      <td>1</td>\n",
              "      <td>1</td>\n",
              "      <td>4</td>\n",
              "      <td>NaN</td>\n",
              "      <td>0</td>\n",
              "    </tr>\n",
              "    <tr>\n",
              "      <th>3</th>\n",
              "      <td>59.166.0.2</td>\n",
              "      <td>21553</td>\n",
              "      <td>149.171.126.2</td>\n",
              "      <td>25</td>\n",
              "      <td>tcp</td>\n",
              "      <td>FIN</td>\n",
              "      <td>0.053948</td>\n",
              "      <td>37812</td>\n",
              "      <td>3380</td>\n",
              "      <td>31</td>\n",
              "      <td>...</td>\n",
              "      <td></td>\n",
              "      <td>1</td>\n",
              "      <td>1</td>\n",
              "      <td>4</td>\n",
              "      <td>7</td>\n",
              "      <td>1</td>\n",
              "      <td>1</td>\n",
              "      <td>3</td>\n",
              "      <td>NaN</td>\n",
              "      <td>0</td>\n",
              "    </tr>\n",
              "    <tr>\n",
              "      <th>4</th>\n",
              "      <td>59.166.0.8</td>\n",
              "      <td>45212</td>\n",
              "      <td>149.171.126.4</td>\n",
              "      <td>53</td>\n",
              "      <td>udp</td>\n",
              "      <td>CON</td>\n",
              "      <td>0.000953</td>\n",
              "      <td>146</td>\n",
              "      <td>178</td>\n",
              "      <td>31</td>\n",
              "      <td>...</td>\n",
              "      <td></td>\n",
              "      <td>2</td>\n",
              "      <td>5</td>\n",
              "      <td>2</td>\n",
              "      <td>1</td>\n",
              "      <td>1</td>\n",
              "      <td>1</td>\n",
              "      <td>2</td>\n",
              "      <td>NaN</td>\n",
              "      <td>0</td>\n",
              "    </tr>\n",
              "  </tbody>\n",
              "</table>\n",
              "<p>5 rows × 49 columns</p>\n",
              "</div>\n",
              "      <button class=\"colab-df-convert\" onclick=\"convertToInteractive('df-1b36477f-aca8-4da2-b5b9-55a9742fbd2c')\"\n",
              "              title=\"Convert this dataframe to an interactive table.\"\n",
              "              style=\"display:none;\">\n",
              "        \n",
              "  <svg xmlns=\"http://www.w3.org/2000/svg\" height=\"24px\"viewBox=\"0 0 24 24\"\n",
              "       width=\"24px\">\n",
              "    <path d=\"M0 0h24v24H0V0z\" fill=\"none\"/>\n",
              "    <path d=\"M18.56 5.44l.94 2.06.94-2.06 2.06-.94-2.06-.94-.94-2.06-.94 2.06-2.06.94zm-11 1L8.5 8.5l.94-2.06 2.06-.94-2.06-.94L8.5 2.5l-.94 2.06-2.06.94zm10 10l.94 2.06.94-2.06 2.06-.94-2.06-.94-.94-2.06-.94 2.06-2.06.94z\"/><path d=\"M17.41 7.96l-1.37-1.37c-.4-.4-.92-.59-1.43-.59-.52 0-1.04.2-1.43.59L10.3 9.45l-7.72 7.72c-.78.78-.78 2.05 0 2.83L4 21.41c.39.39.9.59 1.41.59.51 0 1.02-.2 1.41-.59l7.78-7.78 2.81-2.81c.8-.78.8-2.07 0-2.86zM5.41 20L4 18.59l7.72-7.72 1.47 1.35L5.41 20z\"/>\n",
              "  </svg>\n",
              "      </button>\n",
              "      \n",
              "  <style>\n",
              "    .colab-df-container {\n",
              "      display:flex;\n",
              "      flex-wrap:wrap;\n",
              "      gap: 12px;\n",
              "    }\n",
              "\n",
              "    .colab-df-convert {\n",
              "      background-color: #E8F0FE;\n",
              "      border: none;\n",
              "      border-radius: 50%;\n",
              "      cursor: pointer;\n",
              "      display: none;\n",
              "      fill: #1967D2;\n",
              "      height: 32px;\n",
              "      padding: 0 0 0 0;\n",
              "      width: 32px;\n",
              "    }\n",
              "\n",
              "    .colab-df-convert:hover {\n",
              "      background-color: #E2EBFA;\n",
              "      box-shadow: 0px 1px 2px rgba(60, 64, 67, 0.3), 0px 1px 3px 1px rgba(60, 64, 67, 0.15);\n",
              "      fill: #174EA6;\n",
              "    }\n",
              "\n",
              "    [theme=dark] .colab-df-convert {\n",
              "      background-color: #3B4455;\n",
              "      fill: #D2E3FC;\n",
              "    }\n",
              "\n",
              "    [theme=dark] .colab-df-convert:hover {\n",
              "      background-color: #434B5C;\n",
              "      box-shadow: 0px 1px 3px 1px rgba(0, 0, 0, 0.15);\n",
              "      filter: drop-shadow(0px 1px 2px rgba(0, 0, 0, 0.3));\n",
              "      fill: #FFFFFF;\n",
              "    }\n",
              "  </style>\n",
              "\n",
              "      <script>\n",
              "        const buttonEl =\n",
              "          document.querySelector('#df-1b36477f-aca8-4da2-b5b9-55a9742fbd2c button.colab-df-convert');\n",
              "        buttonEl.style.display =\n",
              "          google.colab.kernel.accessAllowed ? 'block' : 'none';\n",
              "\n",
              "        async function convertToInteractive(key) {\n",
              "          const element = document.querySelector('#df-1b36477f-aca8-4da2-b5b9-55a9742fbd2c');\n",
              "          const dataTable =\n",
              "            await google.colab.kernel.invokeFunction('convertToInteractive',\n",
              "                                                     [key], {});\n",
              "          if (!dataTable) return;\n",
              "\n",
              "          const docLinkHtml = 'Like what you see? Visit the ' +\n",
              "            '<a target=\"_blank\" href=https://colab.research.google.com/notebooks/data_table.ipynb>data table notebook</a>'\n",
              "            + ' to learn more about interactive tables.';\n",
              "          element.innerHTML = '';\n",
              "          dataTable['output_type'] = 'display_data';\n",
              "          await google.colab.output.renderOutput(dataTable, element);\n",
              "          const docLink = document.createElement('div');\n",
              "          docLink.innerHTML = docLinkHtml;\n",
              "          element.appendChild(docLink);\n",
              "        }\n",
              "      </script>\n",
              "    </div>\n",
              "  </div>\n",
              "  "
            ]
          },
          "metadata": {},
          "execution_count": 51
        }
      ],
      "source": [
        "dataframe.head()"
      ],
      "id": "b02d5d2b"
    },
    {
      "cell_type": "code",
      "execution_count": 52,
      "metadata": {
        "id": "5b76d216"
      },
      "outputs": [],
      "source": [
        "columna_a_codificar = dataframe['srcip']\n",
        "le = LabelEncoder()\n",
        "columna_codificada = le.fit_transform(columna_a_codificar)\n",
        "dataframe['srcip'] = columna_codificada"
      ],
      "id": "5b76d216"
    },
    {
      "cell_type": "code",
      "execution_count": 53,
      "metadata": {
        "id": "52db685c"
      },
      "outputs": [],
      "source": [
        "columna_a_codificar = dataframe['dstip']\n",
        "le = LabelEncoder()\n",
        "columna_codificada = le.fit_transform(columna_a_codificar)\n",
        "dataframe['dstip'] = columna_codificada"
      ],
      "id": "52db685c"
    },
    {
      "cell_type": "code",
      "execution_count": 54,
      "metadata": {
        "id": "7ab87147"
      },
      "outputs": [],
      "source": [
        "columna_a_codificar = dataframe['dsport']\n",
        "le = LabelEncoder()\n",
        "columna_codificada = le.fit_transform(columna_a_codificar)\n",
        "dataframe['dsport'] = columna_codificada"
      ],
      "id": "7ab87147"
    },
    {
      "cell_type": "code",
      "execution_count": 55,
      "metadata": {
        "id": "358a8535"
      },
      "outputs": [],
      "source": [
        "columna_a_codificar = dataframe['proto']\n",
        "le = LabelEncoder()\n",
        "columna_codificada = le.fit_transform(columna_a_codificar)\n",
        "dataframe['proto'] = columna_codificada"
      ],
      "id": "358a8535"
    },
    {
      "cell_type": "code",
      "execution_count": 56,
      "metadata": {
        "id": "190df222"
      },
      "outputs": [],
      "source": [
        "columna_a_codificar = dataframe['state']\n",
        "le = LabelEncoder()\n",
        "columna_codificada = le.fit_transform(columna_a_codificar)\n",
        "dataframe['state'] = columna_codificada"
      ],
      "id": "190df222"
    },
    {
      "cell_type": "code",
      "execution_count": 57,
      "metadata": {
        "id": "dd9ea13a"
      },
      "outputs": [],
      "source": [
        "columna_a_codificar = dataframe['dur']\n",
        "le = LabelEncoder()\n",
        "columna_codificada = le.fit_transform(columna_a_codificar)\n",
        "dataframe['dur'] = columna_codificada"
      ],
      "id": "dd9ea13a"
    },
    {
      "cell_type": "code",
      "execution_count": 58,
      "metadata": {
        "id": "377a964f"
      },
      "outputs": [],
      "source": [
        "columna_a_codificar = dataframe['service']\n",
        "le = LabelEncoder()\n",
        "columna_codificada = le.fit_transform(columna_a_codificar)\n",
        "dataframe['service'] = columna_codificada"
      ],
      "id": "377a964f"
    },
    {
      "cell_type": "code",
      "execution_count": 59,
      "metadata": {
        "id": "85ae6638"
      },
      "outputs": [],
      "source": [
        "columna_a_codificar = dataframe['Sload']\n",
        "le = LabelEncoder()\n",
        "columna_codificada = le.fit_transform(columna_a_codificar)\n",
        "dataframe['Sload'] = columna_codificada"
      ],
      "id": "85ae6638"
    },
    {
      "cell_type": "code",
      "execution_count": 60,
      "metadata": {
        "id": "8b7c4a97"
      },
      "outputs": [],
      "source": [
        "columna_a_codificar = dataframe['Dload']\n",
        "le = LabelEncoder()\n",
        "columna_codificada = le.fit_transform(columna_a_codificar)\n",
        "dataframe['Dload'] = columna_codificada"
      ],
      "id": "8b7c4a97"
    },
    {
      "cell_type": "code",
      "execution_count": 61,
      "metadata": {
        "id": "2133a363"
      },
      "outputs": [],
      "source": [
        "columna_a_codificar = dataframe['Sjit']\n",
        "le = LabelEncoder()\n",
        "columna_codificada = le.fit_transform(columna_a_codificar)\n",
        "dataframe['Sjit'] = columna_codificada"
      ],
      "id": "2133a363"
    },
    {
      "cell_type": "code",
      "execution_count": 62,
      "metadata": {
        "id": "d2a8eb89"
      },
      "outputs": [],
      "source": [
        "columna_a_codificar = dataframe['Djit']\n",
        "le = LabelEncoder()\n",
        "columna_codificada = le.fit_transform(columna_a_codificar)\n",
        "dataframe['Djit'] = columna_codificada"
      ],
      "id": "d2a8eb89"
    },
    {
      "cell_type": "code",
      "execution_count": 63,
      "metadata": {
        "id": "ed762d5c"
      },
      "outputs": [],
      "source": [
        "columna_a_codificar = dataframe['Sintpkt']\n",
        "le = LabelEncoder()\n",
        "columna_codificada = le.fit_transform(columna_a_codificar)\n",
        "dataframe['Sintpkt'] = columna_codificada"
      ],
      "id": "ed762d5c"
    },
    {
      "cell_type": "code",
      "execution_count": 64,
      "metadata": {
        "id": "4718c5ad"
      },
      "outputs": [],
      "source": [
        "columna_a_codificar = dataframe['Dintpkt']\n",
        "le = LabelEncoder()\n",
        "columna_codificada = le.fit_transform(columna_a_codificar)\n",
        "dataframe['Dintpkt'] = columna_codificada"
      ],
      "id": "4718c5ad"
    },
    {
      "cell_type": "code",
      "execution_count": 65,
      "metadata": {
        "id": "275d5f78"
      },
      "outputs": [],
      "source": [
        "columna_a_codificar = dataframe['ct_ftp_cmd']\n",
        "le = LabelEncoder()\n",
        "columna_codificada = le.fit_transform(columna_a_codificar)\n",
        "dataframe['ct_ftp_cmd'] = columna_codificada"
      ],
      "id": "275d5f78"
    },
    {
      "cell_type": "code",
      "execution_count": 66,
      "metadata": {
        "id": "e609dea8"
      },
      "outputs": [],
      "source": [
        "columna_a_codificar = dataframe['attack_cat']\n",
        "le = LabelEncoder()\n",
        "columna_codificada = le.fit_transform(columna_a_codificar)\n",
        "dataframe['attack_cat'] = columna_codificada"
      ],
      "id": "e609dea8"
    },
    {
      "cell_type": "code",
      "execution_count": 67,
      "metadata": {
        "id": "e186f73e"
      },
      "outputs": [],
      "source": [
        "# Separar las características del conjunto de datos en una matriz separada\n",
        "X = dataframe.iloc[:, :-1].values"
      ],
      "id": "e186f73e"
    },
    {
      "cell_type": "code",
      "execution_count": 68,
      "metadata": {
        "id": "08ab75c4"
      },
      "outputs": [],
      "source": [
        "# Escalar características\n",
        "scaler = MinMaxScaler()\n",
        "X = scaler.fit_transform(X)"
      ],
      "id": "08ab75c4"
    },
    {
      "cell_type": "code",
      "execution_count": 69,
      "metadata": {
        "id": "6e143616"
      },
      "outputs": [],
      "source": [
        "y = dataframe['label']"
      ],
      "id": "6e143616"
    },
    {
      "cell_type": "code",
      "execution_count": 70,
      "metadata": {
        "id": "6b7c0290"
      },
      "outputs": [],
      "source": [
        "# Dividir datos en conjuntos de entrenamiento y prueba\n",
        "X_train, X_test, y_train, y_test = train_test_split(X, y, test_size=0.3, random_state=42)"
      ],
      "id": "6b7c0290"
    },
    {
      "cell_type": "code",
      "execution_count": 71,
      "metadata": {
        "colab": {
          "base_uri": "https://localhost:8080/"
        },
        "id": "7a686027",
        "outputId": "b1acea6e-a4d0-4b43-f7eb-65c9ba05cc03"
      },
      "outputs": [
        {
          "output_type": "stream",
          "name": "stderr",
          "text": [
            "<ipython-input-71-dbad5d3dcdb1>:29: DeprecationWarning: KerasClassifier is deprecated, use Sci-Keras (https://github.com/adriangb/scikeras) instead. See https://www.adriangb.com/scikeras/stable/migration.html for help migrating.\n",
            "  model = KerasClassifier(build_fn=create_model, verbose=0)\n"
          ]
        },
        {
          "output_type": "stream",
          "name": "stdout",
          "text": [
            "Mejores parámetros:  {'batch_size': 32, 'epochs': 50}\n"
          ]
        }
      ],
      "source": [
        "from tensorflow.keras.models import Sequential\n",
        "from tensorflow.keras.layers import Conv1D, MaxPooling1D, Flatten, Dense, Dropout\n",
        "from tensorflow.keras.constraints import MaxNorm\n",
        "from tensorflow.keras.callbacks import EarlyStopping\n",
        "from keras.wrappers.scikit_learn import KerasClassifier\n",
        "from sklearn.model_selection import GridSearchCV\n",
        "\n",
        "# Definir la función para crear el modelo\n",
        "def create_model():\n",
        "    model = Sequential([\n",
        "        Conv1D(64, 3, input_shape=(X_train.shape[1], 1), padding=\"same\", activation=\"relu\", kernel_constraint=MaxNorm(3)),\n",
        "        MaxPooling1D(2),\n",
        "        Dropout(0.3),\n",
        "        Conv1D(32, 3, padding=\"same\", activation=\"relu\", kernel_constraint=MaxNorm(3)),\n",
        "        MaxPooling1D(2),\n",
        "        Dropout(0.3),\n",
        "        Conv1D(16, 3, padding=\"same\", activation=\"relu\", kernel_constraint=MaxNorm(3)),\n",
        "        MaxPooling1D(2),\n",
        "        Dropout(0.3),\n",
        "        Flatten(),\n",
        "        Dense(1, activation=\"sigmoid\"),\n",
        "    ])\n",
        "    \n",
        "    # Compilar el modelo\n",
        "    model.compile(loss='binary_crossentropy', optimizer='adam', metrics=['accuracy'])\n",
        "    return model\n",
        "\n",
        "# Crear una instancia de KerasClassifier para usar en GridSearchCV\n",
        "model = KerasClassifier(build_fn=create_model, verbose=0)\n",
        "\n",
        "# Definir los hiperparámetros para Grid Search\n",
        "param_grid = {\n",
        "    'epochs': [50, 100, 200],\n",
        "    'batch_size': [32, 64, 128]\n",
        "}\n",
        "\n",
        "# Crear instancia del objeto GridSearchCV\n",
        "grid_search = GridSearchCV(estimator=model, param_grid=param_grid, cv=3)\n",
        "\n",
        "# Ajustar el modelo con los datos de entrenamiento\n",
        "grid_search.fit(X_train, y_train)\n",
        "\n",
        "# Mostrar los mejores hiperparámetros encontrados\n",
        "print(\"Mejores parámetros: \", grid_search.best_params_)"
      ],
      "id": "7a686027"
    },
    {
      "cell_type": "code",
      "execution_count": 73,
      "metadata": {
        "id": "1556efcf"
      },
      "outputs": [],
      "source": [
        "batch_size = 32\n",
        "steps_per_epoch = (X_train.shape[0]//batch_size)\n",
        "validation_steps = (X.shape[0] // batch_size)\n",
        "\n",
        "es = EarlyStopping(monitor='accuracy', mode='min', verbose=1, patience=200)"
      ],
      "id": "1556efcf"
    },
    {
      "cell_type": "code",
      "execution_count": 74,
      "metadata": {
        "colab": {
          "base_uri": "https://localhost:8080/"
        },
        "id": "563adafe",
        "outputId": "ebe82273-f5d1-43f0-99c7-6f2e071ffe05"
      },
      "outputs": [
        {
          "output_type": "stream",
          "name": "stdout",
          "text": [
            "Epoch 1/50\n",
            "59/65 [==========================>...] - ETA: 0s - loss: nan - accuracy: 0.4910"
          ]
        },
        {
          "output_type": "stream",
          "name": "stderr",
          "text": [
            "WARNING:tensorflow:Your input ran out of data; interrupting training. Make sure that your dataset or generator can generate at least `steps_per_epoch * epochs` batches (in this case, 93 batches). You may need to use the repeat() function when building your dataset.\n"
          ]
        },
        {
          "output_type": "stream",
          "name": "stdout",
          "text": [
            "\b\b\b\b\b\b\b\b\b\b\b\b\b\b\b\b\b\b\b\b\b\b\b\b\b\b\b\b\b\b\b\b\b\b\b\b\b\b\b\b\b\b\b\b\b\b\b\b\b\b\b\b\b\b\b\b\b\b\b\b\b\b\b\b\b\b\b\b\b\b\b\b\b\b\b\b\b\b\b\r65/65 [==============================] - 2s 13ms/step - loss: nan - accuracy: 0.4918 - val_loss: nan - val_accuracy: 0.5211\n",
            "Epoch 2/50\n",
            "65/65 [==============================] - 0s 6ms/step - loss: nan - accuracy: 0.4918\n",
            "Epoch 3/50\n",
            "65/65 [==============================] - 0s 7ms/step - loss: nan - accuracy: 0.4913\n",
            "Epoch 4/50\n",
            "65/65 [==============================] - 1s 9ms/step - loss: nan - accuracy: 0.4898\n",
            "Epoch 5/50\n",
            "65/65 [==============================] - 1s 9ms/step - loss: nan - accuracy: 0.4918\n",
            "Epoch 6/50\n",
            "65/65 [==============================] - 1s 9ms/step - loss: nan - accuracy: 0.4816\n",
            "Epoch 7/50\n",
            "65/65 [==============================] - 0s 6ms/step - loss: nan - accuracy: 0.5034\n",
            "Epoch 8/50\n",
            "65/65 [==============================] - 0s 6ms/step - loss: nan - accuracy: 0.4855\n",
            "Epoch 9/50\n",
            "65/65 [==============================] - 0s 6ms/step - loss: nan - accuracy: 0.4923\n",
            "Epoch 10/50\n",
            "65/65 [==============================] - 0s 6ms/step - loss: nan - accuracy: 0.4971\n",
            "Epoch 11/50\n",
            "65/65 [==============================] - 0s 7ms/step - loss: nan - accuracy: 0.4758\n",
            "Epoch 12/50\n",
            "65/65 [==============================] - 0s 6ms/step - loss: nan - accuracy: 0.4981\n",
            "Epoch 13/50\n",
            "65/65 [==============================] - 0s 6ms/step - loss: nan - accuracy: 0.4874\n",
            "Epoch 14/50\n",
            "65/65 [==============================] - 0s 6ms/step - loss: nan - accuracy: 0.4918\n",
            "Epoch 15/50\n",
            "65/65 [==============================] - 0s 7ms/step - loss: nan - accuracy: 0.4937\n",
            "Epoch 16/50\n",
            "65/65 [==============================] - 0s 6ms/step - loss: nan - accuracy: 0.4966\n",
            "Epoch 17/50\n",
            "65/65 [==============================] - 0s 6ms/step - loss: nan - accuracy: 0.4802\n",
            "Epoch 18/50\n",
            "65/65 [==============================] - 0s 6ms/step - loss: nan - accuracy: 0.4903\n",
            "Epoch 19/50\n",
            "65/65 [==============================] - 0s 6ms/step - loss: nan - accuracy: 0.4898\n",
            "Epoch 20/50\n",
            "65/65 [==============================] - 0s 6ms/step - loss: nan - accuracy: 0.4942\n",
            "Epoch 21/50\n",
            "65/65 [==============================] - 0s 6ms/step - loss: nan - accuracy: 0.4956\n",
            "Epoch 22/50\n",
            "65/65 [==============================] - 0s 6ms/step - loss: nan - accuracy: 0.4889\n",
            "Epoch 23/50\n",
            "65/65 [==============================] - 0s 7ms/step - loss: nan - accuracy: 0.4918\n",
            "Epoch 24/50\n",
            "65/65 [==============================] - 0s 6ms/step - loss: nan - accuracy: 0.4947\n",
            "Epoch 25/50\n",
            "65/65 [==============================] - 0s 6ms/step - loss: nan - accuracy: 0.4879\n",
            "Epoch 26/50\n",
            "65/65 [==============================] - 0s 6ms/step - loss: nan - accuracy: 0.4850\n",
            "Epoch 27/50\n",
            "65/65 [==============================] - 0s 6ms/step - loss: nan - accuracy: 0.5068\n",
            "Epoch 28/50\n",
            "65/65 [==============================] - 0s 6ms/step - loss: nan - accuracy: 0.4865\n",
            "Epoch 29/50\n",
            "65/65 [==============================] - 0s 6ms/step - loss: nan - accuracy: 0.4840\n",
            "Epoch 30/50\n",
            "65/65 [==============================] - 0s 6ms/step - loss: nan - accuracy: 0.4995\n",
            "Epoch 31/50\n",
            "65/65 [==============================] - 0s 7ms/step - loss: nan - accuracy: 0.4821\n",
            "Epoch 32/50\n",
            "65/65 [==============================] - 1s 8ms/step - loss: nan - accuracy: 0.5063\n",
            "Epoch 33/50\n",
            "65/65 [==============================] - 1s 8ms/step - loss: nan - accuracy: 0.4831\n",
            "Epoch 34/50\n",
            "65/65 [==============================] - 1s 9ms/step - loss: nan - accuracy: 0.4932\n",
            "Epoch 35/50\n",
            "65/65 [==============================] - 0s 5ms/step - loss: nan - accuracy: 0.4845\n",
            "Epoch 36/50\n",
            "65/65 [==============================] - 0s 5ms/step - loss: nan - accuracy: 0.4821\n",
            "Epoch 37/50\n",
            "65/65 [==============================] - 0s 5ms/step - loss: nan - accuracy: 0.5015\n",
            "Epoch 38/50\n",
            "65/65 [==============================] - 0s 6ms/step - loss: nan - accuracy: 0.4869\n",
            "Epoch 39/50\n",
            "65/65 [==============================] - 0s 6ms/step - loss: nan - accuracy: 0.4918\n",
            "Epoch 40/50\n",
            "65/65 [==============================] - 0s 6ms/step - loss: nan - accuracy: 0.4927\n",
            "Epoch 41/50\n",
            "65/65 [==============================] - 0s 6ms/step - loss: nan - accuracy: 0.4860\n",
            "Epoch 42/50\n",
            "65/65 [==============================] - 0s 6ms/step - loss: nan - accuracy: 0.4995\n",
            "Epoch 43/50\n",
            "65/65 [==============================] - 0s 6ms/step - loss: nan - accuracy: 0.4836\n",
            "Epoch 44/50\n",
            "65/65 [==============================] - 0s 6ms/step - loss: nan - accuracy: 0.4952\n",
            "Epoch 45/50\n",
            "65/65 [==============================] - 0s 6ms/step - loss: nan - accuracy: 0.4879\n",
            "Epoch 46/50\n",
            "65/65 [==============================] - 0s 6ms/step - loss: nan - accuracy: 0.4937\n",
            "Epoch 47/50\n",
            "65/65 [==============================] - 0s 6ms/step - loss: nan - accuracy: 0.4952\n",
            "Epoch 48/50\n",
            "65/65 [==============================] - 0s 6ms/step - loss: nan - accuracy: 0.4811\n",
            "Epoch 49/50\n",
            "65/65 [==============================] - 0s 6ms/step - loss: nan - accuracy: 0.4845\n",
            "Epoch 50/50\n",
            "65/65 [==============================] - 0s 6ms/step - loss: nan - accuracy: 0.4985\n",
            "CPU times: user 26.2 s, sys: 1.26 s, total: 27.5 s\n",
            "Wall time: 22.7 s\n"
          ]
        },
        {
          "output_type": "execute_result",
          "data": {
            "text/plain": [
              "<keras.callbacks.History at 0x7fa67c33e550>"
            ]
          },
          "metadata": {},
          "execution_count": 74
        }
      ],
      "source": [
        "%%time\n",
        "\n",
        "# Entrenar el modelo\n",
        "model.fit(X_train, y_train,\n",
        "    steps_per_epoch=steps_per_epoch,\n",
        "    epochs = 50,\n",
        "    validation_data=(X_test, y_test),\n",
        "    validation_steps=validation_steps,\n",
        "    batch_size = batch_size,\n",
        "    callbacks=[es],\n",
        "    verbose=1)"
      ],
      "id": "563adafe"
    },
    {
      "cell_type": "code",
      "execution_count": 78,
      "metadata": {
        "colab": {
          "base_uri": "https://localhost:8080/"
        },
        "id": "a537e9c0",
        "outputId": "578b462b-6247-4d54-f157-b355fb61a626"
      },
      "outputs": [
        {
          "output_type": "stream",
          "name": "stdout",
          "text": [
            "test_accuracy: 52.80\n"
          ]
        }
      ],
      "source": [
        "# Evaluar rendimiento del modelo en datos de prueba\n",
        "score = model.score(X_test, y_test)\n",
        "print('test_accuracy: %.2f' % (score * 100.0))\n",
        "\n"
      ],
      "id": "a537e9c0"
    },
    {
      "cell_type": "code",
      "execution_count": 81,
      "metadata": {
        "colab": {
          "base_uri": "https://localhost:8080/"
        },
        "id": "3761923b",
        "outputId": "9ad8bbef-3dc4-4773-8938-25f003ef864a"
      },
      "outputs": [
        {
          "output_type": "stream",
          "name": "stdout",
          "text": [
            "Accuracy: 52.11\n",
            "F1 score: 35.71\n",
            "Precision: 27.16\n",
            "Recall: 52.11\n"
          ]
        },
        {
          "output_type": "stream",
          "name": "stderr",
          "text": [
            "/usr/local/lib/python3.9/dist-packages/sklearn/metrics/_classification.py:1344: UndefinedMetricWarning: Precision is ill-defined and being set to 0.0 in labels with no predicted samples. Use `zero_division` parameter to control this behavior.\n",
            "  _warn_prf(average, modifier, msg_start, len(result))\n"
          ]
        }
      ],
      "source": [
        "from sklearn.metrics import accuracy_score, precision_score, recall_score, f1_score\n",
        "\n",
        "# predecir probabilidades de modelo para datos de prueba\n",
        "model_probs = model.predict(X_test, verbose=0)\n",
        "# predecir clases para datos de prueba\n",
        "model_classes = np.argmax(model_probs,axis=1)\n",
        "# reducir a un array de 1 dimensión\n",
        "model_probs = model_probs[:, 0]\n",
        "\n",
        "# accuracy: (tp + tn) / (p + n)\n",
        "accuracy = accuracy_score(y_test, model_classes)*100\n",
        "# precision tp / (tp + fp)\n",
        "precision = precision_score(y_test, model_classes, average='weighted')*100\n",
        "# recall: tp / (tp + fn)\n",
        "recall = recall_score(y_test, model_classes, average='weighted')*100\n",
        "# f1: 2 tp / (2 tp + fp + fn)\n",
        "f1 = f1_score(y_test, model_classes, average='weighted')*100\n",
        "\n",
        "print('Accuracy: %.2f' % accuracy)\n",
        "print('F1 score: %.2f' % f1)\n",
        "print('Precision: %.2f' % precision)\n",
        "print('Recall: %.2f' % recall)"
      ],
      "id": "3761923b"
    },
    {
      "cell_type": "markdown",
      "metadata": {
        "id": "9088a4a2"
      },
      "source": [
        "## Grafico Roc Curve"
      ],
      "id": "9088a4a2"
    },
    {
      "cell_type": "code",
      "execution_count": 83,
      "metadata": {
        "colab": {
          "base_uri": "https://localhost:8080/",
          "height": 465
        },
        "id": "b107cc6f",
        "outputId": "bafc6684-807b-4571-f64d-1dde040d5b27"
      },
      "outputs": [
        {
          "output_type": "stream",
          "name": "stdout",
          "text": [
            "29/29 [==============================] - 0s 2ms/step\n"
          ]
        },
        {
          "output_type": "execute_result",
          "data": {
            "text/plain": [
              "<matplotlib.legend.Legend at 0x7fa67c539940>"
            ]
          },
          "metadata": {},
          "execution_count": 83
        },
        {
          "output_type": "display_data",
          "data": {
            "text/plain": [
              "<Figure size 640x480 with 1 Axes>"
            ],
            "image/png": "[encoded data removed]"
          },
          "metadata": {}
        }
      ],
      "source": [
        "import matplotlib.pyplot as plt\n",
        "from sklearn import metrics\n",
        "y_pred = model.predict(X_test)\n",
        "y_pred = (y_pred > 0.5).astype(int)\n",
        "fpr, tpr, _ = metrics.roc_curve(y_test, y_pred)\n",
        "accuracy = metrics.accuracy_score(y_test, y_pred)\n",
        "CNN = \"Accuracy = {:.2f}\".format(accuracy*100)\n",
        "plt.plot(fpr, tpr, label=\"CNN + AE, AUC=\" + str(CNN))\n",
        "plt.legend()"
      ],
      "id": "b107cc6f"
    }
  ],
  "metadata": {
    "colab": {
      "provenance": [],
      "include_colab_link": true
    },
    "kernelspec": {
      "display_name": "Python 3 (ipykernel)",
      "language": "python",
      "name": "python3"
    },
    "language_info": {
      "codemirror_mode": {
        "name": "ipython",
        "version": 3
      },
      "file_extension": ".py",
      "mimetype": "text/x-python",
      "name": "python",
      "nbconvert_exporter": "python",
      "pygments_lexer": "ipython3",
      "version": "3.9.13"
    }
  },
  "nbformat": 4,
  "nbformat_minor": 5
}