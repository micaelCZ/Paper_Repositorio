{
  "cells": [
    {
      "cell_type": "markdown",
      "metadata": {
        "id": "view-in-github",
        "colab_type": "text"
      },
      "source": [
        "<a href=\"https://colab.research.google.com/github/micaelCZ/Paper_Repositorio/blob/main/PAPER_Escenario_A_SVM_KERNELS.ipynb\" target=\"_parent\"><img src=\"https://colab.research.google.com/assets/colab-badge.svg\" alt=\"Open In Colab\"/></a>"
      ]
    },
    {
      "cell_type": "markdown",
      "metadata": {
        "id": "S6Abf4q3TkCj"
      },
      "source": [
        "#  Escenario A KERNEL=SIGMOID\n",
        "\n",
        "\n",
        "https://raw.githubusercontent.com/micaelCZ/Paper_Repositorio/main/dataset/datasetPreprocesado/Escenario1.csv\n"
      ]
    },
    {
      "cell_type": "code",
      "execution_count": 1,
      "metadata": {
        "id": "zaXAfkyxSH93"
      },
      "outputs": [],
      "source": [
        "import pandas as pd\n",
        "import numpy as np\n",
        "import tensorflow as tf\n",
        "from sklearn.preprocessing import StandardScaler\n",
        "from sklearn.model_selection import train_test_split, cross_val_score\n",
        "from sklearn.impute import SimpleImputer\n",
        "from sklearn.metrics import precision_recall_fscore_support\n",
        "from sklearn.svm import SVC"
      ]
    },
    {
      "cell_type": "code",
      "execution_count": 2,
      "metadata": {
        "id": "_v21P7tCSW4E"
      },
      "outputs": [],
      "source": [
        "# Cargar el Dataset\n",
        "datapath = 'https://raw.githubusercontent.com/micaelCZ/Paper_Repositorio/main/dataset/datasetPreprocesado/Escenario1.csv'\n",
        "dataframe = pd.read_csv(datapath, low_memory=False, sep=';')\n"
      ]
    },
    {
      "cell_type": "code",
      "execution_count": 3,
      "metadata": {
        "colab": {
          "base_uri": "https://localhost:8080/",
          "height": 314
        },
        "id": "sw7aCYRscWVn",
        "outputId": "415d4098-8180-4347-8b0a-d1d34440fdeb"
      },
      "outputs": [
        {
          "output_type": "execute_result",
          "data": {
            "text/plain": [
              "   Source IP   Source Port  Destination IP   Destination Port   Protocol  \\\n",
              "0  10.0.2.15         53913   216.58.208.46                 80          6   \n",
              "1  10.0.2.15         53913   216.58.208.46                 80          6   \n",
              "2  10.0.2.15         53913   216.58.208.46                 80          6   \n",
              "3  10.0.2.15         53913   216.58.208.46                 80          6   \n",
              "4  10.0.2.15         53913   216.58.208.46                 80          6   \n",
              "\n",
              "    Flow Duration  Flow Bytes/s      Flow Packets/s  Flow IAT Mean  \\\n",
              "0             435             0  45.977.011.494.253            435   \n",
              "1             259             0  77.220.077.220.077            259   \n",
              "2             891             0  22.446.689.113.356            891   \n",
              "3            1074             0  18.621.973.929.237           1074   \n",
              "4             315             0  63.492.063.492.064            315   \n",
              "\n",
              "   Flow IAT Std  ...   Bwd IAT Min  Active Mean  Active Std  Active Max  \\\n",
              "0             0  ...             0            0           0           0   \n",
              "1             0  ...             0            0           0           0   \n",
              "2             0  ...             0            0           0           0   \n",
              "3             0  ...             0            0           0           0   \n",
              "4             0  ...             0            0           0           0   \n",
              "\n",
              "    Active Min  Idle Mean  Idle Std  Idle Max   Idle Min   label  \n",
              "0            0          0         0         0          0  nonTOR  \n",
              "1            0          0         0         0          0  nonTOR  \n",
              "2            0          0         0         0          0  nonTOR  \n",
              "3            0          0         0         0          0  nonTOR  \n",
              "4            0          0         0         0          0  nonTOR  \n",
              "\n",
              "[5 rows x 29 columns]"
            ],
            "text/html": [
              "\n",
              "  <div id=\"df-7597e4c7-0208-4512-8eff-3831160336c4\">\n",
              "    <div class=\"colab-df-container\">\n",
              "      <div>\n",
              "<style scoped>\n",
              "    .dataframe tbody tr th:only-of-type {\n",
              "        vertical-align: middle;\n",
              "    }\n",
              "\n",
              "    .dataframe tbody tr th {\n",
              "        vertical-align: top;\n",
              "    }\n",
              "\n",
              "    .dataframe thead th {\n",
              "        text-align: right;\n",
              "    }\n",
              "</style>\n",
              "<table border=\"1\" class=\"dataframe\">\n",
              "  <thead>\n",
              "    <tr style=\"text-align: right;\">\n",
              "      <th></th>\n",
              "      <th>Source IP</th>\n",
              "      <th>Source Port</th>\n",
              "      <th>Destination IP</th>\n",
              "      <th>Destination Port</th>\n",
              "      <th>Protocol</th>\n",
              "      <th>Flow Duration</th>\n",
              "      <th>Flow Bytes/s</th>\n",
              "      <th>Flow Packets/s</th>\n",
              "      <th>Flow IAT Mean</th>\n",
              "      <th>Flow IAT Std</th>\n",
              "      <th>...</th>\n",
              "      <th>Bwd IAT Min</th>\n",
              "      <th>Active Mean</th>\n",
              "      <th>Active Std</th>\n",
              "      <th>Active Max</th>\n",
              "      <th>Active Min</th>\n",
              "      <th>Idle Mean</th>\n",
              "      <th>Idle Std</th>\n",
              "      <th>Idle Max</th>\n",
              "      <th>Idle Min</th>\n",
              "      <th>label</th>\n",
              "    </tr>\n",
              "  </thead>\n",
              "  <tbody>\n",
              "    <tr>\n",
              "      <th>0</th>\n",
              "      <td>10.0.2.15</td>\n",
              "      <td>53913</td>\n",
              "      <td>216.58.208.46</td>\n",
              "      <td>80</td>\n",
              "      <td>6</td>\n",
              "      <td>435</td>\n",
              "      <td>0</td>\n",
              "      <td>45.977.011.494.253</td>\n",
              "      <td>435</td>\n",
              "      <td>0</td>\n",
              "      <td>...</td>\n",
              "      <td>0</td>\n",
              "      <td>0</td>\n",
              "      <td>0</td>\n",
              "      <td>0</td>\n",
              "      <td>0</td>\n",
              "      <td>0</td>\n",
              "      <td>0</td>\n",
              "      <td>0</td>\n",
              "      <td>0</td>\n",
              "      <td>nonTOR</td>\n",
              "    </tr>\n",
              "    <tr>\n",
              "      <th>1</th>\n",
              "      <td>10.0.2.15</td>\n",
              "      <td>53913</td>\n",
              "      <td>216.58.208.46</td>\n",
              "      <td>80</td>\n",
              "      <td>6</td>\n",
              "      <td>259</td>\n",
              "      <td>0</td>\n",
              "      <td>77.220.077.220.077</td>\n",
              "      <td>259</td>\n",
              "      <td>0</td>\n",
              "      <td>...</td>\n",
              "      <td>0</td>\n",
              "      <td>0</td>\n",
              "      <td>0</td>\n",
              "      <td>0</td>\n",
              "      <td>0</td>\n",
              "      <td>0</td>\n",
              "      <td>0</td>\n",
              "      <td>0</td>\n",
              "      <td>0</td>\n",
              "      <td>nonTOR</td>\n",
              "    </tr>\n",
              "    <tr>\n",
              "      <th>2</th>\n",
              "      <td>10.0.2.15</td>\n",
              "      <td>53913</td>\n",
              "      <td>216.58.208.46</td>\n",
              "      <td>80</td>\n",
              "      <td>6</td>\n",
              "      <td>891</td>\n",
              "      <td>0</td>\n",
              "      <td>22.446.689.113.356</td>\n",
              "      <td>891</td>\n",
              "      <td>0</td>\n",
              "      <td>...</td>\n",
              "      <td>0</td>\n",
              "      <td>0</td>\n",
              "      <td>0</td>\n",
              "      <td>0</td>\n",
              "      <td>0</td>\n",
              "      <td>0</td>\n",
              "      <td>0</td>\n",
              "      <td>0</td>\n",
              "      <td>0</td>\n",
              "      <td>nonTOR</td>\n",
              "    </tr>\n",
              "    <tr>\n",
              "      <th>3</th>\n",
              "      <td>10.0.2.15</td>\n",
              "      <td>53913</td>\n",
              "      <td>216.58.208.46</td>\n",
              "      <td>80</td>\n",
              "      <td>6</td>\n",
              "      <td>1074</td>\n",
              "      <td>0</td>\n",
              "      <td>18.621.973.929.237</td>\n",
              "      <td>1074</td>\n",
              "      <td>0</td>\n",
              "      <td>...</td>\n",
              "      <td>0</td>\n",
              "      <td>0</td>\n",
              "      <td>0</td>\n",
              "      <td>0</td>\n",
              "      <td>0</td>\n",
              "      <td>0</td>\n",
              "      <td>0</td>\n",
              "      <td>0</td>\n",
              "      <td>0</td>\n",
              "      <td>nonTOR</td>\n",
              "    </tr>\n",
              "    <tr>\n",
              "      <th>4</th>\n",
              "      <td>10.0.2.15</td>\n",
              "      <td>53913</td>\n",
              "      <td>216.58.208.46</td>\n",
              "      <td>80</td>\n",
              "      <td>6</td>\n",
              "      <td>315</td>\n",
              "      <td>0</td>\n",
              "      <td>63.492.063.492.064</td>\n",
              "      <td>315</td>\n",
              "      <td>0</td>\n",
              "      <td>...</td>\n",
              "      <td>0</td>\n",
              "      <td>0</td>\n",
              "      <td>0</td>\n",
              "      <td>0</td>\n",
              "      <td>0</td>\n",
              "      <td>0</td>\n",
              "      <td>0</td>\n",
              "      <td>0</td>\n",
              "      <td>0</td>\n",
              "      <td>nonTOR</td>\n",
              "    </tr>\n",
              "  </tbody>\n",
              "</table>\n",
              "<p>5 rows × 29 columns</p>\n",
              "</div>\n",
              "      <button class=\"colab-df-convert\" onclick=\"convertToInteractive('df-7597e4c7-0208-4512-8eff-3831160336c4')\"\n",
              "              title=\"Convert this dataframe to an interactive table.\"\n",
              "              style=\"display:none;\">\n",
              "        \n",
              "  <svg xmlns=\"http://www.w3.org/2000/svg\" height=\"24px\"viewBox=\"0 0 24 24\"\n",
              "       width=\"24px\">\n",
              "    <path d=\"M0 0h24v24H0V0z\" fill=\"none\"/>\n",
              "    <path d=\"M18.56 5.44l.94 2.06.94-2.06 2.06-.94-2.06-.94-.94-2.06-.94 2.06-2.06.94zm-11 1L8.5 8.5l.94-2.06 2.06-.94-2.06-.94L8.5 2.5l-.94 2.06-2.06.94zm10 10l.94 2.06.94-2.06 2.06-.94-2.06-.94-.94-2.06-.94 2.06-2.06.94z\"/><path d=\"M17.41 7.96l-1.37-1.37c-.4-.4-.92-.59-1.43-.59-.52 0-1.04.2-1.43.59L10.3 9.45l-7.72 7.72c-.78.78-.78 2.05 0 2.83L4 21.41c.39.39.9.59 1.41.59.51 0 1.02-.2 1.41-.59l7.78-7.78 2.81-2.81c.8-.78.8-2.07 0-2.86zM5.41 20L4 18.59l7.72-7.72 1.47 1.35L5.41 20z\"/>\n",
              "  </svg>\n",
              "      </button>\n",
              "      \n",
              "  <style>\n",
              "    .colab-df-container {\n",
              "      display:flex;\n",
              "      flex-wrap:wrap;\n",
              "      gap: 12px;\n",
              "    }\n",
              "\n",
              "    .colab-df-convert {\n",
              "      background-color: #E8F0FE;\n",
              "      border: none;\n",
              "      border-radius: 50%;\n",
              "      cursor: pointer;\n",
              "      display: none;\n",
              "      fill: #1967D2;\n",
              "      height: 32px;\n",
              "      padding: 0 0 0 0;\n",
              "      width: 32px;\n",
              "    }\n",
              "\n",
              "    .colab-df-convert:hover {\n",
              "      background-color: #E2EBFA;\n",
              "      box-shadow: 0px 1px 2px rgba(60, 64, 67, 0.3), 0px 1px 3px 1px rgba(60, 64, 67, 0.15);\n",
              "      fill: #174EA6;\n",
              "    }\n",
              "\n",
              "    [theme=dark] .colab-df-convert {\n",
              "      background-color: #3B4455;\n",
              "      fill: #D2E3FC;\n",
              "    }\n",
              "\n",
              "    [theme=dark] .colab-df-convert:hover {\n",
              "      background-color: #434B5C;\n",
              "      box-shadow: 0px 1px 3px 1px rgba(0, 0, 0, 0.15);\n",
              "      filter: drop-shadow(0px 1px 2px rgba(0, 0, 0, 0.3));\n",
              "      fill: #FFFFFF;\n",
              "    }\n",
              "  </style>\n",
              "\n",
              "      <script>\n",
              "        const buttonEl =\n",
              "          document.querySelector('#df-7597e4c7-0208-4512-8eff-3831160336c4 button.colab-df-convert');\n",
              "        buttonEl.style.display =\n",
              "          google.colab.kernel.accessAllowed ? 'block' : 'none';\n",
              "\n",
              "        async function convertToInteractive(key) {\n",
              "          const element = document.querySelector('#df-7597e4c7-0208-4512-8eff-3831160336c4');\n",
              "          const dataTable =\n",
              "            await google.colab.kernel.invokeFunction('convertToInteractive',\n",
              "                                                     [key], {});\n",
              "          if (!dataTable) return;\n",
              "\n",
              "          const docLinkHtml = 'Like what you see? Visit the ' +\n",
              "            '<a target=\"_blank\" href=https://colab.research.google.com/notebooks/data_table.ipynb>data table notebook</a>'\n",
              "            + ' to learn more about interactive tables.';\n",
              "          element.innerHTML = '';\n",
              "          dataTable['output_type'] = 'display_data';\n",
              "          await google.colab.output.renderOutput(dataTable, element);\n",
              "          const docLink = document.createElement('div');\n",
              "          docLink.innerHTML = docLinkHtml;\n",
              "          element.appendChild(docLink);\n",
              "        }\n",
              "      </script>\n",
              "    </div>\n",
              "  </div>\n",
              "  "
            ]
          },
          "metadata": {},
          "execution_count": 3
        }
      ],
      "source": [
        "dataframe.head()"
      ]
    },
    {
      "cell_type": "code",
      "execution_count": 4,
      "metadata": {
        "colab": {
          "base_uri": "https://localhost:8080/"
        },
        "id": "XsGwtQQjcWVo",
        "outputId": "7c9a46e5-02cb-4f9e-bdbc-f4c51699239f"
      },
      "outputs": [
        {
          "output_type": "execute_result",
          "data": {
            "text/plain": [
              "(7000, 29)"
            ]
          },
          "metadata": {},
          "execution_count": 4
        }
      ],
      "source": [
        "dataframe.shape"
      ]
    },
    {
      "cell_type": "code",
      "execution_count": 5,
      "metadata": {
        "id": "GEZpd5zVSZJk"
      },
      "outputs": [],
      "source": [
        "def dfNormalize(df):\n",
        "    for feature_name in df.columns:\n",
        "        df.loc[:,feature_name]= pd.to_numeric(df.loc[:,feature_name], errors='coerce').fillna(0)\n",
        "        max_value = df[feature_name].max()\n",
        "        min_value = df[feature_name].min()\n",
        "        if (max_value - min_value) > 0:\n",
        "            df.loc[:,feature_name] = (df.loc[:,feature_name] - min_value) / (max_value - min_value)\n",
        "        else:\n",
        "            df.loc[:,feature_name] = (df.loc[:,feature_name]- min_value)\n",
        "    return df"
      ]
    },
    {
      "cell_type": "code",
      "execution_count": 6,
      "metadata": {
        "id": "GO0z5o5WSZSL"
      },
      "outputs": [],
      "source": [
        "dataframe = dataframe.reindex(np.random.permutation(dataframe.index)).copy()\n"
      ]
    },
    {
      "cell_type": "code",
      "execution_count": 7,
      "metadata": {
        "colab": {
          "base_uri": "https://localhost:8080/"
        },
        "id": "ReF0tVO-SdfD",
        "outputId": "f478a022-458e-4aab-a711-b263fae1bbd8"
      },
      "outputs": [
        {
          "output_type": "stream",
          "name": "stdout",
          "text": [
            "        Protocol   Flow Duration   Flow Bytes/s   Flow Packets/s  \\\n",
            "count     7000.0     7000.000000    7000.000000      7000.000000   \n",
            "mean         0.0        0.400219       0.000143         0.000167   \n",
            "std          0.0        0.445049       0.011952         0.012051   \n",
            "min          0.0        0.000000       0.000000         0.000000   \n",
            "25%          0.0        0.020134       0.000000         0.000000   \n",
            "50%          0.0        0.044090       0.000000         0.000000   \n",
            "75%          0.0        0.982961       0.000000         0.000000   \n",
            "max          0.0        1.000000       1.000000         1.000000   \n",
            "\n",
            "        Flow IAT Mean   Flow IAT Std   Flow IAT Max   Flow IAT Min  \\\n",
            "count     7000.000000         7000.0    7000.000000    7000.000000   \n",
            "mean         0.017407            0.0       0.114853       0.010376   \n",
            "std          0.055836            0.0       0.211398       0.043627   \n",
            "min          0.000000            0.0       0.000000       0.000000   \n",
            "25%          0.000000            0.0       0.008041       0.000046   \n",
            "50%          0.002582            0.0       0.020775       0.000057   \n",
            "75%          0.020796            0.0       0.091035       0.013312   \n",
            "max          1.000000            0.0       1.000000       1.000000   \n",
            "\n",
            "       Fwd IAT Mean   Fwd IAT Std  ...   Bwd IAT Max   Bwd IAT Min  \\\n",
            "count   7000.000000        7000.0  ...   7000.000000  7.000000e+03   \n",
            "mean       0.023867           0.0  ...      0.088871  7.740730e-03   \n",
            "std        0.088368           0.0  ...      0.193445  6.165694e-02   \n",
            "min        0.000000           0.0  ...      0.000000  0.000000e+00   \n",
            "25%        0.000000           0.0  ...      0.000000  0.000000e+00   \n",
            "50%        0.000000           0.0  ...      0.000007  3.000929e-07   \n",
            "75%        0.000000           0.0  ...      0.042866  2.450759e-05   \n",
            "max        1.000000           0.0  ...      1.000000  1.000000e+00   \n",
            "\n",
            "       Active Mean   Active Std   Active Max   Active Min    Idle Mean  \\\n",
            "count  7000.000000       7000.0  7000.000000  7000.000000  7000.000000   \n",
            "mean      0.010480          0.0     0.010480     0.010480     0.051544   \n",
            "std       0.068109          0.0     0.068109     0.068109     0.191606   \n",
            "min       0.000000          0.0     0.000000     0.000000     0.000000   \n",
            "25%       0.000000          0.0     0.000000     0.000000     0.000000   \n",
            "50%       0.000000          0.0     0.000000     0.000000     0.000000   \n",
            "75%       0.000000          0.0     0.000000     0.000000     0.000000   \n",
            "max       1.000000          0.0     1.000000     1.000000     1.000000   \n",
            "\n",
            "        Idle Std     Idle Max     Idle Min  \n",
            "count     7000.0  7000.000000  7000.000000  \n",
            "mean         0.0     0.051544     0.051544  \n",
            "std          0.0     0.191606     0.191606  \n",
            "min          0.0     0.000000     0.000000  \n",
            "25%          0.0     0.000000     0.000000  \n",
            "50%          0.0     0.000000     0.000000  \n",
            "75%          0.0     0.000000     0.000000  \n",
            "max          0.0     1.000000     1.000000  \n",
            "\n",
            "[8 rows x 24 columns]\n"
          ]
        }
      ],
      "source": [
        "keys = dataframe.keys()\n",
        "data_to_process = dataframe[keys[4:len(keys) - 1]].copy()\n",
        "x_normalised = dfNormalize(data_to_process)\n",
        "print(x_normalised.describe())"
      ]
    },
    {
      "cell_type": "code",
      "execution_count": 8,
      "metadata": {
        "id": "n_HbqWrHSgOk"
      },
      "outputs": [],
      "source": [
        "change_labels = lambda x: 1 if x == 'nonTOR' else 0"
      ]
    },
    {
      "cell_type": "code",
      "execution_count": 9,
      "metadata": {
        "id": "56DoFm1zShDL"
      },
      "outputs": [],
      "source": [
        "y_normalised = dataframe['label'].apply(change_labels)\n"
      ]
    },
    {
      "cell_type": "code",
      "execution_count": 10,
      "metadata": {
        "id": "OeCFQeZmShFb"
      },
      "outputs": [],
      "source": [
        "# Imputar los valores faltantes con SimpleImputer\n",
        "imputer = SimpleImputer(strategy='median')\n",
        "X_imputed = imputer.fit_transform(x_normalised)"
      ]
    },
    {
      "cell_type": "code",
      "execution_count": 11,
      "metadata": {
        "id": "zBKNJHCEcWVp"
      },
      "outputs": [],
      "source": [
        "\n",
        "# Escalar los datos utilizando StandardScaler\n",
        "scaler = StandardScaler()\n",
        "X_scaled = scaler.fit_transform(X_imputed)"
      ]
    },
    {
      "cell_type": "code",
      "execution_count": 15,
      "metadata": {
        "colab": {
          "base_uri": "https://localhost:8080/"
        },
        "id": "HcrrrsvscWVp",
        "outputId": "0bc785c0-13ac-4db1-baaf-42662b5e614e"
      },
      "outputs": [
        {
          "output_type": "stream",
          "name": "stdout",
          "text": [
            "Accuracy: 0.51 (+/- 0.00)\n"
          ]
        }
      ],
      "source": [
        "# Entrenar un modelo SVM utilizando SVC de sklearn y cross validation\n",
        "svm = SVC(kernel='sigmoid', gamma='auto', coef0=6, C=1.0, random_state=42)\n",
        "scores = cross_val_score(svm, X_scaled, y_normalised, cv=5, scoring='accuracy')\n",
        "print(\"Accuracy: %0.2f (+/- %0.2f)\" % (scores.mean(), scores.std() * 2))\n"
      ]
    },
    {
      "cell_type": "code",
      "execution_count": 16,
      "metadata": {
        "colab": {
          "base_uri": "https://localhost:8080/"
        },
        "id": "tacrusnPcWVp",
        "outputId": "943d6158-2226-4e72-f6b4-38cdbb837f92"
      },
      "outputs": [
        {
          "output_type": "stream",
          "name": "stdout",
          "text": [
            "Precision: 49.28571428571429\n",
            "Recall: 49.28571428571429\n",
            "F1-score: 49.28571428571429\n"
          ]
        }
      ],
      "source": [
        "# Evaluar el modelo utilizando las métricas de precisión, recall y f1-score\n",
        "X_train, X_test, y_train, y_test = train_test_split(X_scaled, y_normalised, test_size=0.3, random_state=42)\n",
        "svm.fit(X_train, y_train)\n",
        "y_pred = svm.predict(X_test)\n",
        "precision, recall, f1_score, _ = precision_recall_fscore_support(y_test, y_pred, average='micro')\n",
        "print('Precision:', precision*100)\n",
        "print('Recall:', recall*100)\n",
        "print('F1-score:', f1_score*100)"
      ]
    },
    {
      "cell_type": "markdown",
      "source": [
        "#  **Escenario A KERNEL=LINEAR**\n",
        "\n",
        "\n",
        "\n",
        "\n",
        "\n"
      ],
      "metadata": {
        "id": "ignpWqLGd-au"
      }
    },
    {
      "cell_type": "code",
      "source": [
        "from sklearn.model_selection import cross_val_score\n",
        "\n",
        "svm = SVC(kernel='linear', C=0.000001, random_state=42)\n",
        "scores = cross_val_score(svm, X_scaled, y_normalised, cv=5, scoring='accuracy')\n",
        "print(\"Accuracy: %0.2f (+/- %0.2f)\" % (scores.mean(), scores.std() * 2))\n"
      ],
      "metadata": {
        "colab": {
          "base_uri": "https://localhost:8080/"
        },
        "id": "LaHSiUlAk20t",
        "outputId": "c9d6a1ac-6fe2-4d11-a0de-d2b4b665c681"
      },
      "execution_count": 80,
      "outputs": [
        {
          "output_type": "stream",
          "name": "stdout",
          "text": [
            "Accuracy: 0.57 (+/- 0.01)\n"
          ]
        }
      ]
    },
    {
      "cell_type": "code",
      "source": [
        "# Evaluar el modelo utilizando las métricas de precisión, recall y f1-score\n",
        "X_train, X_test, y_train, y_test = train_test_split(X_scaled, y_normalised, test_size=0.3, random_state=42)\n",
        "svm.fit(X_train, y_train)\n",
        "y_pred = svm.predict(X_test)\n",
        "precision, recall, f1_score, _ = precision_recall_fscore_support(y_test, y_pred, average='micro')\n",
        "print('Precision:', precision*100)\n",
        "print('Recall:', recall*100)\n",
        "print('F1-score:', f1_score*100)"
      ],
      "metadata": {
        "colab": {
          "base_uri": "https://localhost:8080/"
        },
        "id": "vS55MPcsk5DN",
        "outputId": "0448730b-230d-4d28-c676-9c930f27e6e6"
      },
      "execution_count": 63,
      "outputs": [
        {
          "output_type": "stream",
          "name": "stdout",
          "text": [
            "Precision: 49.80952380952381\n",
            "Recall: 49.80952380952381\n",
            "F1-score: 49.80952380952381\n"
          ]
        }
      ]
    },
    {
      "cell_type": "markdown",
      "source": [
        "#  **Escenario A KERNEL= RBF**"
      ],
      "metadata": {
        "id": "9Vw0c7DblAlN"
      }
    },
    {
      "cell_type": "code",
      "source": [
        "from sklearn.model_selection import cross_val_score\n",
        "\n",
        "svm = SVC(kernel='rbf', gamma='auto', C=0.00001, random_state=42)\n",
        "scores = cross_val_score(svm, X_scaled, y_normalised, cv=5, scoring='accuracy')\n",
        "print(\"Accuracy: %0.2f (+/- %0.2f)\" % (scores.mean(), scores.std() * 2))\n"
      ],
      "metadata": {
        "colab": {
          "base_uri": "https://localhost:8080/"
        },
        "id": "ZyHStztclOgv",
        "outputId": "4b5a7a6e-efb8-4a7e-87f3-5cc40fa408ae"
      },
      "execution_count": 84,
      "outputs": [
        {
          "output_type": "stream",
          "name": "stdout",
          "text": [
            "Accuracy: 0.88 (+/- 0.02)\n"
          ]
        }
      ]
    },
    {
      "cell_type": "code",
      "source": [
        "# Evaluar el modelo utilizando las métricas de precisión, recall y f1-score\n",
        "X_train, X_test, y_train, y_test = train_test_split(X_scaled, y_normalised, test_size=0.3, random_state=42)\n",
        "svm.fit(X_train, y_train)\n",
        "y_pred = svm.predict(X_test)\n",
        "precision, recall, f1_score, _ = precision_recall_fscore_support(y_test, y_pred, average='micro')\n",
        "print('Precision:', precision*100)\n",
        "print('Recall:', recall*100)\n",
        "print('F1-score:', f1_score*100)"
      ],
      "metadata": {
        "colab": {
          "base_uri": "https://localhost:8080/"
        },
        "id": "ehxIA_vulOi9",
        "outputId": "b2c0e916-e573-4fa7-8623-2b4b67a015a9"
      },
      "execution_count": 65,
      "outputs": [
        {
          "output_type": "stream",
          "name": "stdout",
          "text": [
            "Precision: 49.80952380952381\n",
            "Recall: 49.80952380952381\n",
            "F1-score: 49.80952380952381\n"
          ]
        }
      ]
    },
    {
      "cell_type": "markdown",
      "source": [
        "#  **Escenario A KERNEL= POLINOMYAL**"
      ],
      "metadata": {
        "id": "bK_Jy0uJl2Rt"
      }
    },
    {
      "cell_type": "code",
      "source": [
        "# Entrenar un modelo SVM utilizando SVC de sklearn y cross validation\n",
        "svm = SVC(kernel='poly', degree=3, gamma='auto', coef0=6, C=0.00001, random_state=42)\n",
        "scores = cross_val_score(svm, X_scaled, y_normalised, cv=5, scoring='accuracy')\n",
        "print(\"Accuracy: %0.2f (+/- %0.2f)\" % (scores.mean(), scores.std() * 2))\n"
      ],
      "metadata": {
        "colab": {
          "base_uri": "https://localhost:8080/"
        },
        "id": "OnF57gHzlOn9",
        "outputId": "9d57e8b4-4a2b-41d0-e6d0-f378e2d047d1"
      },
      "execution_count": 87,
      "outputs": [
        {
          "output_type": "stream",
          "name": "stdout",
          "text": [
            "Accuracy: 0.57 (+/- 0.01)\n"
          ]
        }
      ]
    },
    {
      "cell_type": "code",
      "source": [
        "# Evaluar el modelo utilizando las métricas de precisión, recall y f1-score\n",
        "X_train, X_test, y_train, y_test = train_test_split(X_scaled, y_normalised, test_size=0.3, random_state=42)\n",
        "svm.fit(X_train, y_train)\n",
        "y_pred = svm.predict(X_test)\n",
        "precision, recall, f1_score, _ = precision_recall_fscore_support(y_test, y_pred, average='micro')\n",
        "print('Precision:', precision*100)\n",
        "print('Recall:', recall*100)\n",
        "print('F1-score:', f1_score*100)"
      ],
      "metadata": {
        "colab": {
          "base_uri": "https://localhost:8080/"
        },
        "id": "E4ZaH6ujlOqU",
        "outputId": "8c278412-1b5d-45f3-cee3-4d51dc730efe"
      },
      "execution_count": 67,
      "outputs": [
        {
          "output_type": "stream",
          "name": "stdout",
          "text": [
            "Precision: 56.095238095238095\n",
            "Recall: 56.095238095238095\n",
            "F1-score: 56.095238095238095\n"
          ]
        }
      ]
    }
  ],
  "metadata": {
    "colab": {
      "provenance": [],
      "include_colab_link": true
    },
    "kernelspec": {
      "display_name": "Python 3 (ipykernel)",
      "language": "python",
      "name": "python3"
    },
    "language_info": {
      "codemirror_mode": {
        "name": "ipython",
        "version": 3
      },
      "file_extension": ".py",
      "mimetype": "text/x-python",
      "name": "python",
      "nbconvert_exporter": "python",
      "pygments_lexer": "ipython3",
      "version": "3.9.13"
    }
  },
  "nbformat": 4,
  "nbformat_minor": 0
}