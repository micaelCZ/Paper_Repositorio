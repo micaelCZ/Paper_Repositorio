{
  "nbformat": 4,
  "nbformat_minor": 0,
  "metadata": {
    "colab": {
      "provenance": [],
      "include_colab_link": true
    },
    "kernelspec": {
      "name": "python3",
      "display_name": "Python 3"
    },
    "language_info": {
      "name": "python"
    }
  },
  "cells": [
    {
      "cell_type": "markdown",
      "metadata": {
        "id": "view-in-github",
        "colab_type": "text"
      },
      "source": [
        "<a href=\"https://colab.research.google.com/github/micaelCZ/Paper_Repositorio/blob/main/Escenario_A.ipynb\" target=\"_parent\"><img src=\"https://colab.research.google.com/assets/colab-badge.svg\" alt=\"Open In Colab\"/></a>"
      ]
    },
    {
      "cell_type": "markdown",
      "source": [
        "#  Escenario A\n",
        "\n",
        "\n",
        "https://raw.githubusercontent.com/micaelCZ/Paper_Repositorio/main/dataset/datasetPreprocesado/Escenario1.csv\n"
      ],
      "metadata": {
        "id": "S6Abf4q3TkCj"
      }
    },
    {
      "cell_type": "code",
      "source": [],
      "metadata": {
        "id": "QQjiPpSWVzr7"
      },
      "execution_count": null,
      "outputs": []
    },
    {
      "cell_type": "code",
      "execution_count": null,
      "metadata": {
        "id": "zaXAfkyxSH93"
      },
      "outputs": [],
      "source": [
        "import pandas as pd\n",
        "import numpy as np\n",
        "import tensorflow as tf\n",
        "from sklearn.preprocessing import StandardScaler\n",
        "from sklearn.model_selection import train_test_split"
      ]
    },
    {
      "cell_type": "code",
      "source": [
        "#Cargar el Dataset\n",
        "datapath = 'https://raw.githubusercontent.com/micaelCZ/Paper_Repositorio/main/dataset/datasetPreprocesado/Escenario1.csv'\n",
        "dataframe = pd.read_csv(datapath,low_memory=False, sep=';')"
      ],
      "metadata": {
        "id": "_v21P7tCSW4E"
      },
      "execution_count": null,
      "outputs": []
    },
    {
      "cell_type": "code",
      "source": [
        "#Normalize\n",
        "def dfNormalize(df):\n",
        "    for feature_name in df.columns:\n",
        "        df.loc[:,feature_name]= pd.to_numeric(df.loc[:,feature_name], errors='coerce').fillna(0)\n",
        "        max_value = df[feature_name].max()\n",
        "        min_value = df[feature_name].min()   \n",
        "        if (max_value - min_value) > 0:\n",
        "            df.loc[:,feature_name] = (df.loc[:,feature_name] - min_value) / (max_value - min_value)\n",
        "        else:\n",
        "            df.loc[:,feature_name] = (df.loc[:,feature_name]- min_value)    \n",
        "    return df"
      ],
      "metadata": {
        "id": "GEZpd5zVSZJk"
      },
      "execution_count": null,
      "outputs": []
    },
    {
      "cell_type": "code",
      "source": [
        "dataframe = dataframe.reindex(np.random.permutation(dataframe.index)).copy()\n"
      ],
      "metadata": {
        "id": "GO0z5o5WSZSL"
      },
      "execution_count": null,
      "outputs": []
    },
    {
      "cell_type": "code",
      "source": [
        "keys = dataframe.keys()\n",
        "data_to_process = dataframe[keys[4:len(keys) - 1]].copy()\n",
        "x_normalised = dfNormalize(data_to_process)\n",
        "print(x_normalised.describe())"
      ],
      "metadata": {
        "colab": {
          "base_uri": "https://localhost:8080/"
        },
        "id": "ReF0tVO-SdfD",
        "outputId": "2dd76238-34a1-4b2f-f057-a627342fa5f0"
      },
      "execution_count": null,
      "outputs": [
        {
          "output_type": "stream",
          "name": "stdout",
          "text": [
            "        Protocol   Flow Duration   Flow Bytes/s   Flow Packets/s  \\\n",
            "count     7000.0     7000.000000    7000.000000      7000.000000   \n",
            "mean         0.0        0.400219       0.000143         0.000167   \n",
            "std          0.0        0.445049       0.011952         0.012051   \n",
            "min          0.0        0.000000       0.000000         0.000000   \n",
            "25%          0.0        0.020134       0.000000         0.000000   \n",
            "50%          0.0        0.044090       0.000000         0.000000   \n",
            "75%          0.0        0.982961       0.000000         0.000000   \n",
            "max          0.0        1.000000       1.000000         1.000000   \n",
            "\n",
            "        Flow IAT Mean   Flow IAT Std   Flow IAT Max   Flow IAT Min  \\\n",
            "count     7000.000000         7000.0    7000.000000    7000.000000   \n",
            "mean         0.017407            0.0       0.114853       0.010376   \n",
            "std          0.055836            0.0       0.211398       0.043627   \n",
            "min          0.000000            0.0       0.000000       0.000000   \n",
            "25%          0.000000            0.0       0.008041       0.000046   \n",
            "50%          0.002582            0.0       0.020775       0.000057   \n",
            "75%          0.020796            0.0       0.091035       0.013312   \n",
            "max          1.000000            0.0       1.000000       1.000000   \n",
            "\n",
            "       Fwd IAT Mean   Fwd IAT Std  ...   Bwd IAT Max   Bwd IAT Min  \\\n",
            "count   7000.000000        7000.0  ...   7000.000000  7.000000e+03   \n",
            "mean       0.023867           0.0  ...      0.088871  7.740730e-03   \n",
            "std        0.088368           0.0  ...      0.193445  6.165694e-02   \n",
            "min        0.000000           0.0  ...      0.000000  0.000000e+00   \n",
            "25%        0.000000           0.0  ...      0.000000  0.000000e+00   \n",
            "50%        0.000000           0.0  ...      0.000007  3.000929e-07   \n",
            "75%        0.000000           0.0  ...      0.042866  2.450759e-05   \n",
            "max        1.000000           0.0  ...      1.000000  1.000000e+00   \n",
            "\n",
            "       Active Mean   Active Std   Active Max   Active Min    Idle Mean  \\\n",
            "count  7000.000000       7000.0  7000.000000  7000.000000  7000.000000   \n",
            "mean      0.010480          0.0     0.010480     0.010480     0.051544   \n",
            "std       0.068109          0.0     0.068109     0.068109     0.191606   \n",
            "min       0.000000          0.0     0.000000     0.000000     0.000000   \n",
            "25%       0.000000          0.0     0.000000     0.000000     0.000000   \n",
            "50%       0.000000          0.0     0.000000     0.000000     0.000000   \n",
            "75%       0.000000          0.0     0.000000     0.000000     0.000000   \n",
            "max       1.000000          0.0     1.000000     1.000000     1.000000   \n",
            "\n",
            "        Idle Std     Idle Max     Idle Min  \n",
            "count     7000.0  7000.000000  7000.000000  \n",
            "mean         0.0     0.051544     0.051544  \n",
            "std          0.0     0.191606     0.191606  \n",
            "min          0.0     0.000000     0.000000  \n",
            "25%          0.0     0.000000     0.000000  \n",
            "50%          0.0     0.000000     0.000000  \n",
            "75%          0.0     0.000000     0.000000  \n",
            "max          0.0     1.000000     1.000000  \n",
            "\n",
            "[8 rows x 24 columns]\n"
          ]
        }
      ]
    },
    {
      "cell_type": "code",
      "source": [
        "change_labels = lambda x: 1 if x == 'nonTOR' else 0"
      ],
      "metadata": {
        "id": "n_HbqWrHSgOk"
      },
      "execution_count": null,
      "outputs": []
    },
    {
      "cell_type": "code",
      "source": [
        "y_normalised = dataframe['label'].apply(change_labels)\n"
      ],
      "metadata": {
        "id": "56DoFm1zShDL"
      },
      "execution_count": null,
      "outputs": []
    },
    {
      "cell_type": "code",
      "source": [
        "X_train, X_test, y_train, y_test = train_test_split(x_normalised,\n",
        "                                            y_normalised, test_size=0.3, random_state=42)"
      ],
      "metadata": {
        "id": "OeCFQeZmShFb"
      },
      "execution_count": null,
      "outputs": []
    }
  ]
}