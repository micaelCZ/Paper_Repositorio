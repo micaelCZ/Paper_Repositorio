{
  "nbformat": 4,
  "nbformat_minor": 0,
  "metadata": {
    "colab": {
      "provenance": [],
      "authorship_tag": "ABX9TyMgYusgOG31qOHTMgK7sLSZ",
      "include_colab_link": true
    },
    "kernelspec": {
      "name": "python3",
      "display_name": "Python 3"
    },
    "language_info": {
      "name": "python"
    }
  },
  "cells": [
    {
      "cell_type": "markdown",
      "metadata": {
        "id": "view-in-github",
        "colab_type": "text"
      },
      "source": [
        "<a href=\"https://colab.research.google.com/github/micaelCZ/Paper_Repositorio/blob/main/A%20RANDOM%20FOREST.ipynb\" target=\"_parent\"><img src=\"https://colab.research.google.com/assets/colab-badge.svg\" alt=\"Open In Colab\"/></a>"
      ]
    },
    {
      "cell_type": "code",
      "execution_count": null,
      "metadata": {
        "colab": {
          "base_uri": "https://localhost:8080/"
        },
        "id": "Nq0OCmLbwFzW",
        "outputId": "d374bc52-dbc6-4eda-a746-e8c62aeca9ba"
      },
      "outputs": [
        {
          "output_type": "stream",
          "name": "stdout",
          "text": [
            "Cross-validation scores: [0.99071429 0.99285714 0.99071429 0.99       0.99071429]\n",
            "              precision    recall  f1-score   support\n",
            "\n",
            "           0       1.00      1.00      1.00      1043\n",
            "           1       1.00      1.00      1.00      1057\n",
            "\n",
            "    accuracy                           1.00      2100\n",
            "   macro avg       1.00      1.00      1.00      2100\n",
            "weighted avg       1.00      1.00      1.00      2100\n",
            "\n"
          ]
        }
      ],
      "source": [
        "import pandas as pd\n",
        "import numpy as np\n",
        "import tensorflow as tf\n",
        "from sklearn.preprocessing import StandardScaler\n",
        "from sklearn.model_selection import train_test_split\n",
        "from sklearn.ensemble import RandomForestClassifier\n",
        "from sklearn.model_selection import GridSearchCV\n",
        "from sklearn.metrics import classification_report\n",
        "from sklearn.model_selection import cross_val_score\n",
        "\n",
        "# Cargar el Dataset\n",
        "datapath = 'https://raw.githubusercontent.com/micaelCZ/Paper_Repositorio/main/dataset/datasetPreprocesado/Escenario1.csv'\n",
        "dataframe = pd.read_csv(datapath, low_memory=False, sep=';')\n",
        "\n",
        "# Normalizar los datos\n",
        "def dfNormalize(df):\n",
        "    for feature_name in df.columns:\n",
        "        df.loc[:, feature_name] = pd.to_numeric(df.loc[:, feature_name], errors='coerce').fillna(0)\n",
        "        max_value = df[feature_name].max()\n",
        "        min_value = df[feature_name].min()   \n",
        "        if (max_value - min_value) > 0:\n",
        "            df.loc[:, feature_name] = (df.loc[:, feature_name] - min_value) / (max_value - min_value)\n",
        "        else:\n",
        "            df.loc[:, feature_name] = (df.loc[:, feature_name] - min_value)    \n",
        "    return df\n",
        "\n",
        "# Reordenar los datos aleatoriamente\n",
        "dataframe = dataframe.reindex(np.random.permutation(dataframe.index)).copy()\n",
        "\n",
        "keys = dataframe.keys()\n",
        "data_to_process = dataframe[keys[4:len(keys) - 1]].copy()\n",
        "x_normalised = dfNormalize(data_to_process)\n",
        "\n",
        "# Cambiar las etiquetas para que sean 0 o 1\n",
        "change_labels = lambda x: 1 if x == 'nonTOR' else 0\n",
        "y_normalised = dataframe['label'].apply(change_labels)\n",
        "\n",
        "# Dividir los datos en train y test\n",
        "X_train, X_test, y_train, y_test = train_test_split(x_normalised, y_normalised, test_size=0.3, random_state=42)\n",
        "\n",
        "# Definir los parámetros a buscar en el GridSearchCV\n",
        "param_grid = {\n",
        "    'n_estimators': [100, 200, 500],\n",
        "    'max_depth': [10, 20, 30, None],\n",
        "    'min_samples_split': [2, 5, 10],\n",
        "    'min_samples_leaf': [1, 2, 4]\n",
        "}\n",
        "\n",
        "# Definir el modelo a utilizar en el GridSearchCV\n",
        "model = RandomForestClassifier()\n",
        "\n",
        "# Definir el GridSearchCV\n",
        "grid_search = GridSearchCV(estimator=model, param_grid=param_grid, cv=5)\n",
        "\n",
        "# Entrenar el GridSearchCV\n",
        "grid_search.fit(X_train, y_train)\n",
        "\n",
        "# Obtener los mejores parámetros del GridSearchCV\n",
        "best_params = grid_search.best_params_\n",
        "\n",
        "# Realizar la validación cruzada con los mejores parámetros encontrados\n",
        "cv_scores = cross_val_score(model, x_normalised, y_normalised, cv=5)\n",
        "print(\"Cross-validation scores:\", cv_scores)\n",
        "\n",
        "# Entrenar el modelo con los mejores parámetros y la validación cruzada\n",
        "model = RandomForestClassifier(**best_params)\n",
        "model.fit(x_normalised, y_normalised)\n",
        "\n",
        "# Realizar la predicción en el conjunto de test\n",
        "y_pred = model.predict(X_test)\n",
        "\n",
        "# Imprimir las métricas de f1-score, recall y accuracy\n",
        "print(classification_report(y_test, y_pred))\n"
      ]
    }
  ]
}