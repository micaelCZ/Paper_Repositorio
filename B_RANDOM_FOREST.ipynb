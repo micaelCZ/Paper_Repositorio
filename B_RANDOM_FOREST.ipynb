{
  "nbformat": 4,
  "nbformat_minor": 0,
  "metadata": {
    "colab": {
      "provenance": [],
      "authorship_tag": "ABX9TyNF5KxwzaUNYNRMHD6g9ijc",
      "include_colab_link": true
    },
    "kernelspec": {
      "name": "python3",
      "display_name": "Python 3"
    },
    "language_info": {
      "name": "python"
    }
  },
  "cells": [
    {
      "cell_type": "markdown",
      "metadata": {
        "id": "view-in-github",
        "colab_type": "text"
      },
      "source": [
        "<a href=\"https://colab.research.google.com/github/micaelCZ/Paper_Repositorio/blob/main/B_RANDOM_FOREST.ipynb\" target=\"_parent\"><img src=\"https://colab.research.google.com/assets/colab-badge.svg\" alt=\"Open In Colab\"/></a>"
      ]
    },
    {
      "cell_type": "code",
      "execution_count": null,
      "metadata": {
        "colab": {
          "base_uri": "https://localhost:8080/"
        },
        "id": "D6mv6iM8xXse",
        "outputId": "fbab24d2-4b2f-4113-9978-7e549a922ba0"
      },
      "outputs": [
        {
          "output_type": "stream",
          "name": "stdout",
          "text": [
            "Looking in indexes: https://pypi.org/simple, https://us-python.pkg.dev/colab-wheels/public/simple/\n",
            "Requirement already satisfied: tensorflow-addons in /usr/local/lib/python3.9/dist-packages (0.19.0)\n",
            "Requirement already satisfied: packaging in /usr/local/lib/python3.9/dist-packages (from tensorflow-addons) (23.0)\n",
            "Requirement already satisfied: typeguard>=2.7 in /usr/local/lib/python3.9/dist-packages (from tensorflow-addons) (3.0.2)\n",
            "Requirement already satisfied: typing-extensions>=4.4.0 in /usr/local/lib/python3.9/dist-packages (from typeguard>=2.7->tensorflow-addons) (4.5.0)\n",
            "Requirement already satisfied: importlib-metadata>=3.6 in /usr/local/lib/python3.9/dist-packages (from typeguard>=2.7->tensorflow-addons) (6.1.0)\n",
            "Requirement already satisfied: zipp>=0.5 in /usr/local/lib/python3.9/dist-packages (from importlib-metadata>=3.6->typeguard>=2.7->tensorflow-addons) (3.15.0)\n",
            "Cross validation scores: [0.82595183 0.83993784 0.83139083 0.83527584 0.83216783]\n",
            "Mean cross validation score: 0.8329448329448331\n",
            "              precision    recall  f1-score   support\n",
            "\n",
            "           0       0.77      0.76      0.76       144\n",
            "           1       0.66      0.83      0.74       321\n",
            "           2       0.50      0.25      0.33        65\n",
            "           3       0.91      0.92      0.92       173\n",
            "           4       0.78      0.38      0.51        56\n",
            "           5       0.98      0.97      0.97       217\n",
            "           6       0.77      0.71      0.74       175\n",
            "           7       0.99      0.98      0.99       458\n",
            "\n",
            "    accuracy                           0.84      1609\n",
            "   macro avg       0.80      0.72      0.74      1609\n",
            "weighted avg       0.84      0.84      0.84      1609\n",
            "\n"
          ]
        }
      ],
      "source": [
        "!pip install tensorflow-addons\n",
        "\n",
        "import pandas as pd\n",
        "import numpy as np\n",
        "from sklearn.model_selection import train_test_split, GridSearchCV, cross_val_score\n",
        "from sklearn.ensemble import RandomForestClassifier\n",
        "from tensorflow import keras\n",
        "from tensorflow.keras.utils import to_categorical\n",
        "from tensorflow.keras.callbacks import EarlyStopping\n",
        "from sklearn.metrics import roc_curve, auc, classification_report\n",
        "import matplotlib.pyplot as plt\n",
        "     \n",
        "# Load the data\n",
        "url = 'https://raw.githubusercontent.com/micaelCZ/Paper_Repositorio/main/dataset/datasetPreprocesado/Escenario2.csv'\n",
        "df = pd.read_csv(url,low_memory=False)\n",
        "dataframe = pd.read_csv(url,low_memory=False)\n",
        "     \n",
        "\n",
        "# Normalise the data\n",
        "def dfNormalize(df):\n",
        "    for feature_name in df.columns:\n",
        "        df.loc[:,feature_name]= pd.to_numeric(df.loc[:,feature_name], errors='coerce').fillna(0)\n",
        "        max_value = df[feature_name].max()\n",
        "        min_value = df[feature_name].min()   \n",
        "        if (max_value - min_value) > 0:\n",
        "            df.loc[:,feature_name] = (df.loc[:,feature_name] - min_value) / (max_value - min_value)\n",
        "        else:\n",
        "            df.loc[:,feature_name] = (df.loc[:,feature_name]- min_value)    \n",
        "    return df\n",
        "     \n",
        "\n",
        "# Split the data into train and test sets\n",
        "y = df['label']\n",
        "label_map = {'AUDIO': 0, 'BROWSING': 1, 'CHAT': 2, 'FILE-TRANSFER' : 3, 'MAIL' : 4, 'P2P' : 5, 'VIDEO' : 6, 'VOIP' : 7}\n",
        "change_labels = lambda x: label_map[x] if x in label_map else -1\n",
        "y = df['label'].apply(change_labels)\n",
        "     \n",
        "\n",
        "X = df.iloc[:, 4:-1]\n",
        "X = dfNormalize(X)\n",
        "\n",
        "X_train, X_test, y_train, y_test = train_test_split(X, y, test_size=0.2, random_state=42, stratify=y)\n",
        "\n",
        "# Define the parameter grid\n",
        "param_grid = {\n",
        "    'max_depth': [5, 10, 15],\n",
        "    'n_estimators': [50, 100, 200]\n",
        "}\n",
        "\n",
        "# Instantiate the model and the grid search\n",
        "model = RandomForestClassifier(random_state=42)\n",
        "grid_search = GridSearchCV(model, param_grid=param_grid, cv=5, n_jobs=-1)\n",
        "\n",
        "# Fit the grid search to the data using cross-validation\n",
        "grid_search.fit(X_train, y_train)\n",
        "cv_scores = cross_val_score(grid_search, X_train, y_train, cv=5)\n",
        "\n",
        "print(f\"Cross validation scores: {cv_scores}\")\n",
        "print(f\"Mean cross validation score: {np.mean(cv_scores)}\")\n",
        "     \n",
        "# Get the best model and evaluate its performance on the test set\n",
        "best_model = grid_search.best_estimator_\n",
        "y_pred = best_model.predict(X_test)\n",
        "print(classification_report(y_test, y_pred))\n"
      ]
    }
  ]
}