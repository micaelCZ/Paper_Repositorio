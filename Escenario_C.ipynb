{
  "nbformat": 4,
  "nbformat_minor": 0,
  "metadata": {
    "colab": {
      "provenance": [],
      "include_colab_link": true
    },
    "kernelspec": {
      "name": "python3",
      "display_name": "Python 3"
    },
    "language_info": {
      "name": "python"
    }
  },
  "cells": [
    {
      "cell_type": "markdown",
      "metadata": {
        "id": "view-in-github",
        "colab_type": "text"
      },
      "source": [
        "<a href=\"https://colab.research.google.com/github/micaelCZ/Paper_Repositorio/blob/main/Escenario_C.ipynb\" target=\"_parent\"><img src=\"https://colab.research.google.com/assets/colab-badge.svg\" alt=\"Open In Colab\"/></a>"
      ]
    },
    {
      "cell_type": "markdown",
      "source": [
        "# Escenario C\n",
        "\n",
        "https://raw.githubusercontent.com/micaelCZ/Paper_Repositorio/main/dataset/datasetPreprocesado/Escenario3.csv"
      ],
      "metadata": {
        "id": "8ilGSgySNfGr"
      }
    },
    {
      "cell_type": "code",
      "execution_count": null,
      "metadata": {
        "id": "Z4Ixrpq1NPqY"
      },
      "outputs": [],
      "source": [
        "import pandas as pd\n",
        "import numpy as np\n",
        "from sklearn.preprocessing import LabelEncoder, StandardScaler\n",
        "import tensorflow as tf\n",
        "from sklearn.preprocessing import StandardScaler\n",
        "from sklearn.model_selection import train_test_split"
      ]
    },
    {
      "cell_type": "code",
      "source": [
        "datapath = 'https://raw.githubusercontent.com/micaelCZ/Paper_Repositorio/main/dataset/datasetPreprocesado/Escenario3.csv'\n",
        "names = ['srcip', 'sport', 'dstip', 'dsport', 'proto', 'state', 'dur', 'sbytes', 'dbytes', 'sttl', 'dttl', 'sloss', 'dloss', 'service', 'Sload', 'Dload', 'Spkts', 'Dpkts', 'swin', 'dwin', 'stcpb', 'dtcpb', 'smeansz', 'dmeansz', 'trans_depth', 'res_bdy_len', 'Sjit', 'Djit', 'Stime', 'Ltime', 'Sintpkt', 'Dintpkt', 'tcprtt', 'synack', 'ackdat', 'is_sm_ips_ports', 'ct_state_ttl', 'ct_flw_http_mthd', 'is_ftp_login', 'ct_ftp_cmd', 'ct_srv_src', 'ct_srv_dst', 'ct_dst_ltm', 'ct_src_ltm', 'ct_src_dport_ltm', 'ct_dst_sport_ltm', 'ct_dst_src_ltm', 'attack_cat', 'label']\n",
        "dataframe = pd.read_csv(datapath,names=names,low_memory=False, sep=';')"
      ],
      "metadata": {
        "id": "zQO3fdJjNmCz"
      },
      "execution_count": null,
      "outputs": []
    },
    {
      "cell_type": "code",
      "source": [
        "dataframe.describe()"
      ],
      "metadata": {
        "colab": {
          "base_uri": "https://localhost:8080/",
          "height": 393
        },
        "id": "8Sq6LYMUN4bS",
        "outputId": "da4391b5-f901-4810-f7fd-e8dec13a3ec5"
      },
      "execution_count": null,
      "outputs": [
        {
          "output_type": "execute_result",
          "data": {
            "text/plain": [
              "             sport        sbytes        dbytes         sttl         dttl  \\\n",
              "count   3000.00000  3.000000e+03  3.000000e+03  3000.000000  3000.000000   \n",
              "mean   32747.94900  8.475333e+03  3.095792e+04   110.831333   110.269000   \n",
              "std    19863.14715  6.575680e+04  1.593243e+05   102.249355   111.227103   \n",
              "min        0.00000  4.600000e+01  0.000000e+00     0.000000     0.000000   \n",
              "25%    15253.75000  5.640000e+02  2.680000e+02    31.000000    29.000000   \n",
              "50%    33027.50000  1.251000e+03  1.231000e+03    62.000000    29.000000   \n",
              "75%    50372.75000  2.934000e+03  1.016800e+04   254.000000   252.000000   \n",
              "max    65532.00000  2.654524e+06  2.374900e+06   254.000000   252.000000   \n",
              "\n",
              "             sloss        dloss        Spkts        Dpkts         swin  ...  \\\n",
              "count  3000.000000  3000.000000  3000.000000  3000.000000  3000.000000  ...   \n",
              "mean      6.288333    14.102333    30.912000    36.679333   184.025000  ...   \n",
              "std      25.673714    56.775326    75.075755   119.951826   114.304547  ...   \n",
              "min       0.000000     0.000000     1.000000     0.000000     0.000000  ...   \n",
              "25%       0.000000     0.000000     4.000000     4.000000     0.000000  ...   \n",
              "50%       2.000000     2.000000    10.000000     8.000000   255.000000  ...   \n",
              "75%       7.000000     9.000000    38.000000    34.000000   255.000000  ...   \n",
              "max     999.000000   895.000000  2004.000000  1796.000000   255.000000  ...   \n",
              "\n",
              "       ct_flw_http_mthd  is_ftp_login   ct_srv_src  ct_srv_dst   ct_dst_ltm  \\\n",
              "count        621.000000     82.000000  3000.000000  3000.00000  3000.000000   \n",
              "mean           1.096618      1.073171     4.399667     4.12000     2.647667   \n",
              "std            0.530068      0.465620     6.023235     5.88437     2.324650   \n",
              "min            1.000000      1.000000     1.000000     1.00000     1.000000   \n",
              "25%            1.000000      1.000000     1.000000     1.00000     1.000000   \n",
              "50%            1.000000      1.000000     2.000000     2.00000     2.000000   \n",
              "75%            1.000000      1.000000     6.000000     5.00000     4.000000   \n",
              "max            4.000000      4.000000    36.000000    36.00000    16.000000   \n",
              "\n",
              "        ct_src_ltm  ct_src_dport_ltm  ct_dst_sport_ltm  ct_dst_src_ltm  \\\n",
              "count  3000.000000       3000.000000       3000.000000     3000.000000   \n",
              "mean      2.994000          1.467333          1.029333        3.257000   \n",
              "std       2.624295          1.804444          0.210921        5.638813   \n",
              "min       1.000000          1.000000          1.000000        1.000000   \n",
              "25%       1.000000          1.000000          1.000000        1.000000   \n",
              "50%       2.000000          1.000000          1.000000        2.000000   \n",
              "75%       4.000000          1.000000          1.000000        3.000000   \n",
              "max      16.000000         16.000000          4.000000       36.000000   \n",
              "\n",
              "             label  \n",
              "count  3000.000000  \n",
              "mean      0.500000  \n",
              "std       0.500083  \n",
              "min       0.000000  \n",
              "25%       0.000000  \n",
              "50%       0.500000  \n",
              "75%       1.000000  \n",
              "max       1.000000  \n",
              "\n",
              "[8 rows x 34 columns]"
            ],
            "text/html": [
              "\n",
              "  <div id=\"df-3925b120-96e3-4f28-b441-c3e123436fa7\">\n",
              "    <div class=\"colab-df-container\">\n",
              "      <div>\n",
              "<style scoped>\n",
              "    .dataframe tbody tr th:only-of-type {\n",
              "        vertical-align: middle;\n",
              "    }\n",
              "\n",
              "    .dataframe tbody tr th {\n",
              "        vertical-align: top;\n",
              "    }\n",
              "\n",
              "    .dataframe thead th {\n",
              "        text-align: right;\n",
              "    }\n",
              "</style>\n",
              "<table border=\"1\" class=\"dataframe\">\n",
              "  <thead>\n",
              "    <tr style=\"text-align: right;\">\n",
              "      <th></th>\n",
              "      <th>sport</th>\n",
              "      <th>sbytes</th>\n",
              "      <th>dbytes</th>\n",
              "      <th>sttl</th>\n",
              "      <th>dttl</th>\n",
              "      <th>sloss</th>\n",
              "      <th>dloss</th>\n",
              "      <th>Spkts</th>\n",
              "      <th>Dpkts</th>\n",
              "      <th>swin</th>\n",
              "      <th>...</th>\n",
              "      <th>ct_flw_http_mthd</th>\n",
              "      <th>is_ftp_login</th>\n",
              "      <th>ct_srv_src</th>\n",
              "      <th>ct_srv_dst</th>\n",
              "      <th>ct_dst_ltm</th>\n",
              "      <th>ct_src_ltm</th>\n",
              "      <th>ct_src_dport_ltm</th>\n",
              "      <th>ct_dst_sport_ltm</th>\n",
              "      <th>ct_dst_src_ltm</th>\n",
              "      <th>label</th>\n",
              "    </tr>\n",
              "  </thead>\n",
              "  <tbody>\n",
              "    <tr>\n",
              "      <th>count</th>\n",
              "      <td>3000.00000</td>\n",
              "      <td>3.000000e+03</td>\n",
              "      <td>3.000000e+03</td>\n",
              "      <td>3000.000000</td>\n",
              "      <td>3000.000000</td>\n",
              "      <td>3000.000000</td>\n",
              "      <td>3000.000000</td>\n",
              "      <td>3000.000000</td>\n",
              "      <td>3000.000000</td>\n",
              "      <td>3000.000000</td>\n",
              "      <td>...</td>\n",
              "      <td>621.000000</td>\n",
              "      <td>82.000000</td>\n",
              "      <td>3000.000000</td>\n",
              "      <td>3000.00000</td>\n",
              "      <td>3000.000000</td>\n",
              "      <td>3000.000000</td>\n",
              "      <td>3000.000000</td>\n",
              "      <td>3000.000000</td>\n",
              "      <td>3000.000000</td>\n",
              "      <td>3000.000000</td>\n",
              "    </tr>\n",
              "    <tr>\n",
              "      <th>mean</th>\n",
              "      <td>32747.94900</td>\n",
              "      <td>8.475333e+03</td>\n",
              "      <td>3.095792e+04</td>\n",
              "      <td>110.831333</td>\n",
              "      <td>110.269000</td>\n",
              "      <td>6.288333</td>\n",
              "      <td>14.102333</td>\n",
              "      <td>30.912000</td>\n",
              "      <td>36.679333</td>\n",
              "      <td>184.025000</td>\n",
              "      <td>...</td>\n",
              "      <td>1.096618</td>\n",
              "      <td>1.073171</td>\n",
              "      <td>4.399667</td>\n",
              "      <td>4.12000</td>\n",
              "      <td>2.647667</td>\n",
              "      <td>2.994000</td>\n",
              "      <td>1.467333</td>\n",
              "      <td>1.029333</td>\n",
              "      <td>3.257000</td>\n",
              "      <td>0.500000</td>\n",
              "    </tr>\n",
              "    <tr>\n",
              "      <th>std</th>\n",
              "      <td>19863.14715</td>\n",
              "      <td>6.575680e+04</td>\n",
              "      <td>1.593243e+05</td>\n",
              "      <td>102.249355</td>\n",
              "      <td>111.227103</td>\n",
              "      <td>25.673714</td>\n",
              "      <td>56.775326</td>\n",
              "      <td>75.075755</td>\n",
              "      <td>119.951826</td>\n",
              "      <td>114.304547</td>\n",
              "      <td>...</td>\n",
              "      <td>0.530068</td>\n",
              "      <td>0.465620</td>\n",
              "      <td>6.023235</td>\n",
              "      <td>5.88437</td>\n",
              "      <td>2.324650</td>\n",
              "      <td>2.624295</td>\n",
              "      <td>1.804444</td>\n",
              "      <td>0.210921</td>\n",
              "      <td>5.638813</td>\n",
              "      <td>0.500083</td>\n",
              "    </tr>\n",
              "    <tr>\n",
              "      <th>min</th>\n",
              "      <td>0.00000</td>\n",
              "      <td>4.600000e+01</td>\n",
              "      <td>0.000000e+00</td>\n",
              "      <td>0.000000</td>\n",
              "      <td>0.000000</td>\n",
              "      <td>0.000000</td>\n",
              "      <td>0.000000</td>\n",
              "      <td>1.000000</td>\n",
              "      <td>0.000000</td>\n",
              "      <td>0.000000</td>\n",
              "      <td>...</td>\n",
              "      <td>1.000000</td>\n",
              "      <td>1.000000</td>\n",
              "      <td>1.000000</td>\n",
              "      <td>1.00000</td>\n",
              "      <td>1.000000</td>\n",
              "      <td>1.000000</td>\n",
              "      <td>1.000000</td>\n",
              "      <td>1.000000</td>\n",
              "      <td>1.000000</td>\n",
              "      <td>0.000000</td>\n",
              "    </tr>\n",
              "    <tr>\n",
              "      <th>25%</th>\n",
              "      <td>15253.75000</td>\n",
              "      <td>5.640000e+02</td>\n",
              "      <td>2.680000e+02</td>\n",
              "      <td>31.000000</td>\n",
              "      <td>29.000000</td>\n",
              "      <td>0.000000</td>\n",
              "      <td>0.000000</td>\n",
              "      <td>4.000000</td>\n",
              "      <td>4.000000</td>\n",
              "      <td>0.000000</td>\n",
              "      <td>...</td>\n",
              "      <td>1.000000</td>\n",
              "      <td>1.000000</td>\n",
              "      <td>1.000000</td>\n",
              "      <td>1.00000</td>\n",
              "      <td>1.000000</td>\n",
              "      <td>1.000000</td>\n",
              "      <td>1.000000</td>\n",
              "      <td>1.000000</td>\n",
              "      <td>1.000000</td>\n",
              "      <td>0.000000</td>\n",
              "    </tr>\n",
              "    <tr>\n",
              "      <th>50%</th>\n",
              "      <td>33027.50000</td>\n",
              "      <td>1.251000e+03</td>\n",
              "      <td>1.231000e+03</td>\n",
              "      <td>62.000000</td>\n",
              "      <td>29.000000</td>\n",
              "      <td>2.000000</td>\n",
              "      <td>2.000000</td>\n",
              "      <td>10.000000</td>\n",
              "      <td>8.000000</td>\n",
              "      <td>255.000000</td>\n",
              "      <td>...</td>\n",
              "      <td>1.000000</td>\n",
              "      <td>1.000000</td>\n",
              "      <td>2.000000</td>\n",
              "      <td>2.00000</td>\n",
              "      <td>2.000000</td>\n",
              "      <td>2.000000</td>\n",
              "      <td>1.000000</td>\n",
              "      <td>1.000000</td>\n",
              "      <td>2.000000</td>\n",
              "      <td>0.500000</td>\n",
              "    </tr>\n",
              "    <tr>\n",
              "      <th>75%</th>\n",
              "      <td>50372.75000</td>\n",
              "      <td>2.934000e+03</td>\n",
              "      <td>1.016800e+04</td>\n",
              "      <td>254.000000</td>\n",
              "      <td>252.000000</td>\n",
              "      <td>7.000000</td>\n",
              "      <td>9.000000</td>\n",
              "      <td>38.000000</td>\n",
              "      <td>34.000000</td>\n",
              "      <td>255.000000</td>\n",
              "      <td>...</td>\n",
              "      <td>1.000000</td>\n",
              "      <td>1.000000</td>\n",
              "      <td>6.000000</td>\n",
              "      <td>5.00000</td>\n",
              "      <td>4.000000</td>\n",
              "      <td>4.000000</td>\n",
              "      <td>1.000000</td>\n",
              "      <td>1.000000</td>\n",
              "      <td>3.000000</td>\n",
              "      <td>1.000000</td>\n",
              "    </tr>\n",
              "    <tr>\n",
              "      <th>max</th>\n",
              "      <td>65532.00000</td>\n",
              "      <td>2.654524e+06</td>\n",
              "      <td>2.374900e+06</td>\n",
              "      <td>254.000000</td>\n",
              "      <td>252.000000</td>\n",
              "      <td>999.000000</td>\n",
              "      <td>895.000000</td>\n",
              "      <td>2004.000000</td>\n",
              "      <td>1796.000000</td>\n",
              "      <td>255.000000</td>\n",
              "      <td>...</td>\n",
              "      <td>4.000000</td>\n",
              "      <td>4.000000</td>\n",
              "      <td>36.000000</td>\n",
              "      <td>36.00000</td>\n",
              "      <td>16.000000</td>\n",
              "      <td>16.000000</td>\n",
              "      <td>16.000000</td>\n",
              "      <td>4.000000</td>\n",
              "      <td>36.000000</td>\n",
              "      <td>1.000000</td>\n",
              "    </tr>\n",
              "  </tbody>\n",
              "</table>\n",
              "<p>8 rows × 34 columns</p>\n",
              "</div>\n",
              "      <button class=\"colab-df-convert\" onclick=\"convertToInteractive('df-3925b120-96e3-4f28-b441-c3e123436fa7')\"\n",
              "              title=\"Convert this dataframe to an interactive table.\"\n",
              "              style=\"display:none;\">\n",
              "        \n",
              "  <svg xmlns=\"http://www.w3.org/2000/svg\" height=\"24px\"viewBox=\"0 0 24 24\"\n",
              "       width=\"24px\">\n",
              "    <path d=\"M0 0h24v24H0V0z\" fill=\"none\"/>\n",
              "    <path d=\"M18.56 5.44l.94 2.06.94-2.06 2.06-.94-2.06-.94-.94-2.06-.94 2.06-2.06.94zm-11 1L8.5 8.5l.94-2.06 2.06-.94-2.06-.94L8.5 2.5l-.94 2.06-2.06.94zm10 10l.94 2.06.94-2.06 2.06-.94-2.06-.94-.94-2.06-.94 2.06-2.06.94z\"/><path d=\"M17.41 7.96l-1.37-1.37c-.4-.4-.92-.59-1.43-.59-.52 0-1.04.2-1.43.59L10.3 9.45l-7.72 7.72c-.78.78-.78 2.05 0 2.83L4 21.41c.39.39.9.59 1.41.59.51 0 1.02-.2 1.41-.59l7.78-7.78 2.81-2.81c.8-.78.8-2.07 0-2.86zM5.41 20L4 18.59l7.72-7.72 1.47 1.35L5.41 20z\"/>\n",
              "  </svg>\n",
              "      </button>\n",
              "      \n",
              "  <style>\n",
              "    .colab-df-container {\n",
              "      display:flex;\n",
              "      flex-wrap:wrap;\n",
              "      gap: 12px;\n",
              "    }\n",
              "\n",
              "    .colab-df-convert {\n",
              "      background-color: #E8F0FE;\n",
              "      border: none;\n",
              "      border-radius: 50%;\n",
              "      cursor: pointer;\n",
              "      display: none;\n",
              "      fill: #1967D2;\n",
              "      height: 32px;\n",
              "      padding: 0 0 0 0;\n",
              "      width: 32px;\n",
              "    }\n",
              "\n",
              "    .colab-df-convert:hover {\n",
              "      background-color: #E2EBFA;\n",
              "      box-shadow: 0px 1px 2px rgba(60, 64, 67, 0.3), 0px 1px 3px 1px rgba(60, 64, 67, 0.15);\n",
              "      fill: #174EA6;\n",
              "    }\n",
              "\n",
              "    [theme=dark] .colab-df-convert {\n",
              "      background-color: #3B4455;\n",
              "      fill: #D2E3FC;\n",
              "    }\n",
              "\n",
              "    [theme=dark] .colab-df-convert:hover {\n",
              "      background-color: #434B5C;\n",
              "      box-shadow: 0px 1px 3px 1px rgba(0, 0, 0, 0.15);\n",
              "      filter: drop-shadow(0px 1px 2px rgba(0, 0, 0, 0.3));\n",
              "      fill: #FFFFFF;\n",
              "    }\n",
              "  </style>\n",
              "\n",
              "      <script>\n",
              "        const buttonEl =\n",
              "          document.querySelector('#df-3925b120-96e3-4f28-b441-c3e123436fa7 button.colab-df-convert');\n",
              "        buttonEl.style.display =\n",
              "          google.colab.kernel.accessAllowed ? 'block' : 'none';\n",
              "\n",
              "        async function convertToInteractive(key) {\n",
              "          const element = document.querySelector('#df-3925b120-96e3-4f28-b441-c3e123436fa7');\n",
              "          const dataTable =\n",
              "            await google.colab.kernel.invokeFunction('convertToInteractive',\n",
              "                                                     [key], {});\n",
              "          if (!dataTable) return;\n",
              "\n",
              "          const docLinkHtml = 'Like what you see? Visit the ' +\n",
              "            '<a target=\"_blank\" href=https://colab.research.google.com/notebooks/data_table.ipynb>data table notebook</a>'\n",
              "            + ' to learn more about interactive tables.';\n",
              "          element.innerHTML = '';\n",
              "          dataTable['output_type'] = 'display_data';\n",
              "          await google.colab.output.renderOutput(dataTable, element);\n",
              "          const docLink = document.createElement('div');\n",
              "          docLink.innerHTML = docLinkHtml;\n",
              "          element.appendChild(docLink);\n",
              "        }\n",
              "      </script>\n",
              "    </div>\n",
              "  </div>\n",
              "  "
            ]
          },
          "metadata": {},
          "execution_count": 3
        }
      ]
    },
    {
      "cell_type": "markdown",
      "source": [
        "# NORMALIZE"
      ],
      "metadata": {
        "id": "XqC-YF4BOFui"
      }
    },
    {
      "cell_type": "code",
      "source": [
        "columna_a_codificar = dataframe['srcip']\n",
        "le = LabelEncoder()\n",
        "columna_codificada = le.fit_transform(columna_a_codificar)\n",
        "dataframe['srcip'] = columna_codificada"
      ],
      "metadata": {
        "id": "BMAWYmz0N4iq"
      },
      "execution_count": null,
      "outputs": []
    },
    {
      "cell_type": "code",
      "source": [
        "columna_a_codificar = dataframe['dstip']\n",
        "le = LabelEncoder()\n",
        "columna_codificada = le.fit_transform(columna_a_codificar)\n",
        "dataframe['dstip'] = columna_codificada"
      ],
      "metadata": {
        "id": "VLiwOKCTOIcc"
      },
      "execution_count": null,
      "outputs": []
    },
    {
      "cell_type": "code",
      "source": [
        "columna_a_codificar = dataframe['dsport']\n",
        "le = LabelEncoder()\n",
        "columna_codificada = le.fit_transform(columna_a_codificar)\n",
        "dataframe['dsport'] = columna_codificada"
      ],
      "metadata": {
        "id": "QuG1d1KFOIfS"
      },
      "execution_count": null,
      "outputs": []
    },
    {
      "cell_type": "code",
      "source": [
        "columna_a_codificar = dataframe['proto']\n",
        "le = LabelEncoder()\n",
        "columna_codificada = le.fit_transform(columna_a_codificar)\n",
        "dataframe['proto'] = columna_codificada"
      ],
      "metadata": {
        "id": "-eiysixVOSh6"
      },
      "execution_count": null,
      "outputs": []
    },
    {
      "cell_type": "code",
      "source": [
        "columna_a_codificar = dataframe['state']\n",
        "le = LabelEncoder()\n",
        "columna_codificada = le.fit_transform(columna_a_codificar)\n",
        "dataframe['state'] = columna_codificada"
      ],
      "metadata": {
        "id": "RaL-KtgaOSkS"
      },
      "execution_count": null,
      "outputs": []
    },
    {
      "cell_type": "code",
      "source": [
        "columna_a_codificar = dataframe['dur']\n",
        "le = LabelEncoder()\n",
        "columna_codificada = le.fit_transform(columna_a_codificar)\n",
        "dataframe['dur'] = columna_codificada"
      ],
      "metadata": {
        "id": "7hjv7CLXOSmN"
      },
      "execution_count": null,
      "outputs": []
    },
    {
      "cell_type": "code",
      "source": [
        "columna_a_codificar = dataframe['service']\n",
        "le = LabelEncoder()\n",
        "columna_codificada = le.fit_transform(columna_a_codificar)\n",
        "dataframe['service'] = columna_codificada"
      ],
      "metadata": {
        "id": "04MAQj5hOSob"
      },
      "execution_count": null,
      "outputs": []
    },
    {
      "cell_type": "code",
      "source": [
        "columna_a_codificar = dataframe['Sload']\n",
        "le = LabelEncoder()\n",
        "columna_codificada = le.fit_transform(columna_a_codificar)\n",
        "dataframe['Sload'] = columna_codificada"
      ],
      "metadata": {
        "id": "cRp1GWhwOSqz"
      },
      "execution_count": null,
      "outputs": []
    },
    {
      "cell_type": "code",
      "source": [
        "columna_a_codificar = dataframe['Dload']\n",
        "le = LabelEncoder()\n",
        "columna_codificada = le.fit_transform(columna_a_codificar)\n",
        "dataframe['Dload'] = columna_codificada"
      ],
      "metadata": {
        "id": "uxLbAYn-OSs7"
      },
      "execution_count": null,
      "outputs": []
    },
    {
      "cell_type": "code",
      "source": [
        "columna_a_codificar = dataframe['Sjit']\n",
        "le = LabelEncoder()\n",
        "columna_codificada = le.fit_transform(columna_a_codificar)\n",
        "dataframe['Sjit'] = columna_codificada"
      ],
      "metadata": {
        "id": "PxzDVfEwOSvM"
      },
      "execution_count": null,
      "outputs": []
    },
    {
      "cell_type": "code",
      "source": [
        "columna_a_codificar = dataframe['Djit']\n",
        "le = LabelEncoder()\n",
        "columna_codificada = le.fit_transform(columna_a_codificar)\n",
        "dataframe['Djit'] = columna_codificada"
      ],
      "metadata": {
        "id": "eI4dhwYmOSxz"
      },
      "execution_count": null,
      "outputs": []
    },
    {
      "cell_type": "code",
      "source": [
        "columna_a_codificar = dataframe['Sintpkt']\n",
        "le = LabelEncoder()\n",
        "columna_codificada = le.fit_transform(columna_a_codificar)\n",
        "dataframe['Sintpkt'] = columna_codificada"
      ],
      "metadata": {
        "id": "7lZiKWpAObID"
      },
      "execution_count": null,
      "outputs": []
    },
    {
      "cell_type": "code",
      "source": [
        "columna_a_codificar = dataframe['Dintpkt']\n",
        "le = LabelEncoder()\n",
        "columna_codificada = le.fit_transform(columna_a_codificar)\n",
        "dataframe['Dintpkt'] = columna_codificada"
      ],
      "metadata": {
        "id": "6RE06TE4ObKa"
      },
      "execution_count": null,
      "outputs": []
    },
    {
      "cell_type": "code",
      "source": [
        "columna_a_codificar = dataframe['ct_ftp_cmd']\n",
        "le = LabelEncoder()\n",
        "columna_codificada = le.fit_transform(columna_a_codificar)\n",
        "dataframe['ct_ftp_cmd'] = columna_codificada"
      ],
      "metadata": {
        "id": "bGopqbEyObNT"
      },
      "execution_count": null,
      "outputs": []
    },
    {
      "cell_type": "code",
      "source": [
        "columna_a_codificar = dataframe['attack_cat']\n",
        "le = LabelEncoder()\n",
        "columna_codificada = le.fit_transform(columna_a_codificar)\n",
        "dataframe['attack_cat'] = columna_codificada"
      ],
      "metadata": {
        "id": "QH4A3kpVObP8"
      },
      "execution_count": null,
      "outputs": []
    },
    {
      "cell_type": "markdown",
      "source": [
        "# Caracteristicas"
      ],
      "metadata": {
        "id": "H90ushb5PoAE"
      }
    },
    {
      "cell_type": "code",
      "source": [
        "X = dataframe.iloc[:, :-1].values\n",
        "scaler = StandardScaler()\n",
        "x_normalised = scaler.fit_transform(X)\n",
        "y = dataframe['label']"
      ],
      "metadata": {
        "id": "zkfzVsRTPsn7"
      },
      "execution_count": null,
      "outputs": []
    },
    {
      "cell_type": "code",
      "source": [
        "X_train, X_test, y_train, y_test = train_test_split(x_normalised,\n",
        "                                            y, test_size=0.3, random_state=42)"
      ],
      "metadata": {
        "id": "IIT7iRfIPuhM"
      },
      "execution_count": null,
      "outputs": []
    }
  ]
}