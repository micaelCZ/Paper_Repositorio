{
  "nbformat": 4,
  "nbformat_minor": 0,
  "metadata": {
    "colab": {
      "provenance": [],
      "authorship_tag": "ABX9TyMhqUUufBygzmYHWW4wDCHL",
      "include_colab_link": true
    },
    "kernelspec": {
      "name": "python3",
      "display_name": "Python 3"
    },
    "language_info": {
      "name": "python"
    }
  },
  "cells": [
    {
      "cell_type": "markdown",
      "metadata": {
        "id": "view-in-github",
        "colab_type": "text"
      },
      "source": [
        "<a href=\"https://colab.research.google.com/github/micaelCZ/Paper_Repositorio/blob/main/EscenarioB_CNN.ipynb\" target=\"_parent\"><img src=\"https://colab.research.google.com/assets/colab-badge.svg\" alt=\"Open In Colab\"/></a>"
      ]
    },
    {
      "cell_type": "code",
      "execution_count": 57,
      "metadata": {
        "colab": {
          "base_uri": "https://localhost:8080/"
        },
        "id": "r_UClIvH49bU",
        "outputId": "e245c6d0-08fe-43b1-dc9e-1c2cc640835d"
      },
      "outputs": [
        {
          "output_type": "stream",
          "name": "stdout",
          "text": [
            "Looking in indexes: https://pypi.org/simple, https://us-python.pkg.dev/colab-wheels/public/simple/\n",
            "Requirement already satisfied: tensorflow-addons in /usr/local/lib/python3.9/dist-packages (0.20.0)\n",
            "Requirement already satisfied: packaging in /usr/local/lib/python3.9/dist-packages (from tensorflow-addons) (23.0)\n",
            "Requirement already satisfied: typeguard<3.0.0,>=2.7 in /usr/local/lib/python3.9/dist-packages (from tensorflow-addons) (2.13.3)\n"
          ]
        }
      ],
      "source": [
        "!pip install tensorflow-addons\n",
        "import pandas as pd\n",
        "import numpy as np\n",
        "from sklearn.model_selection import train_test_split\n",
        "from tensorflow import keras\n",
        "from sklearn.metrics import roc_curve, auc\n",
        "import matplotlib.pyplot as plt\n",
        "from tensorflow.keras.utils import to_categorical\n",
        "from tensorflow.keras.metrics import Precision, Recall\n",
        "from keras.callbacks import EarlyStopping\n",
        "\n"
      ]
    },
    {
      "cell_type": "code",
      "source": [
        "# Load the data\n",
        "url = 'https://raw.githubusercontent.com/micaelCZ/Paper_Repositorio/main/dataset/datasetPreprocesado/Escenario2.csv'\n",
        "df = pd.read_csv(url)\n",
        "df = pd.read_csv(url,low_memory=False)\n",
        "dataframe = pd.read_csv(url,low_memory=False)"
      ],
      "metadata": {
        "id": "l4N_OJbK5EAR"
      },
      "execution_count": 58,
      "outputs": []
    },
    {
      "cell_type": "code",
      "source": [
        "# Normalise the data\n",
        "def dfNormalize(df):\n",
        "    for feature_name in df.columns:\n",
        "        df.loc[:,feature_name]= pd.to_numeric(df.loc[:,feature_name], errors='coerce').fillna(0)\n",
        "        max_value = df[feature_name].max()\n",
        "        min_value = df[feature_name].min()   \n",
        "        if (max_value - min_value) > 0:\n",
        "            df.loc[:,feature_name] = (df.loc[:,feature_name] - min_value) / (max_value - min_value)\n",
        "        else:\n",
        "            df.loc[:,feature_name] = (df.loc[:,feature_name]- min_value)    \n",
        "    return df"
      ],
      "metadata": {
        "id": "0xubayyt5FsQ"
      },
      "execution_count": 59,
      "outputs": []
    },
    {
      "cell_type": "code",
      "source": [
        "# Split the data into train and test sets\n",
        "y = df['label']\n",
        "label_map = {'AUDIO': 0, 'BROWSING': 1, 'CHAT': 2, 'FILE-TRANSFER' : 3, 'MAIL' : 4, 'P2P' : 5, 'VIDEO' : 6, 'VOIP' : 7}\n",
        "change_labels = lambda x: label_map[x] if x in label_map else -1\n",
        "y = df['label'].apply(change_labels)"
      ],
      "metadata": {
        "id": "TfQXYcnU5FuP"
      },
      "execution_count": 60,
      "outputs": []
    },
    {
      "cell_type": "code",
      "source": [
        "X = df.iloc[:, 4:-1]\n",
        "X = dfNormalize(X)\n",
        "\n",
        "X_train, X_test, y_train, y_test = train_test_split(X, y, test_size=0.2, random_state=42, stratify=y)\n"
      ],
      "metadata": {
        "id": "XhrwIREY5Fwg"
      },
      "execution_count": 61,
      "outputs": []
    },
    {
      "cell_type": "code",
      "source": [
        "# Reshape the data for Conv1D\n",
        "X_train = X_train.values.reshape((X_train.shape[0], X_train.shape[1], 1))\n",
        "X_test = X_test.values.reshape((X_test.shape[0], X_test.shape[1], 1))\n"
      ],
      "metadata": {
        "id": "ls1NXPeA5Fyw"
      },
      "execution_count": 62,
      "outputs": []
    },
    {
      "cell_type": "code",
      "source": [
        "# One-hot encode the labels\n",
        "y_train = to_categorical(y_train)\n",
        "y_test = to_categorical(y_test)\n"
      ],
      "metadata": {
        "id": "1q5JXDf95F1A"
      },
      "execution_count": 63,
      "outputs": []
    },
    {
      "cell_type": "code",
      "source": [
        "# Define the model\n",
        "model = keras.models.Sequential([\n",
        "    keras.layers.Conv1D(filters=64, kernel_size=3, activation='relu', input_shape=(X_train.shape[1], 1)),\n",
        "    keras.layers.MaxPool1D(pool_size=2),\n",
        "    keras.layers.Conv1D(filters=128, kernel_size=3, activation='relu'),\n",
        "    keras.layers.MaxPool1D(pool_size=2),\n",
        "    keras.layers.Flatten(),\n",
        "    keras.layers.Dense(256, activation='relu'),\n",
        "    keras.layers.Dropout(0.5),\n",
        "    keras.layers.Dense(128, activation='relu'),\n",
        "    keras.layers.Dropout(0.5),\n",
        "    keras.layers.Dense(8, activation='softmax')\n",
        "])"
      ],
      "metadata": {
        "id": "LMD55l_p5F6J"
      },
      "execution_count": 64,
      "outputs": []
    },
    {
      "cell_type": "code",
      "source": [
        "\n",
        "from tensorflow_addons.metrics import F1Score\n"
      ],
      "metadata": {
        "id": "ZoevZ_Ji5F77"
      },
      "execution_count": 65,
      "outputs": []
    },
    {
      "cell_type": "code",
      "source": [
        "# Compile the model\n",
        "model.compile(optimizer='adam', loss='categorical_crossentropy', \n",
        "              metrics=['accuracy', Precision(), Recall(), F1Score(num_classes=8, average='macro')])\n"
      ],
      "metadata": {
        "id": "4HHCnbFX5MRQ"
      },
      "execution_count": 66,
      "outputs": []
    },
    {
      "cell_type": "code",
      "source": [
        "# Set up EarlyStopping callback\n",
        "early_stop = EarlyStopping(monitor='val_loss', patience=5)\n"
      ],
      "metadata": {
        "id": "qnaZWr685MS3"
      },
      "execution_count": 67,
      "outputs": []
    },
    {
      "cell_type": "code",
      "source": [
        "# Train the model\n",
        "history = model.fit(X_train, y_train, epochs=10, batch_size=32, validation_data=(X_test, y_test), callbacks=[early_stop])\n"
      ],
      "metadata": {
        "colab": {
          "base_uri": "https://localhost:8080/"
        },
        "id": "02N0fkID5MU_",
        "outputId": "35aaf75c-a6d8-47c2-ed6e-584f570d694e"
      },
      "execution_count": 68,
      "outputs": [
        {
          "output_type": "stream",
          "name": "stdout",
          "text": [
            "Epoch 1/10\n",
            "202/202 [==============================] - 5s 15ms/step - loss: 1.6079 - accuracy: 0.4200 - precision_3: 0.5472 - recall_3: 0.1305 - f1_score: 0.1828 - val_loss: 1.3815 - val_accuracy: 0.4711 - val_precision_3: 0.6419 - val_recall_3: 0.2896 - val_f1_score: 0.1905\n",
            "Epoch 2/10\n",
            "202/202 [==============================] - 4s 21ms/step - loss: 1.4108 - accuracy: 0.4740 - precision_3: 0.6318 - recall_3: 0.2362 - f1_score: 0.2450 - val_loss: 1.3047 - val_accuracy: 0.5078 - val_precision_3: 0.6248 - val_recall_3: 0.3188 - val_f1_score: 0.2630\n",
            "Epoch 3/10\n",
            "202/202 [==============================] - 4s 19ms/step - loss: 1.2923 - accuracy: 0.5197 - precision_3: 0.7099 - recall_3: 0.3064 - f1_score: 0.3086 - val_loss: 1.1582 - val_accuracy: 0.5625 - val_precision_3: 0.7069 - val_recall_3: 0.3673 - val_f1_score: 0.3570\n",
            "Epoch 4/10\n",
            "202/202 [==============================] - 4s 20ms/step - loss: 1.1800 - accuracy: 0.6025 - precision_3: 0.7687 - recall_3: 0.3683 - f1_score: 0.4091 - val_loss: 1.0657 - val_accuracy: 0.6501 - val_precision_3: 0.7354 - val_recall_3: 0.4786 - val_f1_score: 0.4439\n",
            "Epoch 5/10\n",
            "202/202 [==============================] - 5s 24ms/step - loss: 1.1065 - accuracy: 0.6361 - precision_3: 0.7809 - recall_3: 0.4277 - f1_score: 0.4414 - val_loss: 0.9833 - val_accuracy: 0.6787 - val_precision_3: 0.8202 - val_recall_3: 0.4705 - val_f1_score: 0.4781\n",
            "Epoch 6/10\n",
            "202/202 [==============================] - 3s 15ms/step - loss: 1.0441 - accuracy: 0.6581 - precision_3: 0.7878 - recall_3: 0.4777 - f1_score: 0.4632 - val_loss: 0.9401 - val_accuracy: 0.6868 - val_precision_3: 0.7911 - val_recall_3: 0.5320 - val_f1_score: 0.4862\n",
            "Epoch 7/10\n",
            "202/202 [==============================] - 2s 10ms/step - loss: 1.0098 - accuracy: 0.6626 - precision_3: 0.7886 - recall_3: 0.5072 - f1_score: 0.4703 - val_loss: 0.9375 - val_accuracy: 0.6880 - val_precision_3: 0.7926 - val_recall_3: 0.5345 - val_f1_score: 0.4859\n",
            "Epoch 8/10\n",
            "202/202 [==============================] - 2s 10ms/step - loss: 0.9963 - accuracy: 0.6688 - precision_3: 0.7795 - recall_3: 0.5192 - f1_score: 0.4712 - val_loss: 0.9218 - val_accuracy: 0.6855 - val_precision_3: 0.8165 - val_recall_3: 0.5364 - val_f1_score: 0.4852\n",
            "Epoch 9/10\n",
            "202/202 [==============================] - 2s 10ms/step - loss: 0.9718 - accuracy: 0.6744 - precision_3: 0.7865 - recall_3: 0.5336 - f1_score: 0.4784 - val_loss: 0.9030 - val_accuracy: 0.6892 - val_precision_3: 0.7935 - val_recall_3: 0.5612 - val_f1_score: 0.4915\n",
            "Epoch 10/10\n",
            "202/202 [==============================] - 3s 16ms/step - loss: 0.9543 - accuracy: 0.6802 - precision_3: 0.7954 - recall_3: 0.5437 - f1_score: 0.4841 - val_loss: 0.8791 - val_accuracy: 0.6979 - val_precision_3: 0.8256 - val_recall_3: 0.5444 - val_f1_score: 0.4977\n"
          ]
        }
      ]
    },
    {
      "cell_type": "code",
      "source": [
        "# Evaluate the model on the test set\n",
        "test_loss, test_accuracy, test_precision, test_recall, test_f1 = model.evaluate(X_test, y_test)\n",
        "\n",
        "# Multiply the metrics by 100 to show them on a 0-100 scale\n",
        "test_accuracy *= 100\n",
        "test_precision *= 100\n",
        "test_recall *= 100\n",
        "test_f1 *= 100\n"
      ],
      "metadata": {
        "colab": {
          "base_uri": "https://localhost:8080/"
        },
        "id": "iNzkOikR5MXC",
        "outputId": "92a54e3d-24e9-454a-a158-3327f13533ec"
      },
      "execution_count": 69,
      "outputs": [
        {
          "output_type": "stream",
          "name": "stdout",
          "text": [
            "51/51 [==============================] - 0s 3ms/step - loss: 0.8791 - accuracy: 0.6979 - precision_3: 0.8256 - recall_3: 0.5444 - f1_score: 0.4977\n"
          ]
        }
      ]
    },
    {
      "cell_type": "code",
      "source": [
        "# Print the test set metrics\n",
        "print('Test set metrics:')\n",
        "print('  Loss:     {:.3f}'.format(test_loss))\n",
        "print('  Accuracy: {:.3f}'.format(test_accuracy))\n",
        "print('  Precision:{:.3f}'.format(test_precision))\n",
        "print('  Recall:   {:.3f}'.format(test_recall))\n",
        "print('  F1 Score: {:.3f}'.format(test_f1))\n"
      ],
      "metadata": {
        "colab": {
          "base_uri": "https://localhost:8080/"
        },
        "id": "Q2EHjTe75Q4o",
        "outputId": "c702d5e8-9386-466c-8245-bfccc1bb9165"
      },
      "execution_count": 70,
      "outputs": [
        {
          "output_type": "stream",
          "name": "stdout",
          "text": [
            "Test set metrics:\n",
            "  Loss:     0.879\n",
            "  Accuracy: 69.795\n",
            "  Precision:82.564\n",
            "  Recall:   54.444\n",
            "  F1 Score: 49.774\n"
          ]
        }
      ]
    }
  ]
}