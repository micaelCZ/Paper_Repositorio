{
  "nbformat": 4,
  "nbformat_minor": 0,
  "metadata": {
    "colab": {
      "provenance": [],
      "authorship_tag": "ABX9TyMhqUUufBygzmYHWW4wDCHL",
      "include_colab_link": true
    },
    "kernelspec": {
      "name": "python3",
      "display_name": "Python 3"
    },
    "language_info": {
      "name": "python"
    }
  },
  "cells": [
    {
      "cell_type": "markdown",
      "metadata": {
        "id": "view-in-github",
        "colab_type": "text"
      },
      "source": [
        "<a href=\"https://colab.research.google.com/github/micaelCZ/Paper_Repositorio/blob/main/EscenarioB_CNN.ipynb\" target=\"_parent\"><img src=\"https://colab.research.google.com/assets/colab-badge.svg\" alt=\"Open In Colab\"/></a>"
      ]
    },
    {
      "cell_type": "code",
      "execution_count": 43,
      "metadata": {
        "colab": {
          "base_uri": "https://localhost:8080/"
        },
        "id": "r_UClIvH49bU",
        "outputId": "d681c05e-6dea-4d55-8fba-b7da458bb573"
      },
      "outputs": [
        {
          "output_type": "stream",
          "name": "stdout",
          "text": [
            "Looking in indexes: https://pypi.org/simple, https://us-python.pkg.dev/colab-wheels/public/simple/\n",
            "Requirement already satisfied: tensorflow-addons in /usr/local/lib/python3.9/dist-packages (0.20.0)\n",
            "Requirement already satisfied: packaging in /usr/local/lib/python3.9/dist-packages (from tensorflow-addons) (23.0)\n",
            "Requirement already satisfied: typeguard<3.0.0,>=2.7 in /usr/local/lib/python3.9/dist-packages (from tensorflow-addons) (2.13.3)\n"
          ]
        }
      ],
      "source": [
        "!pip install tensorflow-addons\n",
        "import pandas as pd\n",
        "import numpy as np\n",
        "from sklearn.model_selection import train_test_split\n",
        "from tensorflow import keras\n",
        "from sklearn.metrics import roc_curve, auc\n",
        "import matplotlib.pyplot as plt\n",
        "from tensorflow.keras.utils import to_categorical\n",
        "from tensorflow.keras.metrics import Precision, Recall\n",
        "from keras.callbacks import EarlyStopping\n",
        "\n"
      ]
    },
    {
      "cell_type": "code",
      "source": [
        "# Load the data\n",
        "url = 'https://raw.githubusercontent.com/micaelCZ/Paper_Repositorio/main/dataset/datasetPreprocesado/Escenario2.csv'\n",
        "df = pd.read_csv(url)\n",
        "df = pd.read_csv(url,low_memory=False)\n",
        "dataframe = pd.read_csv(url,low_memory=False)"
      ],
      "metadata": {
        "id": "l4N_OJbK5EAR"
      },
      "execution_count": 44,
      "outputs": []
    },
    {
      "cell_type": "code",
      "source": [
        "# Normalise the data\n",
        "def dfNormalize(df):\n",
        "    for feature_name in df.columns:\n",
        "        df.loc[:,feature_name]= pd.to_numeric(df.loc[:,feature_name], errors='coerce').fillna(0)\n",
        "        max_value = df[feature_name].max()\n",
        "        min_value = df[feature_name].min()   \n",
        "        if (max_value - min_value) > 0:\n",
        "            df.loc[:,feature_name] = (df.loc[:,feature_name] - min_value) / (max_value - min_value)\n",
        "        else:\n",
        "            df.loc[:,feature_name] = (df.loc[:,feature_name]- min_value)    \n",
        "    return df"
      ],
      "metadata": {
        "id": "0xubayyt5FsQ"
      },
      "execution_count": 45,
      "outputs": []
    },
    {
      "cell_type": "code",
      "source": [
        "# Split the data into train and test sets\n",
        "y = df['label']\n",
        "label_map = {'AUDIO': 0, 'BROWSING': 1, 'CHAT': 2, 'FILE-TRANSFER' : 3, 'MAIL' : 4, 'P2P' : 5, 'VIDEO' : 6, 'VOIP' : 7}\n",
        "change_labels = lambda x: label_map[x] if x in label_map else -1\n",
        "y = df['label'].apply(change_labels)"
      ],
      "metadata": {
        "id": "TfQXYcnU5FuP"
      },
      "execution_count": 46,
      "outputs": []
    },
    {
      "cell_type": "code",
      "source": [
        "X = df.iloc[:, 4:-1]\n",
        "X = dfNormalize(X)\n",
        "\n",
        "X_train, X_test, y_train, y_test = train_test_split(X, y, test_size=0.2, random_state=42, stratify=y)\n"
      ],
      "metadata": {
        "id": "XhrwIREY5Fwg"
      },
      "execution_count": 47,
      "outputs": []
    },
    {
      "cell_type": "code",
      "source": [
        "# Reshape the data for Conv1D\n",
        "X_train = X_train.values.reshape((X_train.shape[0], X_train.shape[1], 1))\n",
        "X_test = X_test.values.reshape((X_test.shape[0], X_test.shape[1], 1))\n"
      ],
      "metadata": {
        "id": "ls1NXPeA5Fyw"
      },
      "execution_count": 48,
      "outputs": []
    },
    {
      "cell_type": "code",
      "source": [
        "# One-hot encode the labels\n",
        "y_train = to_categorical(y_train)\n",
        "y_test = to_categorical(y_test)\n"
      ],
      "metadata": {
        "id": "1q5JXDf95F1A"
      },
      "execution_count": 49,
      "outputs": []
    },
    {
      "cell_type": "code",
      "source": [
        "# Define the model\n",
        "model = keras.models.Sequential([\n",
        "    keras.layers.Conv1D(filters=64, kernel_size=3, activation='relu', input_shape=(X_train.shape[1], 1)),\n",
        "    keras.layers.MaxPool1D(pool_size=2),\n",
        "    keras.layers.Conv1D(filters=128, kernel_size=3, activation='relu'),\n",
        "    keras.layers.MaxPool1D(pool_size=2),\n",
        "    keras.layers.Flatten(),\n",
        "    keras.layers.Dense(256, activation='relu'),\n",
        "    keras.layers.Dropout(0.5),\n",
        "    keras.layers.Dense(128, activation='relu'),\n",
        "    keras.layers.Dropout(0.5),\n",
        "    keras.layers.Dense(8, activation='softmax')\n",
        "])"
      ],
      "metadata": {
        "id": "LMD55l_p5F6J"
      },
      "execution_count": 50,
      "outputs": []
    },
    {
      "cell_type": "code",
      "source": [
        "\n",
        "from tensorflow_addons.metrics import F1Score\n"
      ],
      "metadata": {
        "id": "ZoevZ_Ji5F77"
      },
      "execution_count": 51,
      "outputs": []
    },
    {
      "cell_type": "code",
      "source": [
        "# Compile the model\n",
        "model.compile(optimizer='adam', loss='categorical_crossentropy', \n",
        "              metrics=['accuracy', Precision(), Recall(), F1Score(num_classes=8, average='macro')])\n"
      ],
      "metadata": {
        "id": "4HHCnbFX5MRQ"
      },
      "execution_count": 52,
      "outputs": []
    },
    {
      "cell_type": "code",
      "source": [
        "# Set up EarlyStopping callback\n",
        "early_stop = EarlyStopping(monitor='val_loss', patience=5)\n"
      ],
      "metadata": {
        "id": "qnaZWr685MS3"
      },
      "execution_count": 53,
      "outputs": []
    },
    {
      "cell_type": "code",
      "source": [
        "# Train the model\n",
        "history = model.fit(X_train, y_train, epochs=10, batch_size=32, validation_data=(X_test, y_test), callbacks=[early_stop])\n"
      ],
      "metadata": {
        "colab": {
          "base_uri": "https://localhost:8080/"
        },
        "id": "02N0fkID5MU_",
        "outputId": "e0595878-aed9-413d-f129-793ebcfade78"
      },
      "execution_count": 54,
      "outputs": [
        {
          "output_type": "stream",
          "name": "stdout",
          "text": [
            "Epoch 1/10\n",
            "202/202 [==============================] - 6s 20ms/step - loss: 1.6094 - accuracy: 0.4093 - precision_2: 0.5317 - recall_2: 0.1291 - f1_score: 0.1771 - val_loss: 1.4180 - val_accuracy: 0.4742 - val_precision_2: 0.0000e+00 - val_recall_2: 0.0000e+00 - val_f1_score: 0.1792\n",
            "Epoch 2/10\n",
            "202/202 [==============================] - 4s 20ms/step - loss: 1.4279 - accuracy: 0.4668 - precision_2: 0.6266 - recall_2: 0.2193 - f1_score: 0.2286 - val_loss: 1.3828 - val_accuracy: 0.4997 - val_precision_2: 0.5834 - val_recall_2: 0.3108 - val_f1_score: 0.2602\n",
            "Epoch 3/10\n",
            "202/202 [==============================] - 4s 19ms/step - loss: 1.3255 - accuracy: 0.5097 - precision_2: 0.6845 - recall_2: 0.2920 - f1_score: 0.2879 - val_loss: 1.1930 - val_accuracy: 0.5625 - val_precision_2: 0.7651 - val_recall_2: 0.3785 - val_f1_score: 0.3373\n",
            "Epoch 4/10\n",
            "202/202 [==============================] - 4s 20ms/step - loss: 1.2168 - accuracy: 0.5737 - precision_2: 0.7478 - recall_2: 0.3507 - f1_score: 0.3784 - val_loss: 1.0522 - val_accuracy: 0.6625 - val_precision_2: 0.8081 - val_recall_2: 0.4475 - val_f1_score: 0.4538\n",
            "Epoch 5/10\n",
            "202/202 [==============================] - 5s 23ms/step - loss: 1.1137 - accuracy: 0.6308 - precision_2: 0.7894 - recall_2: 0.4322 - f1_score: 0.4307 - val_loss: 0.9835 - val_accuracy: 0.6830 - val_precision_2: 0.8165 - val_recall_2: 0.4978 - val_f1_score: 0.4847\n",
            "Epoch 6/10\n",
            "202/202 [==============================] - 3s 13ms/step - loss: 1.0635 - accuracy: 0.6485 - precision_2: 0.7844 - recall_2: 0.4653 - f1_score: 0.4511 - val_loss: 0.9551 - val_accuracy: 0.6880 - val_precision_2: 0.8165 - val_recall_2: 0.5115 - val_f1_score: 0.4883\n",
            "Epoch 7/10\n",
            "202/202 [==============================] - 2s 10ms/step - loss: 1.0261 - accuracy: 0.6580 - precision_2: 0.7806 - recall_2: 0.4939 - f1_score: 0.4577 - val_loss: 0.9394 - val_accuracy: 0.6799 - val_precision_2: 0.8435 - val_recall_2: 0.4823 - val_f1_score: 0.4799\n",
            "Epoch 8/10\n",
            "202/202 [==============================] - 2s 11ms/step - loss: 0.9874 - accuracy: 0.6660 - precision_2: 0.7869 - recall_2: 0.5172 - f1_score: 0.4672 - val_loss: 0.9387 - val_accuracy: 0.6855 - val_precision_2: 0.8516 - val_recall_2: 0.4674 - val_f1_score: 0.4844\n",
            "Epoch 9/10\n",
            "202/202 [==============================] - 3s 13ms/step - loss: 0.9817 - accuracy: 0.6668 - precision_2: 0.7856 - recall_2: 0.5120 - f1_score: 0.4701 - val_loss: 0.9127 - val_accuracy: 0.6886 - val_precision_2: 0.8166 - val_recall_2: 0.5090 - val_f1_score: 0.4908\n",
            "Epoch 10/10\n",
            "202/202 [==============================] - 3s 13ms/step - loss: 0.9539 - accuracy: 0.6732 - precision_2: 0.7903 - recall_2: 0.5341 - f1_score: 0.4766 - val_loss: 0.8995 - val_accuracy: 0.6799 - val_precision_2: 0.8580 - val_recall_2: 0.5109 - val_f1_score: 0.4824\n"
          ]
        }
      ]
    },
    {
      "cell_type": "code",
      "source": [
        "# Evaluate the model on the test set\n",
        "test_loss, test_accuracy, test_precision, test_recall, test_f1 = model.evaluate(X_test, y_test)\n",
        "\n",
        "# Multiply the metrics by 100 to show them on a 0-100 scale\n",
        "test_accuracy *= 100\n",
        "test_precision *= 100\n",
        "test_recall *= 100\n",
        "test_f1 *= 100\n"
      ],
      "metadata": {
        "colab": {
          "base_uri": "https://localhost:8080/"
        },
        "id": "iNzkOikR5MXC",
        "outputId": "6da08547-3004-4f2e-ab1f-3ea091084725"
      },
      "execution_count": 55,
      "outputs": [
        {
          "output_type": "stream",
          "name": "stdout",
          "text": [
            "51/51 [==============================] - 0s 4ms/step - loss: 0.8995 - accuracy: 0.6799 - precision_2: 0.8580 - recall_2: 0.5109 - f1_score: 0.4824\n"
          ]
        }
      ]
    },
    {
      "cell_type": "code",
      "source": [
        "# Print the test set metrics\n",
        "print('Test set metrics:')\n",
        "print('  Loss:     {:.3f}'.format(test_loss))\n",
        "print('  Accuracy: {:.3f}'.format(test_accuracy))\n",
        "print('  Precision:{:.3f}'.format(test_precision))\n",
        "print('  Recall:   {:.3f}'.format(test_recall))\n",
        "print('  F1 Score: {:.3f}'.format(test_f1))\n"
      ],
      "metadata": {
        "colab": {
          "base_uri": "https://localhost:8080/"
        },
        "id": "Q2EHjTe75Q4o",
        "outputId": "df6e6318-ea33-4047-e451-1bae62e43b45"
      },
      "execution_count": 56,
      "outputs": [
        {
          "output_type": "stream",
          "name": "stdout",
          "text": [
            "Test set metrics:\n",
            "  Loss:     0.899\n",
            "  Accuracy: 67.993\n",
            "  Precision:85.804\n",
            "  Recall:   51.088\n",
            "  F1 Score: 48.240\n"
          ]
        }
      ]
    }
  ]
}