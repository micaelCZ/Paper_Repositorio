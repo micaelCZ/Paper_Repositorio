{
  "cells": [
    {
      "cell_type": "markdown",
      "metadata": {
        "id": "view-in-github",
        "colab_type": "text"
      },
      "source": [
        "<a href=\"https://colab.research.google.com/github/micaelCZ/Paper_Repositorio/blob/main/EscenarioC_CNN.ipynb\" target=\"_parent\"><img src=\"https://colab.research.google.com/assets/colab-badge.svg\" alt=\"Open In Colab\"/></a>"
      ]
    },
    {
      "cell_type": "markdown",
      "id": "005c6b81",
      "metadata": {
        "id": "005c6b81"
      },
      "source": [
        "<center><h1>Escenarios experimentales Internetworking</h1></center>"
      ]
    },
    {
      "cell_type": "markdown",
      "id": "e61d8a5c",
      "metadata": {
        "id": "e61d8a5c"
      },
      "source": [
        "Presentado por: Holger Fernando Catucuamba Nepas <br>\n",
        "Fecha: 23/02/2023"
      ]
    },
    {
      "cell_type": "markdown",
      "id": "b3f7d45b",
      "metadata": {
        "id": "b3f7d45b"
      },
      "source": [
        "##  Importación de librerias necesarias"
      ]
    },
    {
      "cell_type": "code",
      "execution_count": 192,
      "id": "4d72684a",
      "metadata": {
        "id": "4d72684a"
      },
      "outputs": [],
      "source": [
        "import pandas as pd\n",
        "import numpy as np\n",
        "from sklearn.preprocessing import LabelEncoder, StandardScaler\n",
        "import tensorflow as tf\n",
        "from sklearn.preprocessing import StandardScaler\n",
        "from sklearn.model_selection import train_test_split"
      ]
    },
    {
      "cell_type": "markdown",
      "id": "d29c4ef5",
      "metadata": {
        "id": "d29c4ef5"
      },
      "source": [
        "## Cargar el Dataset"
      ]
    },
    {
      "cell_type": "code",
      "execution_count": 193,
      "id": "e9523823",
      "metadata": {
        "id": "e9523823"
      },
      "outputs": [],
      "source": [
        "datapath = 'https://raw.githubusercontent.com/micaelCZ/Paper_Repositorio/main/dataset/datasetPreprocesado/Escenario3.csv'\n",
        "names = ['srcip', 'sport', 'dstip', 'dsport', 'proto', 'state', 'dur', 'sbytes', 'dbytes', 'sttl', 'dttl', 'sloss', 'dloss', 'service', 'Sload', 'Dload', 'Spkts', 'Dpkts', 'swin', 'dwin', 'stcpb', 'dtcpb', 'smeansz', 'dmeansz', 'trans_depth', 'res_bdy_len', 'Sjit', 'Djit', 'Stime', 'Ltime', 'Sintpkt', 'Dintpkt', 'tcprtt', 'synack', 'ackdat', 'is_sm_ips_ports', 'ct_state_ttl', 'ct_flw_http_mthd', 'is_ftp_login', 'ct_ftp_cmd', 'ct_srv_src', 'ct_srv_dst', 'ct_dst_ltm', 'ct_src_ltm', 'ct_src_dport_ltm', 'ct_dst_sport_ltm', 'ct_dst_src_ltm', 'attack_cat', 'label']\n",
        "dataframe = pd.read_csv(datapath,names=names,low_memory=False, sep=';')"
      ]
    },
    {
      "cell_type": "code",
      "execution_count": 194,
      "id": "1e18bfd2",
      "metadata": {
        "colab": {
          "base_uri": "https://localhost:8080/",
          "height": 300
        },
        "id": "1e18bfd2",
        "outputId": "2e96b52d-a2ac-4c15-9bc7-7b12c32c90ce"
      },
      "outputs": [
        {
          "output_type": "execute_result",
          "data": {
            "text/plain": [
              "        srcip  sport          dstip dsport proto state        dur  sbytes  \\\n",
              "0  59.166.0.9   7045  149.171.126.7     25   tcp   FIN   0.201886   37552   \n",
              "1  59.166.0.9   9685  149.171.126.2     80   tcp   FIN  5.864.748   19410   \n",
              "2  59.166.0.2   1421  149.171.126.4     53   udp   CON   0.001391     146   \n",
              "3  59.166.0.2  21553  149.171.126.2     25   tcp   FIN   0.053948   37812   \n",
              "4  59.166.0.8  45212  149.171.126.4     53   udp   CON   0.000953     146   \n",
              "\n",
              "    dbytes  sttl  ...  ct_ftp_cmd  ct_srv_src  ct_srv_dst ct_dst_ltm  \\\n",
              "0     3380    31  ...                       2           2          7   \n",
              "1  1087890    31  ...                       3           1          4   \n",
              "2      178    31  ...                       3           5          2   \n",
              "3     3380    31  ...                       1           1          4   \n",
              "4      178    31  ...                       2           5          2   \n",
              "\n",
              "  ct_src_ltm ct_src_dport_ltm  ct_dst_sport_ltm  ct_dst_src_ltm  attack_cat  \\\n",
              "0          4                1                 1               3         NaN   \n",
              "1          4                1                 1               1         NaN   \n",
              "2          7                1                 1               4         NaN   \n",
              "3          7                1                 1               3         NaN   \n",
              "4          1                1                 1               2         NaN   \n",
              "\n",
              "   label  \n",
              "0      0  \n",
              "1      0  \n",
              "2      0  \n",
              "3      0  \n",
              "4      0  \n",
              "\n",
              "[5 rows x 49 columns]"
            ],
            "text/html": [
              "\n",
              "  <div id=\"df-c1005f8b-ebcf-4de7-b782-60d81b70795b\">\n",
              "    <div class=\"colab-df-container\">\n",
              "      <div>\n",
              "<style scoped>\n",
              "    .dataframe tbody tr th:only-of-type {\n",
              "        vertical-align: middle;\n",
              "    }\n",
              "\n",
              "    .dataframe tbody tr th {\n",
              "        vertical-align: top;\n",
              "    }\n",
              "\n",
              "    .dataframe thead th {\n",
              "        text-align: right;\n",
              "    }\n",
              "</style>\n",
              "<table border=\"1\" class=\"dataframe\">\n",
              "  <thead>\n",
              "    <tr style=\"text-align: right;\">\n",
              "      <th></th>\n",
              "      <th>srcip</th>\n",
              "      <th>sport</th>\n",
              "      <th>dstip</th>\n",
              "      <th>dsport</th>\n",
              "      <th>proto</th>\n",
              "      <th>state</th>\n",
              "      <th>dur</th>\n",
              "      <th>sbytes</th>\n",
              "      <th>dbytes</th>\n",
              "      <th>sttl</th>\n",
              "      <th>...</th>\n",
              "      <th>ct_ftp_cmd</th>\n",
              "      <th>ct_srv_src</th>\n",
              "      <th>ct_srv_dst</th>\n",
              "      <th>ct_dst_ltm</th>\n",
              "      <th>ct_src_ltm</th>\n",
              "      <th>ct_src_dport_ltm</th>\n",
              "      <th>ct_dst_sport_ltm</th>\n",
              "      <th>ct_dst_src_ltm</th>\n",
              "      <th>attack_cat</th>\n",
              "      <th>label</th>\n",
              "    </tr>\n",
              "  </thead>\n",
              "  <tbody>\n",
              "    <tr>\n",
              "      <th>0</th>\n",
              "      <td>59.166.0.9</td>\n",
              "      <td>7045</td>\n",
              "      <td>149.171.126.7</td>\n",
              "      <td>25</td>\n",
              "      <td>tcp</td>\n",
              "      <td>FIN</td>\n",
              "      <td>0.201886</td>\n",
              "      <td>37552</td>\n",
              "      <td>3380</td>\n",
              "      <td>31</td>\n",
              "      <td>...</td>\n",
              "      <td></td>\n",
              "      <td>2</td>\n",
              "      <td>2</td>\n",
              "      <td>7</td>\n",
              "      <td>4</td>\n",
              "      <td>1</td>\n",
              "      <td>1</td>\n",
              "      <td>3</td>\n",
              "      <td>NaN</td>\n",
              "      <td>0</td>\n",
              "    </tr>\n",
              "    <tr>\n",
              "      <th>1</th>\n",
              "      <td>59.166.0.9</td>\n",
              "      <td>9685</td>\n",
              "      <td>149.171.126.2</td>\n",
              "      <td>80</td>\n",
              "      <td>tcp</td>\n",
              "      <td>FIN</td>\n",
              "      <td>5.864.748</td>\n",
              "      <td>19410</td>\n",
              "      <td>1087890</td>\n",
              "      <td>31</td>\n",
              "      <td>...</td>\n",
              "      <td></td>\n",
              "      <td>3</td>\n",
              "      <td>1</td>\n",
              "      <td>4</td>\n",
              "      <td>4</td>\n",
              "      <td>1</td>\n",
              "      <td>1</td>\n",
              "      <td>1</td>\n",
              "      <td>NaN</td>\n",
              "      <td>0</td>\n",
              "    </tr>\n",
              "    <tr>\n",
              "      <th>2</th>\n",
              "      <td>59.166.0.2</td>\n",
              "      <td>1421</td>\n",
              "      <td>149.171.126.4</td>\n",
              "      <td>53</td>\n",
              "      <td>udp</td>\n",
              "      <td>CON</td>\n",
              "      <td>0.001391</td>\n",
              "      <td>146</td>\n",
              "      <td>178</td>\n",
              "      <td>31</td>\n",
              "      <td>...</td>\n",
              "      <td></td>\n",
              "      <td>3</td>\n",
              "      <td>5</td>\n",
              "      <td>2</td>\n",
              "      <td>7</td>\n",
              "      <td>1</td>\n",
              "      <td>1</td>\n",
              "      <td>4</td>\n",
              "      <td>NaN</td>\n",
              "      <td>0</td>\n",
              "    </tr>\n",
              "    <tr>\n",
              "      <th>3</th>\n",
              "      <td>59.166.0.2</td>\n",
              "      <td>21553</td>\n",
              "      <td>149.171.126.2</td>\n",
              "      <td>25</td>\n",
              "      <td>tcp</td>\n",
              "      <td>FIN</td>\n",
              "      <td>0.053948</td>\n",
              "      <td>37812</td>\n",
              "      <td>3380</td>\n",
              "      <td>31</td>\n",
              "      <td>...</td>\n",
              "      <td></td>\n",
              "      <td>1</td>\n",
              "      <td>1</td>\n",
              "      <td>4</td>\n",
              "      <td>7</td>\n",
              "      <td>1</td>\n",
              "      <td>1</td>\n",
              "      <td>3</td>\n",
              "      <td>NaN</td>\n",
              "      <td>0</td>\n",
              "    </tr>\n",
              "    <tr>\n",
              "      <th>4</th>\n",
              "      <td>59.166.0.8</td>\n",
              "      <td>45212</td>\n",
              "      <td>149.171.126.4</td>\n",
              "      <td>53</td>\n",
              "      <td>udp</td>\n",
              "      <td>CON</td>\n",
              "      <td>0.000953</td>\n",
              "      <td>146</td>\n",
              "      <td>178</td>\n",
              "      <td>31</td>\n",
              "      <td>...</td>\n",
              "      <td></td>\n",
              "      <td>2</td>\n",
              "      <td>5</td>\n",
              "      <td>2</td>\n",
              "      <td>1</td>\n",
              "      <td>1</td>\n",
              "      <td>1</td>\n",
              "      <td>2</td>\n",
              "      <td>NaN</td>\n",
              "      <td>0</td>\n",
              "    </tr>\n",
              "  </tbody>\n",
              "</table>\n",
              "<p>5 rows × 49 columns</p>\n",
              "</div>\n",
              "      <button class=\"colab-df-convert\" onclick=\"convertToInteractive('df-c1005f8b-ebcf-4de7-b782-60d81b70795b')\"\n",
              "              title=\"Convert this dataframe to an interactive table.\"\n",
              "              style=\"display:none;\">\n",
              "        \n",
              "  <svg xmlns=\"http://www.w3.org/2000/svg\" height=\"24px\"viewBox=\"0 0 24 24\"\n",
              "       width=\"24px\">\n",
              "    <path d=\"M0 0h24v24H0V0z\" fill=\"none\"/>\n",
              "    <path d=\"M18.56 5.44l.94 2.06.94-2.06 2.06-.94-2.06-.94-.94-2.06-.94 2.06-2.06.94zm-11 1L8.5 8.5l.94-2.06 2.06-.94-2.06-.94L8.5 2.5l-.94 2.06-2.06.94zm10 10l.94 2.06.94-2.06 2.06-.94-2.06-.94-.94-2.06-.94 2.06-2.06.94z\"/><path d=\"M17.41 7.96l-1.37-1.37c-.4-.4-.92-.59-1.43-.59-.52 0-1.04.2-1.43.59L10.3 9.45l-7.72 7.72c-.78.78-.78 2.05 0 2.83L4 21.41c.39.39.9.59 1.41.59.51 0 1.02-.2 1.41-.59l7.78-7.78 2.81-2.81c.8-.78.8-2.07 0-2.86zM5.41 20L4 18.59l7.72-7.72 1.47 1.35L5.41 20z\"/>\n",
              "  </svg>\n",
              "      </button>\n",
              "      \n",
              "  <style>\n",
              "    .colab-df-container {\n",
              "      display:flex;\n",
              "      flex-wrap:wrap;\n",
              "      gap: 12px;\n",
              "    }\n",
              "\n",
              "    .colab-df-convert {\n",
              "      background-color: #E8F0FE;\n",
              "      border: none;\n",
              "      border-radius: 50%;\n",
              "      cursor: pointer;\n",
              "      display: none;\n",
              "      fill: #1967D2;\n",
              "      height: 32px;\n",
              "      padding: 0 0 0 0;\n",
              "      width: 32px;\n",
              "    }\n",
              "\n",
              "    .colab-df-convert:hover {\n",
              "      background-color: #E2EBFA;\n",
              "      box-shadow: 0px 1px 2px rgba(60, 64, 67, 0.3), 0px 1px 3px 1px rgba(60, 64, 67, 0.15);\n",
              "      fill: #174EA6;\n",
              "    }\n",
              "\n",
              "    [theme=dark] .colab-df-convert {\n",
              "      background-color: #3B4455;\n",
              "      fill: #D2E3FC;\n",
              "    }\n",
              "\n",
              "    [theme=dark] .colab-df-convert:hover {\n",
              "      background-color: #434B5C;\n",
              "      box-shadow: 0px 1px 3px 1px rgba(0, 0, 0, 0.15);\n",
              "      filter: drop-shadow(0px 1px 2px rgba(0, 0, 0, 0.3));\n",
              "      fill: #FFFFFF;\n",
              "    }\n",
              "  </style>\n",
              "\n",
              "      <script>\n",
              "        const buttonEl =\n",
              "          document.querySelector('#df-c1005f8b-ebcf-4de7-b782-60d81b70795b button.colab-df-convert');\n",
              "        buttonEl.style.display =\n",
              "          google.colab.kernel.accessAllowed ? 'block' : 'none';\n",
              "\n",
              "        async function convertToInteractive(key) {\n",
              "          const element = document.querySelector('#df-c1005f8b-ebcf-4de7-b782-60d81b70795b');\n",
              "          const dataTable =\n",
              "            await google.colab.kernel.invokeFunction('convertToInteractive',\n",
              "                                                     [key], {});\n",
              "          if (!dataTable) return;\n",
              "\n",
              "          const docLinkHtml = 'Like what you see? Visit the ' +\n",
              "            '<a target=\"_blank\" href=https://colab.research.google.com/notebooks/data_table.ipynb>data table notebook</a>'\n",
              "            + ' to learn more about interactive tables.';\n",
              "          element.innerHTML = '';\n",
              "          dataTable['output_type'] = 'display_data';\n",
              "          await google.colab.output.renderOutput(dataTable, element);\n",
              "          const docLink = document.createElement('div');\n",
              "          docLink.innerHTML = docLinkHtml;\n",
              "          element.appendChild(docLink);\n",
              "        }\n",
              "      </script>\n",
              "    </div>\n",
              "  </div>\n",
              "  "
            ]
          },
          "metadata": {},
          "execution_count": 194
        }
      ],
      "source": [
        "dataframe.head()"
      ]
    },
    {
      "cell_type": "markdown",
      "id": "ddb99e80",
      "metadata": {
        "id": "ddb99e80"
      },
      "source": [
        "### Descripción del problema"
      ]
    },
    {
      "cell_type": "code",
      "execution_count": 195,
      "id": "0fb13f3e",
      "metadata": {
        "colab": {
          "base_uri": "https://localhost:8080/",
          "height": 394
        },
        "id": "0fb13f3e",
        "outputId": "d475dcbd-3aa2-4073-b088-f57330250ec8"
      },
      "outputs": [
        {
          "output_type": "execute_result",
          "data": {
            "text/plain": [
              "             sport        sbytes        dbytes         sttl         dttl  \\\n",
              "count   3000.00000  3.000000e+03  3.000000e+03  3000.000000  3000.000000   \n",
              "mean   32747.94900  8.475333e+03  3.095792e+04   110.831333   110.269000   \n",
              "std    19863.14715  6.575680e+04  1.593243e+05   102.249355   111.227103   \n",
              "min        0.00000  4.600000e+01  0.000000e+00     0.000000     0.000000   \n",
              "25%    15253.75000  5.640000e+02  2.680000e+02    31.000000    29.000000   \n",
              "50%    33027.50000  1.251000e+03  1.231000e+03    62.000000    29.000000   \n",
              "75%    50372.75000  2.934000e+03  1.016800e+04   254.000000   252.000000   \n",
              "max    65532.00000  2.654524e+06  2.374900e+06   254.000000   252.000000   \n",
              "\n",
              "             sloss        dloss        Spkts        Dpkts         swin  ...  \\\n",
              "count  3000.000000  3000.000000  3000.000000  3000.000000  3000.000000  ...   \n",
              "mean      6.288333    14.102333    30.912000    36.679333   184.025000  ...   \n",
              "std      25.673714    56.775326    75.075755   119.951826   114.304547  ...   \n",
              "min       0.000000     0.000000     1.000000     0.000000     0.000000  ...   \n",
              "25%       0.000000     0.000000     4.000000     4.000000     0.000000  ...   \n",
              "50%       2.000000     2.000000    10.000000     8.000000   255.000000  ...   \n",
              "75%       7.000000     9.000000    38.000000    34.000000   255.000000  ...   \n",
              "max     999.000000   895.000000  2004.000000  1796.000000   255.000000  ...   \n",
              "\n",
              "       ct_flw_http_mthd  is_ftp_login   ct_srv_src  ct_srv_dst   ct_dst_ltm  \\\n",
              "count        621.000000     82.000000  3000.000000  3000.00000  3000.000000   \n",
              "mean           1.096618      1.073171     4.399667     4.12000     2.647667   \n",
              "std            0.530068      0.465620     6.023235     5.88437     2.324650   \n",
              "min            1.000000      1.000000     1.000000     1.00000     1.000000   \n",
              "25%            1.000000      1.000000     1.000000     1.00000     1.000000   \n",
              "50%            1.000000      1.000000     2.000000     2.00000     2.000000   \n",
              "75%            1.000000      1.000000     6.000000     5.00000     4.000000   \n",
              "max            4.000000      4.000000    36.000000    36.00000    16.000000   \n",
              "\n",
              "        ct_src_ltm  ct_src_dport_ltm  ct_dst_sport_ltm  ct_dst_src_ltm  \\\n",
              "count  3000.000000       3000.000000       3000.000000     3000.000000   \n",
              "mean      2.994000          1.467333          1.029333        3.257000   \n",
              "std       2.624295          1.804444          0.210921        5.638813   \n",
              "min       1.000000          1.000000          1.000000        1.000000   \n",
              "25%       1.000000          1.000000          1.000000        1.000000   \n",
              "50%       2.000000          1.000000          1.000000        2.000000   \n",
              "75%       4.000000          1.000000          1.000000        3.000000   \n",
              "max      16.000000         16.000000          4.000000       36.000000   \n",
              "\n",
              "             label  \n",
              "count  3000.000000  \n",
              "mean      0.500000  \n",
              "std       0.500083  \n",
              "min       0.000000  \n",
              "25%       0.000000  \n",
              "50%       0.500000  \n",
              "75%       1.000000  \n",
              "max       1.000000  \n",
              "\n",
              "[8 rows x 34 columns]"
            ],
            "text/html": [
              "\n",
              "  <div id=\"df-0c4ec611-762a-45de-b58b-c13c814b27fa\">\n",
              "    <div class=\"colab-df-container\">\n",
              "      <div>\n",
              "<style scoped>\n",
              "    .dataframe tbody tr th:only-of-type {\n",
              "        vertical-align: middle;\n",
              "    }\n",
              "\n",
              "    .dataframe tbody tr th {\n",
              "        vertical-align: top;\n",
              "    }\n",
              "\n",
              "    .dataframe thead th {\n",
              "        text-align: right;\n",
              "    }\n",
              "</style>\n",
              "<table border=\"1\" class=\"dataframe\">\n",
              "  <thead>\n",
              "    <tr style=\"text-align: right;\">\n",
              "      <th></th>\n",
              "      <th>sport</th>\n",
              "      <th>sbytes</th>\n",
              "      <th>dbytes</th>\n",
              "      <th>sttl</th>\n",
              "      <th>dttl</th>\n",
              "      <th>sloss</th>\n",
              "      <th>dloss</th>\n",
              "      <th>Spkts</th>\n",
              "      <th>Dpkts</th>\n",
              "      <th>swin</th>\n",
              "      <th>...</th>\n",
              "      <th>ct_flw_http_mthd</th>\n",
              "      <th>is_ftp_login</th>\n",
              "      <th>ct_srv_src</th>\n",
              "      <th>ct_srv_dst</th>\n",
              "      <th>ct_dst_ltm</th>\n",
              "      <th>ct_src_ltm</th>\n",
              "      <th>ct_src_dport_ltm</th>\n",
              "      <th>ct_dst_sport_ltm</th>\n",
              "      <th>ct_dst_src_ltm</th>\n",
              "      <th>label</th>\n",
              "    </tr>\n",
              "  </thead>\n",
              "  <tbody>\n",
              "    <tr>\n",
              "      <th>count</th>\n",
              "      <td>3000.00000</td>\n",
              "      <td>3.000000e+03</td>\n",
              "      <td>3.000000e+03</td>\n",
              "      <td>3000.000000</td>\n",
              "      <td>3000.000000</td>\n",
              "      <td>3000.000000</td>\n",
              "      <td>3000.000000</td>\n",
              "      <td>3000.000000</td>\n",
              "      <td>3000.000000</td>\n",
              "      <td>3000.000000</td>\n",
              "      <td>...</td>\n",
              "      <td>621.000000</td>\n",
              "      <td>82.000000</td>\n",
              "      <td>3000.000000</td>\n",
              "      <td>3000.00000</td>\n",
              "      <td>3000.000000</td>\n",
              "      <td>3000.000000</td>\n",
              "      <td>3000.000000</td>\n",
              "      <td>3000.000000</td>\n",
              "      <td>3000.000000</td>\n",
              "      <td>3000.000000</td>\n",
              "    </tr>\n",
              "    <tr>\n",
              "      <th>mean</th>\n",
              "      <td>32747.94900</td>\n",
              "      <td>8.475333e+03</td>\n",
              "      <td>3.095792e+04</td>\n",
              "      <td>110.831333</td>\n",
              "      <td>110.269000</td>\n",
              "      <td>6.288333</td>\n",
              "      <td>14.102333</td>\n",
              "      <td>30.912000</td>\n",
              "      <td>36.679333</td>\n",
              "      <td>184.025000</td>\n",
              "      <td>...</td>\n",
              "      <td>1.096618</td>\n",
              "      <td>1.073171</td>\n",
              "      <td>4.399667</td>\n",
              "      <td>4.12000</td>\n",
              "      <td>2.647667</td>\n",
              "      <td>2.994000</td>\n",
              "      <td>1.467333</td>\n",
              "      <td>1.029333</td>\n",
              "      <td>3.257000</td>\n",
              "      <td>0.500000</td>\n",
              "    </tr>\n",
              "    <tr>\n",
              "      <th>std</th>\n",
              "      <td>19863.14715</td>\n",
              "      <td>6.575680e+04</td>\n",
              "      <td>1.593243e+05</td>\n",
              "      <td>102.249355</td>\n",
              "      <td>111.227103</td>\n",
              "      <td>25.673714</td>\n",
              "      <td>56.775326</td>\n",
              "      <td>75.075755</td>\n",
              "      <td>119.951826</td>\n",
              "      <td>114.304547</td>\n",
              "      <td>...</td>\n",
              "      <td>0.530068</td>\n",
              "      <td>0.465620</td>\n",
              "      <td>6.023235</td>\n",
              "      <td>5.88437</td>\n",
              "      <td>2.324650</td>\n",
              "      <td>2.624295</td>\n",
              "      <td>1.804444</td>\n",
              "      <td>0.210921</td>\n",
              "      <td>5.638813</td>\n",
              "      <td>0.500083</td>\n",
              "    </tr>\n",
              "    <tr>\n",
              "      <th>min</th>\n",
              "      <td>0.00000</td>\n",
              "      <td>4.600000e+01</td>\n",
              "      <td>0.000000e+00</td>\n",
              "      <td>0.000000</td>\n",
              "      <td>0.000000</td>\n",
              "      <td>0.000000</td>\n",
              "      <td>0.000000</td>\n",
              "      <td>1.000000</td>\n",
              "      <td>0.000000</td>\n",
              "      <td>0.000000</td>\n",
              "      <td>...</td>\n",
              "      <td>1.000000</td>\n",
              "      <td>1.000000</td>\n",
              "      <td>1.000000</td>\n",
              "      <td>1.00000</td>\n",
              "      <td>1.000000</td>\n",
              "      <td>1.000000</td>\n",
              "      <td>1.000000</td>\n",
              "      <td>1.000000</td>\n",
              "      <td>1.000000</td>\n",
              "      <td>0.000000</td>\n",
              "    </tr>\n",
              "    <tr>\n",
              "      <th>25%</th>\n",
              "      <td>15253.75000</td>\n",
              "      <td>5.640000e+02</td>\n",
              "      <td>2.680000e+02</td>\n",
              "      <td>31.000000</td>\n",
              "      <td>29.000000</td>\n",
              "      <td>0.000000</td>\n",
              "      <td>0.000000</td>\n",
              "      <td>4.000000</td>\n",
              "      <td>4.000000</td>\n",
              "      <td>0.000000</td>\n",
              "      <td>...</td>\n",
              "      <td>1.000000</td>\n",
              "      <td>1.000000</td>\n",
              "      <td>1.000000</td>\n",
              "      <td>1.00000</td>\n",
              "      <td>1.000000</td>\n",
              "      <td>1.000000</td>\n",
              "      <td>1.000000</td>\n",
              "      <td>1.000000</td>\n",
              "      <td>1.000000</td>\n",
              "      <td>0.000000</td>\n",
              "    </tr>\n",
              "    <tr>\n",
              "      <th>50%</th>\n",
              "      <td>33027.50000</td>\n",
              "      <td>1.251000e+03</td>\n",
              "      <td>1.231000e+03</td>\n",
              "      <td>62.000000</td>\n",
              "      <td>29.000000</td>\n",
              "      <td>2.000000</td>\n",
              "      <td>2.000000</td>\n",
              "      <td>10.000000</td>\n",
              "      <td>8.000000</td>\n",
              "      <td>255.000000</td>\n",
              "      <td>...</td>\n",
              "      <td>1.000000</td>\n",
              "      <td>1.000000</td>\n",
              "      <td>2.000000</td>\n",
              "      <td>2.00000</td>\n",
              "      <td>2.000000</td>\n",
              "      <td>2.000000</td>\n",
              "      <td>1.000000</td>\n",
              "      <td>1.000000</td>\n",
              "      <td>2.000000</td>\n",
              "      <td>0.500000</td>\n",
              "    </tr>\n",
              "    <tr>\n",
              "      <th>75%</th>\n",
              "      <td>50372.75000</td>\n",
              "      <td>2.934000e+03</td>\n",
              "      <td>1.016800e+04</td>\n",
              "      <td>254.000000</td>\n",
              "      <td>252.000000</td>\n",
              "      <td>7.000000</td>\n",
              "      <td>9.000000</td>\n",
              "      <td>38.000000</td>\n",
              "      <td>34.000000</td>\n",
              "      <td>255.000000</td>\n",
              "      <td>...</td>\n",
              "      <td>1.000000</td>\n",
              "      <td>1.000000</td>\n",
              "      <td>6.000000</td>\n",
              "      <td>5.00000</td>\n",
              "      <td>4.000000</td>\n",
              "      <td>4.000000</td>\n",
              "      <td>1.000000</td>\n",
              "      <td>1.000000</td>\n",
              "      <td>3.000000</td>\n",
              "      <td>1.000000</td>\n",
              "    </tr>\n",
              "    <tr>\n",
              "      <th>max</th>\n",
              "      <td>65532.00000</td>\n",
              "      <td>2.654524e+06</td>\n",
              "      <td>2.374900e+06</td>\n",
              "      <td>254.000000</td>\n",
              "      <td>252.000000</td>\n",
              "      <td>999.000000</td>\n",
              "      <td>895.000000</td>\n",
              "      <td>2004.000000</td>\n",
              "      <td>1796.000000</td>\n",
              "      <td>255.000000</td>\n",
              "      <td>...</td>\n",
              "      <td>4.000000</td>\n",
              "      <td>4.000000</td>\n",
              "      <td>36.000000</td>\n",
              "      <td>36.00000</td>\n",
              "      <td>16.000000</td>\n",
              "      <td>16.000000</td>\n",
              "      <td>16.000000</td>\n",
              "      <td>4.000000</td>\n",
              "      <td>36.000000</td>\n",
              "      <td>1.000000</td>\n",
              "    </tr>\n",
              "  </tbody>\n",
              "</table>\n",
              "<p>8 rows × 34 columns</p>\n",
              "</div>\n",
              "      <button class=\"colab-df-convert\" onclick=\"convertToInteractive('df-0c4ec611-762a-45de-b58b-c13c814b27fa')\"\n",
              "              title=\"Convert this dataframe to an interactive table.\"\n",
              "              style=\"display:none;\">\n",
              "        \n",
              "  <svg xmlns=\"http://www.w3.org/2000/svg\" height=\"24px\"viewBox=\"0 0 24 24\"\n",
              "       width=\"24px\">\n",
              "    <path d=\"M0 0h24v24H0V0z\" fill=\"none\"/>\n",
              "    <path d=\"M18.56 5.44l.94 2.06.94-2.06 2.06-.94-2.06-.94-.94-2.06-.94 2.06-2.06.94zm-11 1L8.5 8.5l.94-2.06 2.06-.94-2.06-.94L8.5 2.5l-.94 2.06-2.06.94zm10 10l.94 2.06.94-2.06 2.06-.94-2.06-.94-.94-2.06-.94 2.06-2.06.94z\"/><path d=\"M17.41 7.96l-1.37-1.37c-.4-.4-.92-.59-1.43-.59-.52 0-1.04.2-1.43.59L10.3 9.45l-7.72 7.72c-.78.78-.78 2.05 0 2.83L4 21.41c.39.39.9.59 1.41.59.51 0 1.02-.2 1.41-.59l7.78-7.78 2.81-2.81c.8-.78.8-2.07 0-2.86zM5.41 20L4 18.59l7.72-7.72 1.47 1.35L5.41 20z\"/>\n",
              "  </svg>\n",
              "      </button>\n",
              "      \n",
              "  <style>\n",
              "    .colab-df-container {\n",
              "      display:flex;\n",
              "      flex-wrap:wrap;\n",
              "      gap: 12px;\n",
              "    }\n",
              "\n",
              "    .colab-df-convert {\n",
              "      background-color: #E8F0FE;\n",
              "      border: none;\n",
              "      border-radius: 50%;\n",
              "      cursor: pointer;\n",
              "      display: none;\n",
              "      fill: #1967D2;\n",
              "      height: 32px;\n",
              "      padding: 0 0 0 0;\n",
              "      width: 32px;\n",
              "    }\n",
              "\n",
              "    .colab-df-convert:hover {\n",
              "      background-color: #E2EBFA;\n",
              "      box-shadow: 0px 1px 2px rgba(60, 64, 67, 0.3), 0px 1px 3px 1px rgba(60, 64, 67, 0.15);\n",
              "      fill: #174EA6;\n",
              "    }\n",
              "\n",
              "    [theme=dark] .colab-df-convert {\n",
              "      background-color: #3B4455;\n",
              "      fill: #D2E3FC;\n",
              "    }\n",
              "\n",
              "    [theme=dark] .colab-df-convert:hover {\n",
              "      background-color: #434B5C;\n",
              "      box-shadow: 0px 1px 3px 1px rgba(0, 0, 0, 0.15);\n",
              "      filter: drop-shadow(0px 1px 2px rgba(0, 0, 0, 0.3));\n",
              "      fill: #FFFFFF;\n",
              "    }\n",
              "  </style>\n",
              "\n",
              "      <script>\n",
              "        const buttonEl =\n",
              "          document.querySelector('#df-0c4ec611-762a-45de-b58b-c13c814b27fa button.colab-df-convert');\n",
              "        buttonEl.style.display =\n",
              "          google.colab.kernel.accessAllowed ? 'block' : 'none';\n",
              "\n",
              "        async function convertToInteractive(key) {\n",
              "          const element = document.querySelector('#df-0c4ec611-762a-45de-b58b-c13c814b27fa');\n",
              "          const dataTable =\n",
              "            await google.colab.kernel.invokeFunction('convertToInteractive',\n",
              "                                                     [key], {});\n",
              "          if (!dataTable) return;\n",
              "\n",
              "          const docLinkHtml = 'Like what you see? Visit the ' +\n",
              "            '<a target=\"_blank\" href=https://colab.research.google.com/notebooks/data_table.ipynb>data table notebook</a>'\n",
              "            + ' to learn more about interactive tables.';\n",
              "          element.innerHTML = '';\n",
              "          dataTable['output_type'] = 'display_data';\n",
              "          await google.colab.output.renderOutput(dataTable, element);\n",
              "          const docLink = document.createElement('div');\n",
              "          docLink.innerHTML = docLinkHtml;\n",
              "          element.appendChild(docLink);\n",
              "        }\n",
              "      </script>\n",
              "    </div>\n",
              "  </div>\n",
              "  "
            ]
          },
          "metadata": {},
          "execution_count": 195
        }
      ],
      "source": [
        "dataframe.describe()"
      ]
    },
    {
      "cell_type": "markdown",
      "id": "d9123fac",
      "metadata": {
        "id": "d9123fac"
      },
      "source": [
        "## Normalizar los datos"
      ]
    },
    {
      "cell_type": "code",
      "execution_count": 196,
      "id": "702eb633",
      "metadata": {
        "id": "702eb633"
      },
      "outputs": [],
      "source": [
        "columna_a_codificar = dataframe['srcip']\n",
        "le = LabelEncoder()\n",
        "columna_codificada = le.fit_transform(columna_a_codificar)\n",
        "dataframe['srcip'] = columna_codificada"
      ]
    },
    {
      "cell_type": "code",
      "execution_count": 197,
      "id": "73757a1b",
      "metadata": {
        "id": "73757a1b"
      },
      "outputs": [],
      "source": [
        "columna_a_codificar = dataframe['dstip']\n",
        "le = LabelEncoder()\n",
        "columna_codificada = le.fit_transform(columna_a_codificar)\n",
        "dataframe['dstip'] = columna_codificada"
      ]
    },
    {
      "cell_type": "code",
      "execution_count": 198,
      "id": "d1e17cff",
      "metadata": {
        "id": "d1e17cff"
      },
      "outputs": [],
      "source": [
        "columna_a_codificar = dataframe['dsport']\n",
        "le = LabelEncoder()\n",
        "columna_codificada = le.fit_transform(columna_a_codificar)\n",
        "dataframe['dsport'] = columna_codificada"
      ]
    },
    {
      "cell_type": "code",
      "execution_count": 199,
      "id": "b0b6e400",
      "metadata": {
        "id": "b0b6e400"
      },
      "outputs": [],
      "source": [
        "columna_a_codificar = dataframe['proto']\n",
        "le = LabelEncoder()\n",
        "columna_codificada = le.fit_transform(columna_a_codificar)\n",
        "dataframe['proto'] = columna_codificada"
      ]
    },
    {
      "cell_type": "code",
      "execution_count": 200,
      "id": "96701ef4",
      "metadata": {
        "id": "96701ef4"
      },
      "outputs": [],
      "source": [
        "columna_a_codificar = dataframe['state']\n",
        "le = LabelEncoder()\n",
        "columna_codificada = le.fit_transform(columna_a_codificar)\n",
        "dataframe['state'] = columna_codificada"
      ]
    },
    {
      "cell_type": "code",
      "execution_count": 201,
      "id": "cfca94f3",
      "metadata": {
        "id": "cfca94f3"
      },
      "outputs": [],
      "source": [
        "columna_a_codificar = dataframe['dur']\n",
        "le = LabelEncoder()\n",
        "columna_codificada = le.fit_transform(columna_a_codificar)\n",
        "dataframe['dur'] = columna_codificada"
      ]
    },
    {
      "cell_type": "code",
      "execution_count": 202,
      "id": "6ed64f66",
      "metadata": {
        "id": "6ed64f66"
      },
      "outputs": [],
      "source": [
        "columna_a_codificar = dataframe['service']\n",
        "le = LabelEncoder()\n",
        "columna_codificada = le.fit_transform(columna_a_codificar)\n",
        "dataframe['service'] = columna_codificada"
      ]
    },
    {
      "cell_type": "code",
      "execution_count": 203,
      "id": "b637e4b9",
      "metadata": {
        "id": "b637e4b9"
      },
      "outputs": [],
      "source": [
        "columna_a_codificar = dataframe['Sload']\n",
        "le = LabelEncoder()\n",
        "columna_codificada = le.fit_transform(columna_a_codificar)\n",
        "dataframe['Sload'] = columna_codificada"
      ]
    },
    {
      "cell_type": "code",
      "execution_count": 204,
      "id": "a387eba0",
      "metadata": {
        "id": "a387eba0"
      },
      "outputs": [],
      "source": [
        "columna_a_codificar = dataframe['Dload']\n",
        "le = LabelEncoder()\n",
        "columna_codificada = le.fit_transform(columna_a_codificar)\n",
        "dataframe['Dload'] = columna_codificada"
      ]
    },
    {
      "cell_type": "code",
      "execution_count": 205,
      "id": "c9900515",
      "metadata": {
        "id": "c9900515"
      },
      "outputs": [],
      "source": [
        "columna_a_codificar = dataframe['Sjit']\n",
        "le = LabelEncoder()\n",
        "columna_codificada = le.fit_transform(columna_a_codificar)\n",
        "dataframe['Sjit'] = columna_codificada"
      ]
    },
    {
      "cell_type": "code",
      "execution_count": 206,
      "id": "21da6657",
      "metadata": {
        "id": "21da6657"
      },
      "outputs": [],
      "source": [
        "columna_a_codificar = dataframe['Djit']\n",
        "le = LabelEncoder()\n",
        "columna_codificada = le.fit_transform(columna_a_codificar)\n",
        "dataframe['Djit'] = columna_codificada"
      ]
    },
    {
      "cell_type": "code",
      "execution_count": 207,
      "id": "c760edb4",
      "metadata": {
        "id": "c760edb4"
      },
      "outputs": [],
      "source": [
        "columna_a_codificar = dataframe['Sintpkt']\n",
        "le = LabelEncoder()\n",
        "columna_codificada = le.fit_transform(columna_a_codificar)\n",
        "dataframe['Sintpkt'] = columna_codificada"
      ]
    },
    {
      "cell_type": "code",
      "execution_count": 208,
      "id": "4ac0fcca",
      "metadata": {
        "id": "4ac0fcca"
      },
      "outputs": [],
      "source": [
        "columna_a_codificar = dataframe['Dintpkt']\n",
        "le = LabelEncoder()\n",
        "columna_codificada = le.fit_transform(columna_a_codificar)\n",
        "dataframe['Dintpkt'] = columna_codificada"
      ]
    },
    {
      "cell_type": "code",
      "execution_count": 209,
      "id": "fba856ff",
      "metadata": {
        "id": "fba856ff"
      },
      "outputs": [],
      "source": [
        "columna_a_codificar = dataframe['ct_ftp_cmd']\n",
        "le = LabelEncoder()\n",
        "columna_codificada = le.fit_transform(columna_a_codificar)\n",
        "dataframe['ct_ftp_cmd'] = columna_codificada"
      ]
    },
    {
      "cell_type": "code",
      "execution_count": 210,
      "id": "8a68125a",
      "metadata": {
        "id": "8a68125a"
      },
      "outputs": [],
      "source": [
        "columna_a_codificar = dataframe['attack_cat']\n",
        "le = LabelEncoder()\n",
        "columna_codificada = le.fit_transform(columna_a_codificar)\n",
        "dataframe['attack_cat'] = columna_codificada"
      ]
    },
    {
      "cell_type": "markdown",
      "id": "48ff1bd5",
      "metadata": {
        "id": "48ff1bd5"
      },
      "source": [
        "## Separar las características del conjunto de datos en una matriz separada"
      ]
    },
    {
      "cell_type": "code",
      "execution_count": 211,
      "id": "56466fce",
      "metadata": {
        "id": "56466fce"
      },
      "outputs": [],
      "source": [
        "X = dataframe.iloc[:, :-1].values\n",
        "scaler = StandardScaler()\n",
        "x_normalised = scaler.fit_transform(X)\n",
        "y = dataframe['label']"
      ]
    },
    {
      "cell_type": "code",
      "execution_count": 212,
      "id": "79a837c2",
      "metadata": {
        "id": "79a837c2"
      },
      "outputs": [],
      "source": [
        "X_train, X_test, y_train, y_test = train_test_split(x_normalised,\n",
        "                                            y, test_size=0.3, random_state=42)"
      ]
    },
    {
      "cell_type": "code",
      "source": [
        "from keras.wrappers.scikit_learn import KerasClassifier\n",
        "from sklearn.model_selection import GridSearchCV\n",
        "\n",
        "def create_model(num_filters, kernel_size, batch_size):\n",
        "    model = Sequential()\n",
        "    model.add(Conv1D(filters=num_filters, input_shape=(X_train.shape[1], 1), kernel_size=kernel_size, strides=1, padding='valid'))\n",
        "    model.add(MaxPooling1D(pool_size=2))\n",
        "    model.add(Flatten())\n",
        "    model.add(Dense(1, activation='sigmoid'))\n",
        "    model.compile(loss='binary_crossentropy', optimizer='adam', metrics=['accuracy'])\n",
        "    return model\n",
        "\n",
        "model = KerasClassifier(build_fn=create_model, verbose=0)\n",
        "\n",
        "param_grid = {'num_filters': [32, 64, 128],\n",
        "              'kernel_size': [3, 5, 7],\n",
        "              'batch_size': [32, 64, 128]}\n",
        "\n",
        "grid = GridSearchCV(estimator=model, param_grid=param_grid, cv=3)\n",
        "grid_result = grid.fit(X_train, y_train)\n",
        "\n",
        "print(f\"Best Score: {grid_result.best_score_} using {grid_result.best_params_}\")"
      ],
      "metadata": {
        "colab": {
          "base_uri": "https://localhost:8080/"
        },
        "id": "BL_b09FDgckF",
        "outputId": "9aebd066-830a-4ccb-e0d7-6771ac89cd28"
      },
      "id": "BL_b09FDgckF",
      "execution_count": 213,
      "outputs": [
        {
          "output_type": "stream",
          "name": "stderr",
          "text": [
            "<ipython-input-213-dcbbe72378c5>:13: DeprecationWarning: KerasClassifier is deprecated, use Sci-Keras (https://github.com/adriangb/scikeras) instead. See https://www.adriangb.com/scikeras/stable/migration.html for help migrating.\n",
            "  model = KerasClassifier(build_fn=create_model, verbose=0)\n"
          ]
        },
        {
          "output_type": "stream",
          "name": "stdout",
          "text": [
            "Best Score: 0.49095238248507184 using {'batch_size': 32, 'kernel_size': 3, 'num_filters': 32}\n"
          ]
        }
      ]
    },
    {
      "cell_type": "markdown",
      "id": "f8363e75",
      "metadata": {
        "id": "f8363e75"
      },
      "source": [
        "## Crear Modelo"
      ]
    },
    {
      "cell_type": "code",
      "execution_count": 214,
      "id": "56fd1eb5",
      "metadata": {
        "colab": {
          "base_uri": "https://localhost:8080/"
        },
        "id": "56fd1eb5",
        "outputId": "8c03e7cb-75be-461b-9f57-1c72b0c2e850"
      },
      "outputs": [
        {
          "output_type": "stream",
          "name": "stdout",
          "text": [
            "Model: \"sequential_336\"\n",
            "_________________________________________________________________\n",
            " Layer (type)                Output Shape              Param #   \n",
            "=================================================================\n",
            " conv1d_361 (Conv1D)         (None, 46, 32)            128       \n",
            "                                                                 \n",
            " activation_48 (Activation)  (None, 46, 32)            0         \n",
            "                                                                 \n",
            " max_pooling1d_352 (MaxPooli  (None, 44, 32)           0         \n",
            " ng1D)                                                           \n",
            "                                                                 \n",
            " conv1d_362 (Conv1D)         (None, 42, 32)            3104      \n",
            "                                                                 \n",
            " activation_49 (Activation)  (None, 42, 32)            0         \n",
            "                                                                 \n",
            " max_pooling1d_353 (MaxPooli  (None, 40, 32)           0         \n",
            " ng1D)                                                           \n",
            "                                                                 \n",
            " conv1d_363 (Conv1D)         (None, 38, 64)            6208      \n",
            "                                                                 \n",
            " activation_50 (Activation)  (None, 38, 64)            0         \n",
            "                                                                 \n",
            " conv1d_364 (Conv1D)         (None, 36, 64)            12352     \n",
            "                                                                 \n",
            " activation_51 (Activation)  (None, 36, 64)            0         \n",
            "                                                                 \n",
            " max_pooling1d_354 (MaxPooli  (None, 17, 64)           0         \n",
            " ng1D)                                                           \n",
            "                                                                 \n",
            " conv1d_365 (Conv1D)         (None, 15, 128)           24704     \n",
            "                                                                 \n",
            " activation_52 (Activation)  (None, 15, 128)           0         \n",
            "                                                                 \n",
            " conv1d_366 (Conv1D)         (None, 13, 128)           49280     \n",
            "                                                                 \n",
            " activation_53 (Activation)  (None, 13, 128)           0         \n",
            "                                                                 \n",
            " max_pooling1d_355 (MaxPooli  (None, 6, 128)           0         \n",
            " ng1D)                                                           \n",
            "                                                                 \n",
            " flatten_336 (Flatten)       (None, 768)               0         \n",
            "                                                                 \n",
            " dense_346 (Dense)           (None, 512)               393728    \n",
            "                                                                 \n",
            " activation_54 (Activation)  (None, 512)               0         \n",
            "                                                                 \n",
            " dropout_10 (Dropout)        (None, 512)               0         \n",
            "                                                                 \n",
            " dense_347 (Dense)           (None, 256)               131328    \n",
            "                                                                 \n",
            " activation_55 (Activation)  (None, 256)               0         \n",
            "                                                                 \n",
            " dropout_11 (Dropout)        (None, 256)               0         \n",
            "                                                                 \n",
            " dense_348 (Dense)           (None, 1)                 257       \n",
            "                                                                 \n",
            " activation_56 (Activation)  (None, 1)                 0         \n",
            "                                                                 \n",
            "=================================================================\n",
            "Total params: 621,089\n",
            "Trainable params: 621,089\n",
            "Non-trainable params: 0\n",
            "_________________________________________________________________\n"
          ]
        }
      ],
      "source": [
        "from tensorflow.keras.models import Sequential\n",
        "from tensorflow.keras.layers import Conv1D, MaxPooling1D, Dense, Flatten, Dropout\n",
        "from keras.layers import Activation\n",
        "from tensorflow.keras.callbacks import EarlyStopping\n",
        "\n",
        "model = Sequential()\n",
        "\n",
        "# 1st Convolutional Layer\n",
        "model.add(Conv1D(filters=32, input_shape=(X_train.shape[1], 1), kernel_size=3, strides=1, padding='valid'))\n",
        "model.add(Activation('relu'))\n",
        "\n",
        "# Max Pooling\n",
        "model.add(MaxPooling1D(pool_size=3, strides=1, padding='valid'))\n",
        "\n",
        "# 2nd Convolutional Layer\n",
        "model.add(Conv1D(filters=32, kernel_size=3, strides=1, padding='valid'))\n",
        "model.add(Activation('relu'))\n",
        "\n",
        "# Max Pooling\n",
        "model.add(MaxPooling1D(pool_size=3, strides=1, padding='valid'))\n",
        "\n",
        "# 3rd Convolutional Layer\n",
        "model.add(Conv1D(filters=64, kernel_size=3, strides=1, padding='valid'))\n",
        "model.add(Activation('relu'))\n",
        "\n",
        "# 4th Convolutional Layer\n",
        "model.add(Conv1D(filters=64, kernel_size=3, strides=1, padding='valid'))\n",
        "model.add(Activation('relu'))\n",
        "\n",
        "# Max Pooling\n",
        "model.add(MaxPooling1D(pool_size=3, strides=2, padding='valid'))\n",
        "\n",
        "# 5th Convolutional Layer\n",
        "model.add(Conv1D(filters=128, kernel_size=3, strides=1, padding='valid'))\n",
        "model.add(Activation('relu'))\n",
        "\n",
        "# 6th Convolutional Layer\n",
        "model.add(Conv1D(filters=128, kernel_size=3, strides=1, padding='valid'))\n",
        "model.add(Activation('relu'))\n",
        "\n",
        "# Max Pooling\n",
        "model.add(MaxPooling1D(pool_size=3, strides=2, padding='valid'))\n",
        "\n",
        "# Fully Connected layer\n",
        "model.add(Flatten())\n",
        "\n",
        "# 1st Fully Connected Layer\n",
        "model.add(Dense(512))\n",
        "model.add(Activation('relu'))\n",
        "\n",
        "# Add Dropout to prevent overfitting\n",
        "model.add(Dropout(0.3))\n",
        "\n",
        "# 2nd Fully Connected Layer\n",
        "model.add(Dense(256))\n",
        "model.add(Activation('relu'))\n",
        "\n",
        "# Add Dropout to prevent overfitting\n",
        "model.add(Dropout(0.3))\n",
        "\n",
        "# Output Layer\n",
        "model.add(Dense(1))\n",
        "model.add(Activation('sigmoid'))\n",
        "\n",
        "model.compile(optimizer=\"adam\", loss=\"binary_crossentropy\", metrics=[\"accuracy\"])\n",
        "\n",
        "model.summary()"
      ]
    },
    {
      "cell_type": "code",
      "execution_count": 215,
      "id": "83a904dd",
      "metadata": {
        "id": "83a904dd"
      },
      "outputs": [],
      "source": [
        "batch_size = 32\n",
        "steps_per_epoch = (X_train.shape[0]//batch_size)\n",
        "validation_steps = (x_normalised.shape[0]// batch_size)\n",
        "\n",
        "es = EarlyStopping(monitor='accuracy', mode='min', verbose=1, patience=20)"
      ]
    },
    {
      "cell_type": "code",
      "execution_count": 216,
      "id": "7f6cd076",
      "metadata": {
        "colab": {
          "base_uri": "https://localhost:8080/"
        },
        "id": "7f6cd076",
        "outputId": "61d2d1f0-5447-4189-f795-40e58d563b5b"
      },
      "outputs": [
        {
          "output_type": "stream",
          "name": "stdout",
          "text": [
            "Epoch 1/35\n",
            "65/65 [==============================] - ETA: 0s - loss: nan - accuracy: 0.4918"
          ]
        },
        {
          "output_type": "stream",
          "name": "stderr",
          "text": [
            "WARNING:tensorflow:Your input ran out of data; interrupting training. Make sure that your dataset or generator can generate at least `steps_per_epoch * epochs` batches (in this case, 93 batches). You may need to use the repeat() function when building your dataset.\n"
          ]
        },
        {
          "output_type": "stream",
          "name": "stdout",
          "text": [
            "\b\b\b\b\b\b\b\b\b\b\b\b\b\b\b\b\b\b\b\b\b\b\b\b\b\b\b\b\b\b\b\b\b\b\b\b\b\b\b\b\b\b\b\b\b\b\b\b\b\b\b\b\b\b\b\b\b\b\b\b\b\b\b\b\b\b\b\b\b\b\b\b\b\b\b\b\b\b\b\r65/65 [==============================] - 4s 38ms/step - loss: nan - accuracy: 0.4918 - val_loss: nan - val_accuracy: 0.5211\n",
            "Epoch 2/35\n",
            "65/65 [==============================] - 2s 28ms/step - loss: nan - accuracy: 0.4927\n",
            "Epoch 3/35\n",
            "65/65 [==============================] - 3s 41ms/step - loss: nan - accuracy: 0.4903\n",
            "Epoch 4/35\n",
            "65/65 [==============================] - 3s 51ms/step - loss: nan - accuracy: 0.4869\n",
            "Epoch 5/35\n",
            "65/65 [==============================] - 2s 28ms/step - loss: nan - accuracy: 0.4961\n",
            "Epoch 6/35\n",
            "65/65 [==============================] - 2s 28ms/step - loss: nan - accuracy: 0.4807\n",
            "Epoch 7/35\n",
            "65/65 [==============================] - 2s 28ms/step - loss: nan - accuracy: 0.5015\n",
            "Epoch 8/35\n",
            "65/65 [==============================] - 2s 28ms/step - loss: nan - accuracy: 0.4903\n",
            "Epoch 9/35\n",
            "65/65 [==============================] - 3s 43ms/step - loss: nan - accuracy: 0.4850\n",
            "Epoch 10/35\n",
            "65/65 [==============================] - 2s 32ms/step - loss: nan - accuracy: 0.4874\n",
            "Epoch 11/35\n",
            "65/65 [==============================] - 2s 28ms/step - loss: nan - accuracy: 0.4947\n",
            "Epoch 12/35\n",
            "65/65 [==============================] - 2s 28ms/step - loss: nan - accuracy: 0.4903\n",
            "Epoch 13/35\n",
            "65/65 [==============================] - 2s 29ms/step - loss: nan - accuracy: 0.4874\n",
            "Epoch 14/35\n",
            "65/65 [==============================] - 2s 29ms/step - loss: nan - accuracy: 0.4947\n",
            "Epoch 15/35\n",
            "65/65 [==============================] - 2s 36ms/step - loss: nan - accuracy: 0.4927\n",
            "Epoch 16/35\n",
            "65/65 [==============================] - 3s 39ms/step - loss: nan - accuracy: 0.4894\n",
            "Epoch 17/35\n",
            "65/65 [==============================] - 2s 28ms/step - loss: nan - accuracy: 0.4947\n",
            "Epoch 18/35\n",
            "65/65 [==============================] - 2s 28ms/step - loss: nan - accuracy: 0.4879\n",
            "Epoch 19/35\n",
            "65/65 [==============================] - 2s 29ms/step - loss: nan - accuracy: 0.4913\n",
            "Epoch 20/35\n",
            "65/65 [==============================] - 2s 28ms/step - loss: nan - accuracy: 0.4913\n",
            "Epoch 21/35\n",
            "65/65 [==============================] - 2s 28ms/step - loss: nan - accuracy: 0.4903\n",
            "Epoch 22/35\n",
            "65/65 [==============================] - 3s 46ms/step - loss: nan - accuracy: 0.4850\n",
            "Epoch 23/35\n",
            "65/65 [==============================] - 2s 30ms/step - loss: nan - accuracy: 0.4961\n",
            "Epoch 24/35\n",
            "65/65 [==============================] - 2s 29ms/step - loss: nan - accuracy: 0.4889\n",
            "Epoch 25/35\n",
            "65/65 [==============================] - 2s 29ms/step - loss: nan - accuracy: 0.4956\n",
            "Epoch 26/35\n",
            "65/65 [==============================] - 2s 28ms/step - loss: nan - accuracy: 0.4826\n",
            "Epoch 26: early stopping\n",
            "CPU times: user 1min 16s, sys: 2.47 s, total: 1min 19s\n",
            "Wall time: 56.8 s\n"
          ]
        },
        {
          "output_type": "execute_result",
          "data": {
            "text/plain": [
              "<keras.callbacks.History at 0x7fd1a5611b80>"
            ]
          },
          "metadata": {},
          "execution_count": 216
        }
      ],
      "source": [
        "%%time\n",
        "\n",
        "# Entrenar el modelo\n",
        "model.fit(X_train, y_train,\n",
        "    steps_per_epoch=steps_per_epoch,\n",
        "    epochs = 35,\n",
        "    validation_data=(X_test, y_test),\n",
        "    validation_steps=validation_steps,\n",
        "    batch_size = batch_size,\n",
        "    callbacks=[es],\n",
        "    verbose=1)"
      ]
    },
    {
      "cell_type": "code",
      "execution_count": 217,
      "id": "31c5fd47",
      "metadata": {
        "colab": {
          "base_uri": "https://localhost:8080/"
        },
        "id": "31c5fd47",
        "outputId": "620bb3b1-dda0-4108-9c4c-7c262de638d2"
      },
      "outputs": [
        {
          "output_type": "stream",
          "name": "stdout",
          "text": [
            "29/29 [==============================] - 0s 8ms/step - loss: nan - accuracy: 0.5211\n",
            "test_loss: nan\n",
            "test_accuracy: 52.11\n"
          ]
        }
      ],
      "source": [
        "loss, accuracy = model.evaluate(X_test,y_test,batch_size=batch_size)\n",
        "print('test_loss: %.2f' % (loss * 100.0))  \n",
        "print('test_accuracy: %.2f' % (accuracy * 100.0))"
      ]
    },
    {
      "cell_type": "code",
      "execution_count": 218,
      "id": "dd3f9656",
      "metadata": {
        "colab": {
          "base_uri": "https://localhost:8080/"
        },
        "id": "dd3f9656",
        "outputId": "0a79b2d8-45d3-4e74-b054-c18e7408971b"
      },
      "outputs": [
        {
          "output_type": "stream",
          "name": "stdout",
          "text": [
            "Accuracy: 52.11\n",
            "F1 score: 35.71\n",
            "Precision: 27.16\n",
            "Recall: 52.11\n"
          ]
        },
        {
          "output_type": "stream",
          "name": "stderr",
          "text": [
            "/usr/local/lib/python3.9/dist-packages/sklearn/metrics/_classification.py:1344: UndefinedMetricWarning: Precision is ill-defined and being set to 0.0 in labels with no predicted samples. Use `zero_division` parameter to control this behavior.\n",
            "  _warn_prf(average, modifier, msg_start, len(result))\n"
          ]
        }
      ],
      "source": [
        "from sklearn.metrics import accuracy_score, precision_score, recall_score, f1_score\n",
        "model_probs = model.predict(X_test,batch_size=batch_size,verbose=0)\n",
        "# predict crisp classes for test set\n",
        "model_classes = np.argmax(model_probs,axis=1)\n",
        "# reduce to 1d array\n",
        "model_probs = model_probs[:, 0]\n",
        " \n",
        "# accuracy: (tp + tn) / (p + n)\n",
        "accuracy = accuracy_score(y_test, model_classes)*100\n",
        "# precision tp / (tp + fp)\n",
        "precision = precision_score(y_test, model_classes, average='weighted')*100\n",
        "# recall: tp / (tp + fn)\n",
        "recall = recall_score(y_test, model_classes, average='weighted')*100\n",
        "# f1: 2 tp / (2 tp + fp + fn)\n",
        "f1 = f1_score(y_test, model_classes, average='weighted')*100\n",
        "\n",
        "print('Accuracy: %.2f' % accuracy)\n",
        "print('F1 score: %.2f' % f1)\n",
        "print('Precision: %.2f' % precision)\n",
        "print('Recall: %.2f' % recall)"
      ]
    },
    {
      "cell_type": "markdown",
      "id": "f488e0dd",
      "metadata": {
        "id": "f488e0dd"
      },
      "source": [
        "# Gráfico Roc Curve"
      ]
    },
    {
      "cell_type": "code",
      "execution_count": 219,
      "id": "9d6929d6",
      "metadata": {
        "colab": {
          "base_uri": "https://localhost:8080/",
          "height": 465
        },
        "id": "9d6929d6",
        "outputId": "5cb66145-023d-4a59-8350-75a20c694ee9"
      },
      "outputs": [
        {
          "output_type": "stream",
          "name": "stdout",
          "text": [
            "29/29 [==============================] - 0s 7ms/step\n"
          ]
        },
        {
          "output_type": "execute_result",
          "data": {
            "text/plain": [
              "<matplotlib.legend.Legend at 0x7fd1cd1f3af0>"
            ]
          },
          "metadata": {},
          "execution_count": 219
        },
        {
          "output_type": "display_data",
          "data": {
            "text/plain": [
              "<Figure size 640x480 with 1 Axes>"
            ],
            "image/png": "[encoded data removed]"
          },
          "metadata": {}
        }
      ],
      "source": [
        "import matplotlib.pyplot as plt\n",
        "from sklearn import metrics\n",
        "y_pred = model.predict(X_test)\n",
        "y_pred = (y_pred > 0.5).astype(int)\n",
        "fpr, tpr, _ = metrics.roc_curve(y_test, y_pred)\n",
        "accuracy = metrics.accuracy_score(y_test, y_pred)\n",
        "CNN = \"Accuracy = {:.2f}\".format(accuracy*100)\n",
        "plt.plot(fpr, tpr, label=\"CNN, AUC=\" + str(CNN))\n",
        "plt.legend()"
      ]
    }
  ],
  "metadata": {
    "kernelspec": {
      "display_name": "Python 3 (ipykernel)",
      "language": "python",
      "name": "python3"
    },
    "language_info": {
      "codemirror_mode": {
        "name": "ipython",
        "version": 3
      },
      "file_extension": ".py",
      "mimetype": "text/x-python",
      "name": "python",
      "nbconvert_exporter": "python",
      "pygments_lexer": "ipython3",
      "version": "3.9.13"
    },
    "colab": {
      "provenance": [],
      "include_colab_link": true
    }
  },
  "nbformat": 4,
  "nbformat_minor": 5
}