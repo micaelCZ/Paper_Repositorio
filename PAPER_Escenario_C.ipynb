{
 "cells": [
  {
   "cell_type": "markdown",
   "metadata": {
    "id": "8ilGSgySNfGr"
   },
   "source": [
    "# Escenario C\n",
    "\n",
    "https://raw.githubusercontent.com/micaelCZ/Paper_Repositorio/main/dataset/datasetPreprocesado/Escenario3.csv"
   ]
  },
  {
   "cell_type": "code",
   "execution_count": 26,
   "metadata": {
    "id": "Z4Ixrpq1NPqY"
   },
   "outputs": [],
   "source": [
    "import pandas as pd\n",
    "import numpy as np\n",
    "from sklearn.preprocessing import LabelEncoder, StandardScaler\n",
    "import tensorflow as tf\n",
    "from sklearn.preprocessing import StandardScaler\n",
    "from sklearn.model_selection import train_test_split"
   ]
  },
  {
   "cell_type": "code",
   "execution_count": 27,
   "metadata": {
    "id": "zQO3fdJjNmCz"
   },
   "outputs": [],
   "source": [
    "datapath = 'https://raw.githubusercontent.com/micaelCZ/Paper_Repositorio/main/dataset/datasetPreprocesado/Escenario3.csv'\n",
    "names = ['srcip', 'sport', 'dstip', 'dsport', 'proto', 'state', 'dur', 'sbytes', 'dbytes', 'sttl', 'dttl', 'sloss', 'dloss', 'service', 'Sload', 'Dload', 'Spkts', 'Dpkts', 'swin', 'dwin', 'stcpb', 'dtcpb', 'smeansz', 'dmeansz', 'trans_depth', 'res_bdy_len', 'Sjit', 'Djit', 'Stime', 'Ltime', 'Sintpkt', 'Dintpkt', 'tcprtt', 'synack', 'ackdat', 'is_sm_ips_ports', 'ct_state_ttl', 'ct_flw_http_mthd', 'is_ftp_login', 'ct_ftp_cmd', 'ct_srv_src', 'ct_srv_dst', 'ct_dst_ltm', 'ct_src_ltm', 'ct_src_dport_ltm', 'ct_dst_sport_ltm', 'ct_dst_src_ltm', 'attack_cat', 'label']\n",
    "dataframe = pd.read_csv(datapath,names=names,low_memory=False, sep=';')"
   ]
  },
  {
   "cell_type": "code",
   "execution_count": 28,
   "metadata": {
    "colab": {
     "base_uri": "https://localhost:8080/",
     "height": 393
    },
    "id": "8Sq6LYMUN4bS",
    "outputId": "da4391b5-f901-4810-f7fd-e8dec13a3ec5"
   },
   "outputs": [
    {
     "data": {
      "text/html": [
       "<div>\n",
       "<style scoped>\n",
       "    .dataframe tbody tr th:only-of-type {\n",
       "        vertical-align: middle;\n",
       "    }\n",
       "\n",
       "    .dataframe tbody tr th {\n",
       "        vertical-align: top;\n",
       "    }\n",
       "\n",
       "    .dataframe thead th {\n",
       "        text-align: right;\n",
       "    }\n",
       "</style>\n",
       "<table border=\"1\" class=\"dataframe\">\n",
       "  <thead>\n",
       "    <tr style=\"text-align: right;\">\n",
       "      <th></th>\n",
       "      <th>srcip</th>\n",
       "      <th>sport</th>\n",
       "      <th>dstip</th>\n",
       "      <th>dsport</th>\n",
       "      <th>proto</th>\n",
       "      <th>state</th>\n",
       "      <th>dur</th>\n",
       "      <th>sbytes</th>\n",
       "      <th>dbytes</th>\n",
       "      <th>sttl</th>\n",
       "      <th>...</th>\n",
       "      <th>ct_ftp_cmd</th>\n",
       "      <th>ct_srv_src</th>\n",
       "      <th>ct_srv_dst</th>\n",
       "      <th>ct_dst_ltm</th>\n",
       "      <th>ct_src_ltm</th>\n",
       "      <th>ct_src_dport_ltm</th>\n",
       "      <th>ct_dst_sport_ltm</th>\n",
       "      <th>ct_dst_src_ltm</th>\n",
       "      <th>attack_cat</th>\n",
       "      <th>label</th>\n",
       "    </tr>\n",
       "  </thead>\n",
       "  <tbody>\n",
       "    <tr>\n",
       "      <th>0</th>\n",
       "      <td>59.166.0.9</td>\n",
       "      <td>7045</td>\n",
       "      <td>149.171.126.7</td>\n",
       "      <td>25</td>\n",
       "      <td>tcp</td>\n",
       "      <td>FIN</td>\n",
       "      <td>0.201886</td>\n",
       "      <td>37552</td>\n",
       "      <td>3380</td>\n",
       "      <td>31</td>\n",
       "      <td>...</td>\n",
       "      <td></td>\n",
       "      <td>2</td>\n",
       "      <td>2</td>\n",
       "      <td>7</td>\n",
       "      <td>4</td>\n",
       "      <td>1</td>\n",
       "      <td>1</td>\n",
       "      <td>3</td>\n",
       "      <td>NaN</td>\n",
       "      <td>0</td>\n",
       "    </tr>\n",
       "    <tr>\n",
       "      <th>1</th>\n",
       "      <td>59.166.0.9</td>\n",
       "      <td>9685</td>\n",
       "      <td>149.171.126.2</td>\n",
       "      <td>80</td>\n",
       "      <td>tcp</td>\n",
       "      <td>FIN</td>\n",
       "      <td>5.864.748</td>\n",
       "      <td>19410</td>\n",
       "      <td>1087890</td>\n",
       "      <td>31</td>\n",
       "      <td>...</td>\n",
       "      <td></td>\n",
       "      <td>3</td>\n",
       "      <td>1</td>\n",
       "      <td>4</td>\n",
       "      <td>4</td>\n",
       "      <td>1</td>\n",
       "      <td>1</td>\n",
       "      <td>1</td>\n",
       "      <td>NaN</td>\n",
       "      <td>0</td>\n",
       "    </tr>\n",
       "    <tr>\n",
       "      <th>2</th>\n",
       "      <td>59.166.0.2</td>\n",
       "      <td>1421</td>\n",
       "      <td>149.171.126.4</td>\n",
       "      <td>53</td>\n",
       "      <td>udp</td>\n",
       "      <td>CON</td>\n",
       "      <td>0.001391</td>\n",
       "      <td>146</td>\n",
       "      <td>178</td>\n",
       "      <td>31</td>\n",
       "      <td>...</td>\n",
       "      <td></td>\n",
       "      <td>3</td>\n",
       "      <td>5</td>\n",
       "      <td>2</td>\n",
       "      <td>7</td>\n",
       "      <td>1</td>\n",
       "      <td>1</td>\n",
       "      <td>4</td>\n",
       "      <td>NaN</td>\n",
       "      <td>0</td>\n",
       "    </tr>\n",
       "    <tr>\n",
       "      <th>3</th>\n",
       "      <td>59.166.0.2</td>\n",
       "      <td>21553</td>\n",
       "      <td>149.171.126.2</td>\n",
       "      <td>25</td>\n",
       "      <td>tcp</td>\n",
       "      <td>FIN</td>\n",
       "      <td>0.053948</td>\n",
       "      <td>37812</td>\n",
       "      <td>3380</td>\n",
       "      <td>31</td>\n",
       "      <td>...</td>\n",
       "      <td></td>\n",
       "      <td>1</td>\n",
       "      <td>1</td>\n",
       "      <td>4</td>\n",
       "      <td>7</td>\n",
       "      <td>1</td>\n",
       "      <td>1</td>\n",
       "      <td>3</td>\n",
       "      <td>NaN</td>\n",
       "      <td>0</td>\n",
       "    </tr>\n",
       "    <tr>\n",
       "      <th>4</th>\n",
       "      <td>59.166.0.8</td>\n",
       "      <td>45212</td>\n",
       "      <td>149.171.126.4</td>\n",
       "      <td>53</td>\n",
       "      <td>udp</td>\n",
       "      <td>CON</td>\n",
       "      <td>0.000953</td>\n",
       "      <td>146</td>\n",
       "      <td>178</td>\n",
       "      <td>31</td>\n",
       "      <td>...</td>\n",
       "      <td></td>\n",
       "      <td>2</td>\n",
       "      <td>5</td>\n",
       "      <td>2</td>\n",
       "      <td>1</td>\n",
       "      <td>1</td>\n",
       "      <td>1</td>\n",
       "      <td>2</td>\n",
       "      <td>NaN</td>\n",
       "      <td>0</td>\n",
       "    </tr>\n",
       "  </tbody>\n",
       "</table>\n",
       "<p>5 rows × 49 columns</p>\n",
       "</div>"
      ],
      "text/plain": [
       "        srcip  sport          dstip dsport proto state        dur  sbytes  \\\n",
       "0  59.166.0.9   7045  149.171.126.7     25   tcp   FIN   0.201886   37552   \n",
       "1  59.166.0.9   9685  149.171.126.2     80   tcp   FIN  5.864.748   19410   \n",
       "2  59.166.0.2   1421  149.171.126.4     53   udp   CON   0.001391     146   \n",
       "3  59.166.0.2  21553  149.171.126.2     25   tcp   FIN   0.053948   37812   \n",
       "4  59.166.0.8  45212  149.171.126.4     53   udp   CON   0.000953     146   \n",
       "\n",
       "    dbytes  sttl  ...  ct_ftp_cmd  ct_srv_src  ct_srv_dst ct_dst_ltm  \\\n",
       "0     3380    31  ...                       2           2          7   \n",
       "1  1087890    31  ...                       3           1          4   \n",
       "2      178    31  ...                       3           5          2   \n",
       "3     3380    31  ...                       1           1          4   \n",
       "4      178    31  ...                       2           5          2   \n",
       "\n",
       "  ct_src_ltm ct_src_dport_ltm  ct_dst_sport_ltm  ct_dst_src_ltm  attack_cat  \\\n",
       "0          4                1                 1               3         NaN   \n",
       "1          4                1                 1               1         NaN   \n",
       "2          7                1                 1               4         NaN   \n",
       "3          7                1                 1               3         NaN   \n",
       "4          1                1                 1               2         NaN   \n",
       "\n",
       "   label  \n",
       "0      0  \n",
       "1      0  \n",
       "2      0  \n",
       "3      0  \n",
       "4      0  \n",
       "\n",
       "[5 rows x 49 columns]"
      ]
     },
     "execution_count": 28,
     "metadata": {},
     "output_type": "execute_result"
    }
   ],
   "source": [
    "dataframe.head()"
   ]
  },
  {
   "cell_type": "code",
   "execution_count": 29,
   "metadata": {},
   "outputs": [
    {
     "name": "stdout",
     "output_type": "stream",
     "text": [
      "<class 'pandas.core.frame.DataFrame'>\n",
      "RangeIndex: 3000 entries, 0 to 2999\n",
      "Data columns (total 49 columns):\n",
      " #   Column            Non-Null Count  Dtype  \n",
      "---  ------            --------------  -----  \n",
      " 0   srcip             3000 non-null   object \n",
      " 1   sport             3000 non-null   int64  \n",
      " 2   dstip             3000 non-null   object \n",
      " 3   dsport            3000 non-null   object \n",
      " 4   proto             3000 non-null   object \n",
      " 5   state             3000 non-null   object \n",
      " 6   dur               3000 non-null   object \n",
      " 7   sbytes            3000 non-null   int64  \n",
      " 8   dbytes            3000 non-null   int64  \n",
      " 9   sttl              3000 non-null   int64  \n",
      " 10  dttl              3000 non-null   int64  \n",
      " 11  sloss             3000 non-null   int64  \n",
      " 12  dloss             3000 non-null   int64  \n",
      " 13  service           3000 non-null   object \n",
      " 14  Sload             3000 non-null   object \n",
      " 15  Dload             3000 non-null   object \n",
      " 16  Spkts             3000 non-null   int64  \n",
      " 17  Dpkts             3000 non-null   int64  \n",
      " 18  swin              3000 non-null   int64  \n",
      " 19  dwin              3000 non-null   int64  \n",
      " 20  stcpb             3000 non-null   int64  \n",
      " 21  dtcpb             3000 non-null   int64  \n",
      " 22  smeansz           3000 non-null   int64  \n",
      " 23  dmeansz           3000 non-null   int64  \n",
      " 24  trans_depth       3000 non-null   int64  \n",
      " 25  res_bdy_len       3000 non-null   int64  \n",
      " 26  Sjit              3000 non-null   object \n",
      " 27  Djit              3000 non-null   object \n",
      " 28  Stime             3000 non-null   int64  \n",
      " 29  Ltime             3000 non-null   int64  \n",
      " 30  Sintpkt           3000 non-null   object \n",
      " 31  Dintpkt           3000 non-null   object \n",
      " 32  tcprtt            3000 non-null   float64\n",
      " 33  synack            3000 non-null   float64\n",
      " 34  ackdat            3000 non-null   float64\n",
      " 35  is_sm_ips_ports   3000 non-null   int64  \n",
      " 36  ct_state_ttl      3000 non-null   int64  \n",
      " 37  ct_flw_http_mthd  621 non-null    float64\n",
      " 38  is_ftp_login      82 non-null     float64\n",
      " 39  ct_ftp_cmd        3000 non-null   object \n",
      " 40  ct_srv_src        3000 non-null   int64  \n",
      " 41  ct_srv_dst        3000 non-null   int64  \n",
      " 42  ct_dst_ltm        3000 non-null   int64  \n",
      " 43  ct_src_ltm        3000 non-null   int64  \n",
      " 44  ct_src_dport_ltm  3000 non-null   int64  \n",
      " 45  ct_dst_sport_ltm  3000 non-null   int64  \n",
      " 46  ct_dst_src_ltm    3000 non-null   int64  \n",
      " 47  attack_cat        1500 non-null   object \n",
      " 48  label             3000 non-null   int64  \n",
      "dtypes: float64(5), int64(29), object(15)\n",
      "memory usage: 1.1+ MB\n"
     ]
    }
   ],
   "source": [
    "dataframe.info()"
   ]
  },
  {
   "cell_type": "markdown",
   "metadata": {
    "id": "XqC-YF4BOFui"
   },
   "source": [
    "# NORMALIZE"
   ]
  },
  {
   "cell_type": "code",
   "execution_count": 30,
   "metadata": {
    "id": "BMAWYmz0N4iq"
   },
   "outputs": [],
   "source": [
    "columna_a_codificar = dataframe['srcip']\n",
    "le = LabelEncoder()\n",
    "columna_codificada = le.fit_transform(columna_a_codificar)\n",
    "dataframe['srcip'] = columna_codificada"
   ]
  },
  {
   "cell_type": "code",
   "execution_count": 31,
   "metadata": {
    "id": "VLiwOKCTOIcc"
   },
   "outputs": [],
   "source": [
    "columna_a_codificar = dataframe['dstip']\n",
    "le = LabelEncoder()\n",
    "columna_codificada = le.fit_transform(columna_a_codificar)\n",
    "dataframe['dstip'] = columna_codificada"
   ]
  },
  {
   "cell_type": "code",
   "execution_count": 32,
   "metadata": {
    "id": "QuG1d1KFOIfS"
   },
   "outputs": [],
   "source": [
    "columna_a_codificar = dataframe['dsport']\n",
    "le = LabelEncoder()\n",
    "columna_codificada = le.fit_transform(columna_a_codificar)\n",
    "dataframe['dsport'] = columna_codificada"
   ]
  },
  {
   "cell_type": "code",
   "execution_count": 33,
   "metadata": {
    "id": "-eiysixVOSh6"
   },
   "outputs": [],
   "source": [
    "columna_a_codificar = dataframe['proto']\n",
    "le = LabelEncoder()\n",
    "columna_codificada = le.fit_transform(columna_a_codificar)\n",
    "dataframe['proto'] = columna_codificada"
   ]
  },
  {
   "cell_type": "code",
   "execution_count": 34,
   "metadata": {
    "id": "RaL-KtgaOSkS"
   },
   "outputs": [],
   "source": [
    "columna_a_codificar = dataframe['state']\n",
    "le = LabelEncoder()\n",
    "columna_codificada = le.fit_transform(columna_a_codificar)\n",
    "dataframe['state'] = columna_codificada"
   ]
  },
  {
   "cell_type": "code",
   "execution_count": 35,
   "metadata": {
    "id": "7hjv7CLXOSmN"
   },
   "outputs": [],
   "source": [
    "columna_a_codificar = dataframe['dur']\n",
    "le = LabelEncoder()\n",
    "columna_codificada = le.fit_transform(columna_a_codificar)\n",
    "dataframe['dur'] = columna_codificada"
   ]
  },
  {
   "cell_type": "code",
   "execution_count": 36,
   "metadata": {
    "id": "04MAQj5hOSob"
   },
   "outputs": [],
   "source": [
    "columna_a_codificar = dataframe['service']\n",
    "le = LabelEncoder()\n",
    "columna_codificada = le.fit_transform(columna_a_codificar)\n",
    "dataframe['service'] = columna_codificada"
   ]
  },
  {
   "cell_type": "code",
   "execution_count": 37,
   "metadata": {
    "id": "cRp1GWhwOSqz"
   },
   "outputs": [],
   "source": [
    "columna_a_codificar = dataframe['Sload']\n",
    "le = LabelEncoder()\n",
    "columna_codificada = le.fit_transform(columna_a_codificar)\n",
    "dataframe['Sload'] = columna_codificada"
   ]
  },
  {
   "cell_type": "code",
   "execution_count": 38,
   "metadata": {
    "id": "uxLbAYn-OSs7"
   },
   "outputs": [],
   "source": [
    "columna_a_codificar = dataframe['Dload']\n",
    "le = LabelEncoder()\n",
    "columna_codificada = le.fit_transform(columna_a_codificar)\n",
    "dataframe['Dload'] = columna_codificada"
   ]
  },
  {
   "cell_type": "code",
   "execution_count": 39,
   "metadata": {
    "id": "PxzDVfEwOSvM"
   },
   "outputs": [],
   "source": [
    "columna_a_codificar = dataframe['Sjit']\n",
    "le = LabelEncoder()\n",
    "columna_codificada = le.fit_transform(columna_a_codificar)\n",
    "dataframe['Sjit'] = columna_codificada"
   ]
  },
  {
   "cell_type": "code",
   "execution_count": 40,
   "metadata": {
    "id": "eI4dhwYmOSxz"
   },
   "outputs": [],
   "source": [
    "columna_a_codificar = dataframe['Djit']\n",
    "le = LabelEncoder()\n",
    "columna_codificada = le.fit_transform(columna_a_codificar)\n",
    "dataframe['Djit'] = columna_codificada"
   ]
  },
  {
   "cell_type": "code",
   "execution_count": 41,
   "metadata": {
    "id": "7lZiKWpAObID"
   },
   "outputs": [],
   "source": [
    "columna_a_codificar = dataframe['Sintpkt']\n",
    "le = LabelEncoder()\n",
    "columna_codificada = le.fit_transform(columna_a_codificar)\n",
    "dataframe['Sintpkt'] = columna_codificada"
   ]
  },
  {
   "cell_type": "code",
   "execution_count": 42,
   "metadata": {
    "id": "6RE06TE4ObKa"
   },
   "outputs": [],
   "source": [
    "columna_a_codificar = dataframe['Dintpkt']\n",
    "le = LabelEncoder()\n",
    "columna_codificada = le.fit_transform(columna_a_codificar)\n",
    "dataframe['Dintpkt'] = columna_codificada"
   ]
  },
  {
   "cell_type": "code",
   "execution_count": 43,
   "metadata": {
    "id": "bGopqbEyObNT"
   },
   "outputs": [],
   "source": [
    "columna_a_codificar = dataframe['ct_ftp_cmd']\n",
    "le = LabelEncoder()\n",
    "columna_codificada = le.fit_transform(columna_a_codificar)\n",
    "dataframe['ct_ftp_cmd'] = columna_codificada"
   ]
  },
  {
   "cell_type": "code",
   "execution_count": 44,
   "metadata": {
    "id": "QH4A3kpVObP8"
   },
   "outputs": [],
   "source": [
    "columna_a_codificar = dataframe['attack_cat']\n",
    "le = LabelEncoder()\n",
    "columna_codificada = le.fit_transform(columna_a_codificar)\n",
    "dataframe['attack_cat'] = columna_codificada"
   ]
  },
  {
   "cell_type": "markdown",
   "metadata": {
    "id": "H90ushb5PoAE"
   },
   "source": [
    "# Caracteristicas"
   ]
  },
  {
   "cell_type": "code",
   "execution_count": 45,
   "metadata": {
    "id": "zkfzVsRTPsn7"
   },
   "outputs": [],
   "source": [
    "X = dataframe.iloc[:, :-1].values\n",
    "scaler = StandardScaler()\n",
    "x_normalised = scaler.fit_transform(X)\n",
    "y = dataframe['label']"
   ]
  },
  {
   "cell_type": "code",
   "execution_count": 46,
   "metadata": {
    "id": "IIT7iRfIPuhM"
   },
   "outputs": [],
   "source": [
    "X_train, X_test, y_train, y_test = train_test_split(x_normalised,\n",
    "                                            y, test_size=0.3, random_state=42)"
   ]
  },
  {
   "cell_type": "code",
   "execution_count": 47,
   "metadata": {},
   "outputs": [],
   "source": [
    "from sklearn.impute import SimpleImputer\n",
    "\n",
    "imputer = SimpleImputer(strategy='median')\n",
    "X_train_imputed = imputer.fit_transform(X_train)\n",
    "X_test_imputed = imputer.transform(X_test)"
   ]
  },
  {
   "cell_type": "code",
   "execution_count": 48,
   "metadata": {},
   "outputs": [],
   "source": [
    "#Escalar los datos utilizando StandardScaler.\n",
    "from sklearn.preprocessing import StandardScaler\n",
    "scaler = StandardScaler()\n",
    "X_train_scaled = scaler.fit_transform(X_train_imputed)\n",
    "X_test_scaled = scaler.transform(X_test_imputed)"
   ]
  },
  {
   "cell_type": "code",
   "execution_count": 51,
   "metadata": {},
   "outputs": [
    {
     "data": {
      "text/html": [
       "<style>#sk-container-id-3 {color: black;background-color: white;}#sk-container-id-3 pre{padding: 0;}#sk-container-id-3 div.sk-toggleable {background-color: white;}#sk-container-id-3 label.sk-toggleable__label {cursor: pointer;display: block;width: 100%;margin-bottom: 0;padding: 0.3em;box-sizing: border-box;text-align: center;}#sk-container-id-3 label.sk-toggleable__label-arrow:before {content: \"▸\";float: left;margin-right: 0.25em;color: #696969;}#sk-container-id-3 label.sk-toggleable__label-arrow:hover:before {color: black;}#sk-container-id-3 div.sk-estimator:hover label.sk-toggleable__label-arrow:before {color: black;}#sk-container-id-3 div.sk-toggleable__content {max-height: 0;max-width: 0;overflow: hidden;text-align: left;background-color: #f0f8ff;}#sk-container-id-3 div.sk-toggleable__content pre {margin: 0.2em;color: black;border-radius: 0.25em;background-color: #f0f8ff;}#sk-container-id-3 input.sk-toggleable__control:checked~div.sk-toggleable__content {max-height: 200px;max-width: 100%;overflow: auto;}#sk-container-id-3 input.sk-toggleable__control:checked~label.sk-toggleable__label-arrow:before {content: \"▾\";}#sk-container-id-3 div.sk-estimator input.sk-toggleable__control:checked~label.sk-toggleable__label {background-color: #d4ebff;}#sk-container-id-3 div.sk-label input.sk-toggleable__control:checked~label.sk-toggleable__label {background-color: #d4ebff;}#sk-container-id-3 input.sk-hidden--visually {border: 0;clip: rect(1px 1px 1px 1px);clip: rect(1px, 1px, 1px, 1px);height: 1px;margin: -1px;overflow: hidden;padding: 0;position: absolute;width: 1px;}#sk-container-id-3 div.sk-estimator {font-family: monospace;background-color: #f0f8ff;border: 1px dotted black;border-radius: 0.25em;box-sizing: border-box;margin-bottom: 0.5em;}#sk-container-id-3 div.sk-estimator:hover {background-color: #d4ebff;}#sk-container-id-3 div.sk-parallel-item::after {content: \"\";width: 100%;border-bottom: 1px solid gray;flex-grow: 1;}#sk-container-id-3 div.sk-label:hover label.sk-toggleable__label {background-color: #d4ebff;}#sk-container-id-3 div.sk-serial::before {content: \"\";position: absolute;border-left: 1px solid gray;box-sizing: border-box;top: 0;bottom: 0;left: 50%;z-index: 0;}#sk-container-id-3 div.sk-serial {display: flex;flex-direction: column;align-items: center;background-color: white;padding-right: 0.2em;padding-left: 0.2em;position: relative;}#sk-container-id-3 div.sk-item {position: relative;z-index: 1;}#sk-container-id-3 div.sk-parallel {display: flex;align-items: stretch;justify-content: center;background-color: white;position: relative;}#sk-container-id-3 div.sk-item::before, #sk-container-id-3 div.sk-parallel-item::before {content: \"\";position: absolute;border-left: 1px solid gray;box-sizing: border-box;top: 0;bottom: 0;left: 50%;z-index: -1;}#sk-container-id-3 div.sk-parallel-item {display: flex;flex-direction: column;z-index: 1;position: relative;background-color: white;}#sk-container-id-3 div.sk-parallel-item:first-child::after {align-self: flex-end;width: 50%;}#sk-container-id-3 div.sk-parallel-item:last-child::after {align-self: flex-start;width: 50%;}#sk-container-id-3 div.sk-parallel-item:only-child::after {width: 0;}#sk-container-id-3 div.sk-dashed-wrapped {border: 1px dashed gray;margin: 0 0.4em 0.5em 0.4em;box-sizing: border-box;padding-bottom: 0.4em;background-color: white;}#sk-container-id-3 div.sk-label label {font-family: monospace;font-weight: bold;display: inline-block;line-height: 1.2em;}#sk-container-id-3 div.sk-label-container {text-align: center;}#sk-container-id-3 div.sk-container {/* jupyter's `normalize.less` sets `[hidden] { display: none; }` but bootstrap.min.css set `[hidden] { display: none !important; }` so we also need the `!important` here to be able to override the default hidden behavior on the sphinx rendered scikit-learn.org. See: https://github.com/scikit-learn/scikit-learn/issues/21755 */display: inline-block !important;position: relative;}#sk-container-id-3 div.sk-text-repr-fallback {display: none;}</style><div id=\"sk-container-id-3\" class=\"sk-top-container\"><div class=\"sk-text-repr-fallback\"><pre>SVC(coef0=6, gamma=&#x27;auto&#x27;, kernel=&#x27;sigmoid&#x27;, random_state=42)</pre><b>In a Jupyter environment, please rerun this cell to show the HTML representation or trust the notebook. <br />On GitHub, the HTML representation is unable to render, please try loading this page with nbviewer.org.</b></div><div class=\"sk-container\" hidden><div class=\"sk-item\"><div class=\"sk-estimator sk-toggleable\"><input class=\"sk-toggleable__control sk-hidden--visually\" id=\"sk-estimator-id-3\" type=\"checkbox\" checked><label for=\"sk-estimator-id-3\" class=\"sk-toggleable__label sk-toggleable__label-arrow\">SVC</label><div class=\"sk-toggleable__content\"><pre>SVC(coef0=6, gamma=&#x27;auto&#x27;, kernel=&#x27;sigmoid&#x27;, random_state=42)</pre></div></div></div></div></div>"
      ],
      "text/plain": [
       "SVC(coef0=6, gamma='auto', kernel='sigmoid', random_state=42)"
      ]
     },
     "execution_count": 51,
     "metadata": {},
     "output_type": "execute_result"
    }
   ],
   "source": [
    "#Entrenar un modelo SVM utilizando SVC de sklearn.\n",
    "from sklearn.svm import SVC\n",
    "svm = SVC(kernel='sigmoid', gamma='auto', coef0=6, C=1.0, random_state=42)\n",
    "svm.fit(X_train_scaled, y_train)"
   ]
  },
  {
   "cell_type": "code",
   "execution_count": 52,
   "metadata": {},
   "outputs": [
    {
     "name": "stdout",
     "output_type": "stream",
     "text": [
      "Precision: 47.77777777777778\n",
      "Recall: 47.77777777777778\n",
      "F1-score: 47.77777777777778\n"
     ]
    }
   ],
   "source": [
    "#Evaluar el modelo utilizando las métricas de precisión, recall y f1-score.\n",
    "from sklearn.metrics import precision_recall_fscore_support\n",
    "\n",
    "y_pred = svm.predict(X_test_scaled)\n",
    "precision, recall, f1_score, _ = precision_recall_fscore_support(y_test, y_pred, average='micro')\n",
    "print('Precision:', precision*100)\n",
    "print('Recall:', recall*100)\n",
    "print('F1-score:', f1_score*100)"
   ]
  },
  {
   "cell_type": "code",
   "execution_count": null,
   "metadata": {},
   "outputs": [],
   "source": []
  }
 ],
 "metadata": {
  "colab": {
   "provenance": []
  },
  "kernelspec": {
   "display_name": "Python 3 (ipykernel)",
   "language": "python",
   "name": "python3"
  },
  "language_info": {
   "codemirror_mode": {
    "name": "ipython",
    "version": 3
   },
   "file_extension": ".py",
   "mimetype": "text/x-python",
   "name": "python",
   "nbconvert_exporter": "python",
   "pygments_lexer": "ipython3",
   "version": "3.9.13"
  }
 },
 "nbformat": 4,
 "nbformat_minor": 1
}
