{
  "nbformat": 4,
  "nbformat_minor": 0,
  "metadata": {
    "colab": {
      "provenance": []
    },
    "kernelspec": {
      "name": "python3",
      "display_name": "Python 3"
    },
    "language_info": {
      "name": "python"
    }
  },
  "cells": [
    {
      "cell_type": "code",
      "execution_count": 1,
      "metadata": {
        "colab": {
          "base_uri": "https://localhost:8080/"
        },
        "id": "w7yLPkaRInL_",
        "outputId": "8090dbaf-3c17-4d93-d2e4-d23f8cad4a93"
      },
      "outputs": [
        {
          "output_type": "stream",
          "name": "stdout",
          "text": [
            "Precision: 1.0\n",
            "Recall: 1.0\n",
            "F1 Score: 1.0\n"
          ]
        }
      ],
      "source": [
        "import pandas as pd\n",
        "import numpy as np\n",
        "from sklearn.preprocessing import LabelEncoder, StandardScaler\n",
        "from sklearn.model_selection import train_test_split, cross_val_score, GridSearchCV\n",
        "from sklearn.ensemble import RandomForestClassifier\n",
        "from sklearn.metrics import precision_score, recall_score, f1_score\n",
        "from sklearn.impute import SimpleImputer\n",
        "from sklearn.impute import KNNImputer\n",
        "\n",
        "# Leer datos desde URL\n",
        "datapath = 'https://raw.githubusercontent.com/beespinosa1/Inter/main/Escenario3.csv'\n",
        "names = ['srcip', 'sport', 'dstip', 'dsport', 'proto', 'state', 'dur', 'sbytes', 'dbytes', 'sttl', 'dttl', 'sloss', 'dloss', 'service', 'Sload', 'Dload', 'Spkts', 'Dpkts', 'swin', 'dwin', 'stcpb', 'dtcpb', 'smeansz', 'dmeansz', 'trans_depth', 'res_bdy_len', 'Sjit', 'Djit', 'Stime', 'Ltime', 'Sintpkt', 'Dintpkt', 'tcprtt', 'synack', 'ackdat', 'is_sm_ips_ports', 'ct_state_ttl', 'ct_flw_http_mthd', 'is_ftp_login', 'ct_ftp_cmd', 'ct_srv_src', 'ct_srv_dst', 'ct_dst_ltm', 'ct_src_ltm', 'ct_src_dport_ltm', 'ct_dst_sport_ltm', 'ct_dst_src_ltm', 'attack_cat', 'label']\n",
        "dataframe = pd.read_csv(datapath, names=names, low_memory=False, sep=',')\n",
        "\n",
        "# Codificar variables categóricas\n",
        "columnas_codificar = ['srcip', 'dstip', 'dsport', 'proto', 'state', 'dur', 'service', 'Sload', 'Dload', 'Sjit', 'Djit', 'Sintpkt', 'Dintpkt', 'ct_ftp_cmd', 'attack_cat']\n",
        "for col in columnas_codificar:\n",
        "    le = LabelEncoder()\n",
        "    columna_codificada = le.fit_transform(dataframe[col])\n",
        "    dataframe[col] = columna_codificada\n",
        "\n",
        "X = dataframe.iloc[:, :-1].values\n",
        "scaler = StandardScaler()\n",
        "x_normalised = scaler.fit_transform(X)\n",
        "y = dataframe['label']\n",
        "\n",
        "imputer = KNNImputer(n_neighbors=5)\n",
        "X_train_imputed = imputer.fit_transform(x_normalised)\n",
        "\n",
        "# Imputar los valores faltantes con la media de cada columna\n",
        "imputer = SimpleImputer(strategy='mean')\n",
        "X_imputed = imputer.fit_transform(X)\n",
        "\n",
        "# Convertir el resultado a un DataFrame de pandas\n",
        "X = pd.DataFrame(X_imputed, columns=dataframe.columns[:-1])\n",
        "\n",
        "y = dataframe['label']\n",
        "\n",
        "# Dividir datos en entrenamiento y prueba\n",
        "X_train, X_test, y_train, y_test = train_test_split(X, y, test_size=0.2, random_state=42)\n",
        "\n",
        "scaler = StandardScaler()\n",
        "X_train_normalised = scaler.fit_transform(X_train)\n",
        "X_test_normalised = scaler.transform(X_test)\n",
        "\n",
        "imputer = KNNImputer(n_neighbors=5)\n",
        "X_train_imputed = imputer.fit_transform(X_train_normalised)\n",
        "X_test_imputed = imputer.transform(X_test_normalised)\n",
        "\n",
        "# Definir hiperparámetros para grid search\n",
        "param_grid = {\n",
        "    'n_estimators': [10, 50, 100],\n",
        "    'max_features': ['sqrt', 'log2'],\n",
        "    'max_depth': [2, 4, 6, 8],\n",
        "    'min_samples_split': [2, 5, 10],\n",
        "    'random_state': [42],\n",
        "}\n",
        "\n",
        "# Realizar grid search y cross validation\n",
        "rf = RandomForestClassifier(random_state=42)\n",
        "rf_cv = GridSearchCV(rf, param_grid, cv=5)\n",
        "rf_cv.fit(X_train_imputed, y_train)\n",
        "\n",
        "# Obtener resultados\n",
        "y_pred = rf_cv.predict(X_test_imputed)\n",
        "precision = precision_score(y_test, y_pred)\n",
        "recall = recall_score(y_test, y_pred)\n",
        "f1 = f1_score(y_test, y_pred)\n",
        "scores = cross_val_score(rf_cv.best_estimator_, X_train_imputed, y_train, cv=5)\n",
        "\n",
        "# Imprimir resultados\n",
        "print('Precision:', np.mean(precision))\n",
        "print('Recall:', np.mean(recall))\n",
        "print('F1 Score:', np.mean(f1))\n",
        "\n"
      ]
    }
  ]
}