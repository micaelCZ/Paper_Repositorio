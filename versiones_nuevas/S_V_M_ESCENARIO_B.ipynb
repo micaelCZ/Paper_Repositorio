{
  "nbformat": 4,
  "nbformat_minor": 0,
  "metadata": {
    "colab": {
      "provenance": []
    },
    "kernelspec": {
      "name": "python3",
      "display_name": "Python 3"
    },
    "language_info": {
      "name": "python"
    }
  },
  "cells": [
    {
      "cell_type": "code",
      "execution_count": 1,
      "metadata": {
        "id": "pVbC9AvqHwJM",
        "colab": {
          "base_uri": "https://localhost:8080/"
        },
        "outputId": "23e04cf7-f5a5-4238-8dc4-1dfca955f921"
      },
      "outputs": [
        {
          "output_type": "stream",
          "name": "stdout",
          "text": [
            "Resultados de validación cruzada con One-vs-One (OvO) - kernel linear:\n",
            "Accuracy: 59.07%\n",
            "Precision: 59.07%\n",
            "Recall: 59.07%\n",
            "F1-score: 59.07%\n"
          ]
        }
      ],
      "source": [
        "#Librerias\n",
        "import pandas as pd\n",
        "import numpy as np\n",
        "from sklearn.model_selection import train_test_split\n",
        "from sklearn.impute import SimpleImputer\n",
        "from sklearn.preprocessing import StandardScaler\n",
        "from sklearn.svm import SVC\n",
        "from sklearn.metrics import precision_recall_fscore_support\n",
        "from sklearn.model_selection import cross_validate\n",
        "# Cargar los datos\n",
        "url = 'https://raw.githubusercontent.com/jonathan-elian-toapanta/INTERNETWORKING/main/ESCENARIOS/ScenarioB.csv'\n",
        "df = pd.read_csv(url, low_memory=False)\n",
        "y = df['label']\n",
        "label_map = {'AUDIO': 0, 'BROWSING': 1, 'CHAT': 2, 'FILE-TRANSFER': 3, 'MAIL': 4, 'P2P': 5, 'VIDEO': 6, 'VOIP': 7}\n",
        "change_labels = lambda x: label_map[x] if x in label_map else -1\n",
        "y = df['label'].apply(change_labels)\n",
        "X = df.iloc[:, 4:-1]\n",
        "# Normalizar los datos\n",
        "def dfNormalize(df):\n",
        "    for feature_name in df.columns:\n",
        "        df.loc[:, feature_name] = pd.to_numeric(df.loc[:, feature_name], errors='coerce').fillna(0)\n",
        "        max_value = df[feature_name].max()\n",
        "        min_value = df[feature_name].min()   \n",
        "        if (max_value - min_value) > 0:\n",
        "            df.loc[:, feature_name] = (df.loc[:, feature_name] - min_value) / (max_value - min_value)\n",
        "        else:\n",
        "            df.loc[:, feature_name] = (df.loc[:, feature_name] - min_value)    \n",
        "    return df\n",
        "\n",
        "X = dfNormalize(X)\n",
        "X_train, X_test, y_train, y_test = train_test_split(X, y, test_size=0.2, random_state=42, stratify=y)\n",
        "\n",
        "imputer = SimpleImputer(strategy='median')\n",
        "X_train_imputed = imputer.fit_transform(X_train)\n",
        "X_test_imputed = imputer.transform(X_test)\n",
        "\n",
        "scaler = StandardScaler()\n",
        "X_train_scaled = scaler.fit_transform(X_train_imputed)\n",
        "X_test_scaled = scaler.transform(X_test_imputed)\n",
        "# Entrenar un modelo SVM utilizando SVC de sklearn con One-vs-One (OvO)\n",
        "ovo_svm_linear = SVC(kernel='linear', C=0.1, random_state=42, decision_function_shape='ovo')\n",
        "ovo_scores_linear = cross_validate(ovo_svm_linear, X_train_scaled, y_train, cv=5, scoring=['accuracy', 'precision_micro', 'recall_micro', 'f1_micro'])\n",
        "\n",
        "ovo_svm_poly = SVC(kernel='poly', degree=3, C=0.1, random_state=42, decision_function_shape='ovo')\n",
        "ovo_scores_poly = cross_validate(ovo_svm_poly, X_train_scaled, y_train, cv=5, scoring=['accuracy', 'precision_micro', 'recall_micro', 'f1_micro'])\n",
        "\n",
        "ovo_svm_rbf = SVC(kernel='rbf', C=0.1, random_state=42, decision_function_shape='ovo')\n",
        "ovo_scores_rbf = cross_validate(ovo_svm_rbf, X_train_scaled, y_train, cv=5, scoring=['accuracy', 'precision_micro', 'recall_micro', 'f1_micro'])\n",
        "\n",
        "ovo_svm_sigmoid = SVC(kernel='sigmoid', C=0.1, random_state=42, decision_function_shape='ovo')\n",
        "ovo_scores_sigmoid = cross_validate(ovo_svm_sigmoid, X_train_scaled, y_train, cv=5, scoring=['accuracy', 'precision_micro', 'recall_micro', 'f1_micro'])\n",
        "\n",
        "# **Escenario B KERNEL=LINEAR**\n",
        "\n",
        "# Imprimir resultados de validación cruzada con OvO - Kernel Linear\n",
        "print('Resultados de validación cruzada con One-vs-One (OvO) - kernel linear:')\n",
        "print('Accuracy: {:.2f}%'.format(ovo_scores_linear['test_accuracy'].mean() * 100))\n",
        "print('Precision: {:.2f}%'.format(ovo_scores_linear['test_precision_micro'].mean() * 100))\n",
        "print('Recall: {:.2f}%'.format(ovo_scores_linear['test_recall_micro'].mean() * 100))\n",
        "print('F1-score: {:.2f}%'.format(ovo_scores_linear['test_f1_micro'].mean() * 100))"
      ]
    },
    {
      "cell_type": "markdown",
      "source": [
        "# **Escenario B KERNEL=POLY**\n"
      ],
      "metadata": {
        "id": "yNyAwc87rGoS"
      }
    },
    {
      "cell_type": "code",
      "source": [
        "# Imprimir resultados de validación cruzada con OvO - Kernel Poly\n",
        "print('Resultados de validación cruzada con One-vs-One (OvO) - kernel poly:')\n",
        "print('Accuracy: {:.2f}%'.format(ovo_scores_poly['test_accuracy'].mean() * 100))\n",
        "print('Precision: {:.2f}%'.format(ovo_scores_poly['test_precision_micro'].mean() * 100))\n",
        "print('Recall: {:.2f}%'.format(ovo_scores_poly['test_recall_micro'].mean() * 100))\n",
        "print('F1-score: {:.2f}%'.format(ovo_scores_poly['test_f1_micro'].mean() * 100))"
      ],
      "metadata": {
        "colab": {
          "base_uri": "https://localhost:8080/"
        },
        "id": "fja8vqdPrGwz",
        "outputId": "0ef12b80-3555-4322-a6a1-48da2e0bf0a7"
      },
      "execution_count": 2,
      "outputs": [
        {
          "output_type": "stream",
          "name": "stdout",
          "text": [
            "Resultados de validación cruzada con One-vs-One (OvO) - kernel poly:\n",
            "Accuracy: 34.44%\n",
            "Precision: 34.44%\n",
            "Recall: 34.44%\n",
            "F1-score: 34.44%\n"
          ]
        }
      ]
    },
    {
      "cell_type": "markdown",
      "source": [
        "# **Escenario A KERNEL= SIGMOID**\n"
      ],
      "metadata": {
        "id": "smJwFgC9rG5q"
      }
    },
    {
      "cell_type": "code",
      "source": [
        "# Imprimir resultados de validación cruzada con OvO - Kernel Sigmoid\n",
        "print('Resultados de validación cruzada con One-vs-One (OvO) - kernel sigmoid:')\n",
        "print('Accuracy: {:.2f}%'.format(ovo_scores_sigmoid['test_accuracy'].mean() * 100))\n",
        "print('Precision: {:.2f}%'.format(ovo_scores_sigmoid['test_precision_micro'].mean() * 100))\n",
        "print('Recall: {:.2f}%'.format(ovo_scores_sigmoid['test_recall_micro'].mean() * 100))\n",
        "print('F1-score: {:.2f}%'.format(ovo_scores_sigmoid['test_f1_micro'].mean() * 100))"
      ],
      "metadata": {
        "colab": {
          "base_uri": "https://localhost:8080/"
        },
        "id": "3FcVz4nrrHC8",
        "outputId": "353a5e08-946a-4026-cb45-367bee0f449e"
      },
      "execution_count": 3,
      "outputs": [
        {
          "output_type": "stream",
          "name": "stdout",
          "text": [
            "Resultados de validación cruzada con One-vs-One (OvO) - kernel sigmoid:\n",
            "Accuracy: 42.49%\n",
            "Precision: 42.49%\n",
            "Recall: 42.49%\n",
            "F1-score: 42.49%\n"
          ]
        }
      ]
    },
    {
      "cell_type": "markdown",
      "source": [
        "# **Escenario A KERNEL= RBF**"
      ],
      "metadata": {
        "id": "1QaOiMsmrraK"
      }
    },
    {
      "cell_type": "code",
      "source": [
        "# Imprimir resultados de validación cruzada con OvO - Kernel Rbf\n",
        "print('Resultados de validación cruzada con One-vs-One (OvO) - kernel rbf:')\n",
        "print('Accuracy: {:.2f}%'.format(ovo_scores_rbf['test_accuracy'].mean() * 100))\n",
        "print('Precision: {:.2f}%'.format(ovo_scores_rbf['test_precision_micro'].mean() * 100))\n",
        "print('Recall: {:.2f}%'.format(ovo_scores_rbf['test_recall_micro'].mean() * 100))\n",
        "print('F1-score: {:.2f}%'.format(ovo_scores_rbf['test_f1_micro'].mean() * 100))"
      ],
      "metadata": {
        "colab": {
          "base_uri": "https://localhost:8080/"
        },
        "id": "KtNyR9jmrqgD",
        "outputId": "055e1cf1-e325-4a5e-88b4-22109434a5de"
      },
      "execution_count": 4,
      "outputs": [
        {
          "output_type": "stream",
          "name": "stdout",
          "text": [
            "Resultados de validación cruzada con One-vs-One (OvO) - kernel rbf:\n",
            "Accuracy: 46.88%\n",
            "Precision: 46.88%\n",
            "Recall: 46.88%\n",
            "F1-score: 46.88%\n"
          ]
        }
      ]
    }
  ]
}