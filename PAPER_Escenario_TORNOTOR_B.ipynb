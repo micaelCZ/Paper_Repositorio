{
  "cells": [
    {
      "cell_type": "markdown",
      "metadata": {
        "id": "view-in-github",
        "colab_type": "text"
      },
      "source": [
        "<a href=\"https://colab.research.google.com/github/micaelCZ/Paper_Repositorio/blob/main/PAPER_Escenario_TORNOTOR_B.ipynb\" target=\"_parent\"><img src=\"https://colab.research.google.com/assets/colab-badge.svg\" alt=\"Open In Colab\"/></a>"
      ]
    },
    {
      "cell_type": "markdown",
      "metadata": {
        "id": "UAUBuFzeKamC"
      },
      "source": [
        "# Escenario TORNOTOR B\n",
        "\n",
        "\n",
        "\n"
      ]
    },
    {
      "cell_type": "code",
      "execution_count": 14,
      "metadata": {
        "id": "Y3f1OW0OKlqK"
      },
      "outputs": [],
      "source": [
        "#Librerias\n",
        "import pandas as pd\n",
        "import numpy as np\n",
        "from sklearn.model_selection import train_test_split\n",
        "from sklearn.impute import SimpleImputer\n",
        "from sklearn.preprocessing import StandardScaler\n",
        "from sklearn.svm import SVC\n",
        "from sklearn.metrics import precision_recall_fscore_support\n",
        "from sklearn.model_selection import cross_validate"
      ]
    },
    {
      "cell_type": "code",
      "execution_count": 15,
      "metadata": {
        "id": "Vy1xiOt5KZMr"
      },
      "outputs": [],
      "source": [
        "# Cargar los datos\n",
        "url = 'https://raw.githubusercontent.com/micaelCZ/Paper_Repositorio/main/dataset/datasetPreprocesado/Escenario2.csv'\n",
        "df = pd.read_csv(url, low_memory=False)\n",
        "y = df['label']\n",
        "label_map = {'AUDIO': 0, 'BROWSING': 1, 'CHAT': 2, 'FILE-TRANSFER': 3, 'MAIL': 4, 'P2P': 5, 'VIDEO': 6, 'VOIP': 7}\n",
        "change_labels = lambda x: label_map[x] if x in label_map else -1\n",
        "y = df['label'].apply(change_labels)\n",
        "X = df.iloc[:, 4:-1]"
      ]
    },
    {
      "cell_type": "code",
      "execution_count": 16,
      "metadata": {
        "id": "eElZHZYY4DMp"
      },
      "outputs": [],
      "source": [
        "# Normalizar los datos\n",
        "def dfNormalize(df):\n",
        "    for feature_name in df.columns:\n",
        "        df.loc[:, feature_name] = pd.to_numeric(df.loc[:, feature_name], errors='coerce').fillna(0)\n",
        "        max_value = df[feature_name].max()\n",
        "        min_value = df[feature_name].min()   \n",
        "        if (max_value - min_value) > 0:\n",
        "            df.loc[:, feature_name] = (df.loc[:, feature_name] - min_value) / (max_value - min_value)\n",
        "        else:\n",
        "            df.loc[:, feature_name] = (df.loc[:, feature_name] - min_value)    \n",
        "    return df\n",
        "\n",
        "X = dfNormalize(X)\n",
        "X_train, X_test, y_train, y_test = train_test_split(X, y, test_size=0.2, random_state=42, stratify=y)\n",
        "\n",
        "imputer = SimpleImputer(strategy='median')\n",
        "X_train_imputed = imputer.fit_transform(X_train)\n",
        "X_test_imputed = imputer.transform(X_test)\n",
        "\n",
        "scaler = StandardScaler()\n",
        "X_train_scaled = scaler.fit_transform(X_train_imputed)\n",
        "X_test_scaled = scaler.transform(X_test_imputed)"
      ]
    },
    {
      "cell_type": "code",
      "execution_count": 9,
      "metadata": {
        "id": "ELDexuNgKmeR"
      },
      "outputs": [],
      "source": [
        "# Entrenar un modelo SVM utilizando SVC de sklearn con One-vs-One (OvO)\n",
        "ovo_svm_linear = SVC(kernel='linear', C=0.1, random_state=42, decision_function_shape='ovo')\n",
        "ovo_scores_linear = cross_validate(ovo_svm_linear, X_train_scaled, y_train, cv=5, scoring=['accuracy', 'precision_micro', 'recall_micro', 'f1_micro'])\n",
        "\n",
        "ovo_svm_poly = SVC(kernel='poly', degree=3, C=0.1, random_state=42, decision_function_shape='ovo')\n",
        "ovo_scores_poly = cross_validate(ovo_svm_poly, X_train_scaled, y_train, cv=5, scoring=['accuracy', 'precision_micro', 'recall_micro', 'f1_micro'])\n",
        "\n",
        "ovo_svm_rbf = SVC(kernel='rbf', C=0.1, random_state=42, decision_function_shape='ovo')\n",
        "ovo_scores_rbf = cross_validate(ovo_svm_rbf, X_train_scaled, y_train, cv=5, scoring=['accuracy', 'precision_micro', 'recall_micro', 'f1_micro'])\n",
        "\n",
        "ovo_svm_sigmoid = SVC(kernel='sigmoid', C=0.1, random_state=42, decision_function_shape='ovo')\n",
        "ovo_scores_sigmoid = cross_validate(ovo_svm_sigmoid, X_train_scaled, y_train, cv=5, scoring=['accuracy', 'precision_micro', 'recall_micro', 'f1_micro'])"
      ]
    },
    {
      "cell_type": "code",
      "execution_count": 10,
      "metadata": {
        "id": "kt8AwIBNK8gE",
        "colab": {
          "base_uri": "https://localhost:8080/"
        },
        "outputId": "071b38e3-b877-4653-831a-2461d7cb898c"
      },
      "outputs": [
        {
          "output_type": "stream",
          "name": "stdout",
          "text": [
            "Resultados de validación cruzada con One-vs-One (OvO) - kernel linear:\n",
            "Accuracy: 59.07%\n",
            "Precision: 59.07%\n",
            "Recall: 59.07%\n",
            "F1-score: 59.07%\n"
          ]
        }
      ],
      "source": [
        "# Imprimir resultados de validación cruzada con OvO - Kernel Linear\n",
        "print('Resultados de validación cruzada con One-vs-One (OvO) - kernel linear:')\n",
        "print('Accuracy: {:.2f}%'.format(ovo_scores_linear['test_accuracy'].mean() * 100))\n",
        "print('Precision: {:.2f}%'.format(ovo_scores_linear['test_precision_micro'].mean() * 100))\n",
        "print('Recall: {:.2f}%'.format(ovo_scores_linear['test_recall_micro'].mean() * 100))\n",
        "print('F1-score: {:.2f}%'.format(ovo_scores_linear['test_f1_micro'].mean() * 100))"
      ]
    },
    {
      "cell_type": "code",
      "execution_count": 11,
      "metadata": {
        "id": "ksTGZ7VoLi1K",
        "colab": {
          "base_uri": "https://localhost:8080/"
        },
        "outputId": "c15d508c-e3ff-414f-90a6-8e9bf345c2df"
      },
      "outputs": [
        {
          "output_type": "stream",
          "name": "stdout",
          "text": [
            "Resultados de validación cruzada con One-vs-One (OvO) - kernel poly:\n",
            "Accuracy: 34.44%\n",
            "Precision: 34.44%\n",
            "Recall: 34.44%\n",
            "F1-score: 34.44%\n"
          ]
        }
      ],
      "source": [
        "# Imprimir resultados de validación cruzada con OvO - Kernel Poly\n",
        "print('Resultados de validación cruzada con One-vs-One (OvO) - kernel poly:')\n",
        "print('Accuracy: {:.2f}%'.format(ovo_scores_poly['test_accuracy'].mean() * 100))\n",
        "print('Precision: {:.2f}%'.format(ovo_scores_poly['test_precision_micro'].mean() * 100))\n",
        "print('Recall: {:.2f}%'.format(ovo_scores_poly['test_recall_micro'].mean() * 100))\n",
        "print('F1-score: {:.2f}%'.format(ovo_scores_poly['test_f1_micro'].mean() * 100))"
      ]
    },
    {
      "cell_type": "code",
      "execution_count": 12,
      "metadata": {
        "colab": {
          "base_uri": "https://localhost:8080/"
        },
        "id": "QdAUF4ZC4DMw",
        "outputId": "b1f4e083-72aa-4b9e-eb4c-0e1df0b11636"
      },
      "outputs": [
        {
          "output_type": "stream",
          "name": "stdout",
          "text": [
            "Resultados de validación cruzada con One-vs-One (OvO) - kernel rbf:\n",
            "Accuracy: 46.88%\n",
            "Precision: 46.88%\n",
            "Recall: 46.88%\n",
            "F1-score: 46.88%\n"
          ]
        }
      ],
      "source": [
        "# Imprimir resultados de validación cruzada con OvO - Kernel Rbf\n",
        "print('Resultados de validación cruzada con One-vs-One (OvO) - kernel rbf:')\n",
        "print('Accuracy: {:.2f}%'.format(ovo_scores_rbf['test_accuracy'].mean() * 100))\n",
        "print('Precision: {:.2f}%'.format(ovo_scores_rbf['test_precision_micro'].mean() * 100))\n",
        "print('Recall: {:.2f}%'.format(ovo_scores_rbf['test_recall_micro'].mean() * 100))\n",
        "print('F1-score: {:.2f}%'.format(ovo_scores_rbf['test_f1_micro'].mean() * 100))"
      ]
    },
    {
      "cell_type": "code",
      "execution_count": 13,
      "metadata": {
        "colab": {
          "base_uri": "https://localhost:8080/"
        },
        "id": "2FGNYPOA4DMy",
        "outputId": "7c5637a3-c5ee-4a30-f146-bff8f2ad582d"
      },
      "outputs": [
        {
          "output_type": "stream",
          "name": "stdout",
          "text": [
            "Resultados de validación cruzada con One-vs-One (OvO) - kernel sigmoid:\n",
            "Accuracy: 42.49%\n",
            "Precision: 42.49%\n",
            "Recall: 42.49%\n",
            "F1-score: 42.49%\n"
          ]
        }
      ],
      "source": [
        "# Imprimir resultados de validación cruzada con OvO - Kernel Sigmoid\n",
        "print('Resultados de validación cruzada con One-vs-One (OvO) - kernel sigmoid:')\n",
        "print('Accuracy: {:.2f}%'.format(ovo_scores_sigmoid['test_accuracy'].mean() * 100))\n",
        "print('Precision: {:.2f}%'.format(ovo_scores_sigmoid['test_precision_micro'].mean() * 100))\n",
        "print('Recall: {:.2f}%'.format(ovo_scores_sigmoid['test_recall_micro'].mean() * 100))\n",
        "print('F1-score: {:.2f}%'.format(ovo_scores_sigmoid['test_f1_micro'].mean() * 100))"
      ]
    }
  ],
  "metadata": {
    "colab": {
      "provenance": [],
      "include_colab_link": true
    },
    "kernelspec": {
      "display_name": "Python 3 (ipykernel)",
      "language": "python",
      "name": "python3"
    },
    "language_info": {
      "codemirror_mode": {
        "name": "ipython",
        "version": 3
      },
      "file_extension": ".py",
      "mimetype": "text/x-python",
      "name": "python",
      "nbconvert_exporter": "python",
      "pygments_lexer": "ipython3",
      "version": "3.9.13"
    }
  },
  "nbformat": 4,
  "nbformat_minor": 0
}